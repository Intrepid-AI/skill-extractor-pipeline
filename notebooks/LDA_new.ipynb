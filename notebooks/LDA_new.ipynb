{
  "cells": [
    {
      "cell_type": "markdown",
      "metadata": {
        "id": "ZrEJv-4HJ03h"
      },
      "source": [
        "## try"
      ]
    },
    {
      "cell_type": "code",
      "execution_count": 1,
      "metadata": {},
      "outputs": [
        {
          "name": "stdout",
          "output_type": "stream",
          "text": [
            "hello\n"
          ]
        }
      ],
      "source": [
        "print('hello')"
      ]
    },
    {
      "cell_type": "code",
      "execution_count": 1,
      "metadata": {
        "id": "klYLIfg3apWF"
      },
      "outputs": [
        {
          "ename": "TypeError",
          "evalue": "issubclass() arg 1 must be a class",
          "output_type": "error",
          "traceback": [
            "\u001b[1;31m---------------------------------------------------------------------------\u001b[0m",
            "\u001b[1;31mTypeError\u001b[0m                                 Traceback (most recent call last)",
            "Cell \u001b[1;32mIn[1], line 1\u001b[0m\n\u001b[1;32m----> 1\u001b[0m \u001b[39mimport\u001b[39;00m \u001b[39mspacy\u001b[39;00m\n",
            "File \u001b[1;32mc:\\Users\\Z004ET6Z\\Anaconda3\\envs\\skill_extractor\\lib\\site-packages\\spacy\\__init__.py:14\u001b[0m\n\u001b[0;32m     11\u001b[0m \u001b[39mfrom\u001b[39;00m \u001b[39mthinc\u001b[39;00m\u001b[39m.\u001b[39;00m\u001b[39mapi\u001b[39;00m \u001b[39mimport\u001b[39;00m prefer_gpu, require_gpu, require_cpu  \u001b[39m# noqa: F401\u001b[39;00m\n\u001b[0;32m     12\u001b[0m \u001b[39mfrom\u001b[39;00m \u001b[39mthinc\u001b[39;00m\u001b[39m.\u001b[39;00m\u001b[39mapi\u001b[39;00m \u001b[39mimport\u001b[39;00m Config\n\u001b[1;32m---> 14\u001b[0m \u001b[39mfrom\u001b[39;00m \u001b[39m.\u001b[39;00m \u001b[39mimport\u001b[39;00m pipeline  \u001b[39m# noqa: F401\u001b[39;00m\n\u001b[0;32m     15\u001b[0m \u001b[39mfrom\u001b[39;00m \u001b[39m.\u001b[39;00m\u001b[39mcli\u001b[39;00m\u001b[39m.\u001b[39;00m\u001b[39minfo\u001b[39;00m \u001b[39mimport\u001b[39;00m info  \u001b[39m# noqa: F401\u001b[39;00m\n\u001b[0;32m     16\u001b[0m \u001b[39mfrom\u001b[39;00m \u001b[39m.\u001b[39;00m\u001b[39mglossary\u001b[39;00m \u001b[39mimport\u001b[39;00m explain  \u001b[39m# noqa: F401\u001b[39;00m\n",
            "File \u001b[1;32mc:\\Users\\Z004ET6Z\\Anaconda3\\envs\\skill_extractor\\lib\\site-packages\\spacy\\pipeline\\__init__.py:1\u001b[0m\n\u001b[1;32m----> 1\u001b[0m \u001b[39mfrom\u001b[39;00m \u001b[39m.\u001b[39;00m\u001b[39mattributeruler\u001b[39;00m \u001b[39mimport\u001b[39;00m AttributeRuler\n\u001b[0;32m      2\u001b[0m \u001b[39mfrom\u001b[39;00m \u001b[39m.\u001b[39;00m\u001b[39mdep_parser\u001b[39;00m \u001b[39mimport\u001b[39;00m DependencyParser\n\u001b[0;32m      3\u001b[0m \u001b[39mfrom\u001b[39;00m \u001b[39m.\u001b[39;00m\u001b[39medit_tree_lemmatizer\u001b[39;00m \u001b[39mimport\u001b[39;00m EditTreeLemmatizer\n",
            "File \u001b[1;32mc:\\Users\\Z004ET6Z\\Anaconda3\\envs\\skill_extractor\\lib\\site-packages\\spacy\\pipeline\\attributeruler.py:6\u001b[0m\n\u001b[0;32m      3\u001b[0m \u001b[39mimport\u001b[39;00m \u001b[39msrsly\u001b[39;00m\n\u001b[0;32m      4\u001b[0m \u001b[39mfrom\u001b[39;00m \u001b[39mpathlib\u001b[39;00m \u001b[39mimport\u001b[39;00m Path\n\u001b[1;32m----> 6\u001b[0m \u001b[39mfrom\u001b[39;00m \u001b[39m.\u001b[39;00m\u001b[39mpipe\u001b[39;00m \u001b[39mimport\u001b[39;00m Pipe\n\u001b[0;32m      7\u001b[0m \u001b[39mfrom\u001b[39;00m \u001b[39m.\u001b[39;00m\u001b[39m.\u001b[39;00m\u001b[39merrors\u001b[39;00m \u001b[39mimport\u001b[39;00m Errors\n\u001b[0;32m      8\u001b[0m \u001b[39mfrom\u001b[39;00m \u001b[39m.\u001b[39;00m\u001b[39m.\u001b[39;00m\u001b[39mtraining\u001b[39;00m \u001b[39mimport\u001b[39;00m Example\n",
            "File \u001b[1;32mc:\\Users\\Z004ET6Z\\Anaconda3\\envs\\skill_extractor\\lib\\site-packages\\spacy\\pipeline\\pipe.pyx:1\u001b[0m, in \u001b[0;36minit spacy.pipeline.pipe\u001b[1;34m()\u001b[0m\n",
            "File \u001b[1;32mc:\\Users\\Z004ET6Z\\Anaconda3\\envs\\skill_extractor\\lib\\site-packages\\spacy\\vocab.pyx:1\u001b[0m, in \u001b[0;36minit spacy.vocab\u001b[1;34m()\u001b[0m\n",
            "File \u001b[1;32mc:\\Users\\Z004ET6Z\\Anaconda3\\envs\\skill_extractor\\lib\\site-packages\\spacy\\tokens\\__init__.py:1\u001b[0m\n\u001b[1;32m----> 1\u001b[0m \u001b[39mfrom\u001b[39;00m \u001b[39m.\u001b[39;00m\u001b[39mdoc\u001b[39;00m \u001b[39mimport\u001b[39;00m Doc\n\u001b[0;32m      2\u001b[0m \u001b[39mfrom\u001b[39;00m \u001b[39m.\u001b[39;00m\u001b[39mtoken\u001b[39;00m \u001b[39mimport\u001b[39;00m Token\n\u001b[0;32m      3\u001b[0m \u001b[39mfrom\u001b[39;00m \u001b[39m.\u001b[39;00m\u001b[39mspan\u001b[39;00m \u001b[39mimport\u001b[39;00m Span\n",
            "File \u001b[1;32mc:\\Users\\Z004ET6Z\\Anaconda3\\envs\\skill_extractor\\lib\\site-packages\\spacy\\tokens\\doc.pyx:36\u001b[0m, in \u001b[0;36minit spacy.tokens.doc\u001b[1;34m()\u001b[0m\n",
            "File \u001b[1;32mc:\\Users\\Z004ET6Z\\Anaconda3\\envs\\skill_extractor\\lib\\site-packages\\spacy\\schemas.py:250\u001b[0m\n\u001b[0;32m    244\u001b[0m UnderscoreValue \u001b[39m=\u001b[39m Union[\n\u001b[0;32m    245\u001b[0m     TokenPatternString, TokenPatternNumber, \u001b[39mstr\u001b[39m, \u001b[39mint\u001b[39m, \u001b[39mfloat\u001b[39m, \u001b[39mlist\u001b[39m, \u001b[39mbool\u001b[39m\n\u001b[0;32m    246\u001b[0m ]\n\u001b[0;32m    247\u001b[0m IobValue \u001b[39m=\u001b[39m Literal[\u001b[39m\"\u001b[39m\u001b[39m\"\u001b[39m, \u001b[39m\"\u001b[39m\u001b[39mI\u001b[39m\u001b[39m\"\u001b[39m, \u001b[39m\"\u001b[39m\u001b[39mO\u001b[39m\u001b[39m\"\u001b[39m, \u001b[39m\"\u001b[39m\u001b[39mB\u001b[39m\u001b[39m\"\u001b[39m, \u001b[39m0\u001b[39m, \u001b[39m1\u001b[39m, \u001b[39m2\u001b[39m, \u001b[39m3\u001b[39m]\n\u001b[1;32m--> 250\u001b[0m \u001b[39mclass\u001b[39;00m \u001b[39mTokenPattern\u001b[39;00m(BaseModel):\n\u001b[0;32m    251\u001b[0m     orth: Optional[StringValue] \u001b[39m=\u001b[39m \u001b[39mNone\u001b[39;00m\n\u001b[0;32m    252\u001b[0m     text: Optional[StringValue] \u001b[39m=\u001b[39m \u001b[39mNone\u001b[39;00m\n",
            "File \u001b[1;32mc:\\Users\\Z004ET6Z\\Anaconda3\\envs\\skill_extractor\\lib\\site-packages\\pydantic\\main.py:197\u001b[0m, in \u001b[0;36mpydantic.main.ModelMetaclass.__new__\u001b[1;34m()\u001b[0m\n",
            "File \u001b[1;32mc:\\Users\\Z004ET6Z\\Anaconda3\\envs\\skill_extractor\\lib\\site-packages\\pydantic\\fields.py:506\u001b[0m, in \u001b[0;36mpydantic.fields.ModelField.infer\u001b[1;34m()\u001b[0m\n",
            "File \u001b[1;32mc:\\Users\\Z004ET6Z\\Anaconda3\\envs\\skill_extractor\\lib\\site-packages\\pydantic\\fields.py:436\u001b[0m, in \u001b[0;36mpydantic.fields.ModelField.__init__\u001b[1;34m()\u001b[0m\n",
            "File \u001b[1;32mc:\\Users\\Z004ET6Z\\Anaconda3\\envs\\skill_extractor\\lib\\site-packages\\pydantic\\fields.py:552\u001b[0m, in \u001b[0;36mpydantic.fields.ModelField.prepare\u001b[1;34m()\u001b[0m\n",
            "File \u001b[1;32mc:\\Users\\Z004ET6Z\\Anaconda3\\envs\\skill_extractor\\lib\\site-packages\\pydantic\\fields.py:661\u001b[0m, in \u001b[0;36mpydantic.fields.ModelField._type_analysis\u001b[1;34m()\u001b[0m\n",
            "File \u001b[1;32mc:\\Users\\Z004ET6Z\\Anaconda3\\envs\\skill_extractor\\lib\\site-packages\\pydantic\\fields.py:668\u001b[0m, in \u001b[0;36mpydantic.fields.ModelField._type_analysis\u001b[1;34m()\u001b[0m\n",
            "File \u001b[1;32mc:\\Users\\Z004ET6Z\\Anaconda3\\envs\\skill_extractor\\lib\\typing.py:774\u001b[0m, in \u001b[0;36m_GenericAlias.__subclasscheck__\u001b[1;34m(self, cls)\u001b[0m\n\u001b[0;32m    772\u001b[0m \u001b[39mif\u001b[39;00m \u001b[39mself\u001b[39m\u001b[39m.\u001b[39m_special:\n\u001b[0;32m    773\u001b[0m     \u001b[39mif\u001b[39;00m \u001b[39mnot\u001b[39;00m \u001b[39misinstance\u001b[39m(\u001b[39mcls\u001b[39m, _GenericAlias):\n\u001b[1;32m--> 774\u001b[0m         \u001b[39mreturn\u001b[39;00m \u001b[39missubclass\u001b[39;49m(\u001b[39mcls\u001b[39;49m, \u001b[39mself\u001b[39;49m\u001b[39m.\u001b[39;49m__origin__)\n\u001b[0;32m    775\u001b[0m     \u001b[39mif\u001b[39;00m \u001b[39mcls\u001b[39m\u001b[39m.\u001b[39m_special:\n\u001b[0;32m    776\u001b[0m         \u001b[39mreturn\u001b[39;00m \u001b[39missubclass\u001b[39m(\u001b[39mcls\u001b[39m\u001b[39m.\u001b[39m__origin__, \u001b[39mself\u001b[39m\u001b[39m.\u001b[39m__origin__)\n",
            "\u001b[1;31mTypeError\u001b[0m: issubclass() arg 1 must be a class"
          ]
        }
      ],
      "source": [
        "import spacy"
      ]
    },
    {
      "cell_type": "code",
      "execution_count": 2,
      "metadata": {
        "id": "yfThEmGnJ40V"
      },
      "outputs": [],
      "source": [
        "import gensim\n",
        "from gensim import corpora"
      ]
    },
    {
      "cell_type": "code",
      "execution_count": 3,
      "metadata": {
        "colab": {
          "base_uri": "https://localhost:8080/",
          "height": 797
        },
        "id": "CT-Aspe4KHsx",
        "outputId": "d5e0bba4-afab-48ee-cfe9-ebefd632229b"
      },
      "outputs": [
        {
          "name": "stdout",
          "output_type": "stream",
          "text": [
            "Looking in indexes: https://pypi.org/simple, https://us-python.pkg.dev/colab-wheels/public/simple/\n",
            "Collecting pyLDAvis\n",
            "  Downloading pyLDAvis-3.4.1-py3-none-any.whl (2.6 MB)\n",
            "\u001b[2K     \u001b[90m━━━━━━━━━━━━━━━━━━━━━━━━━━━━━━━━━━━━━━━━\u001b[0m \u001b[32m2.6/2.6 MB\u001b[0m \u001b[31m26.3 MB/s\u001b[0m eta \u001b[36m0:00:00\u001b[0m\n",
            "\u001b[?25hCollecting numpy>=1.24.2 (from pyLDAvis)\n",
            "  Downloading numpy-1.24.3-cp310-cp310-manylinux_2_17_x86_64.manylinux2014_x86_64.whl (17.3 MB)\n",
            "\u001b[2K     \u001b[90m━━━━━━━━━━━━━━━━━━━━━━━━━━━━━━━━━━━━━━━━\u001b[0m \u001b[32m17.3/17.3 MB\u001b[0m \u001b[31m38.3 MB/s\u001b[0m eta \u001b[36m0:00:00\u001b[0m\n",
            "\u001b[?25hRequirement already satisfied: scipy in /usr/local/lib/python3.10/dist-packages (from pyLDAvis) (1.10.1)\n",
            "Collecting pandas>=2.0.0 (from pyLDAvis)\n",
            "  Downloading pandas-2.0.1-cp310-cp310-manylinux_2_17_x86_64.manylinux2014_x86_64.whl (12.3 MB)\n",
            "\u001b[2K     \u001b[90m━━━━━━━━━━━━━━━━━━━━━━━━━━━━━━━━━━━━━━━━\u001b[0m \u001b[32m12.3/12.3 MB\u001b[0m \u001b[31m31.9 MB/s\u001b[0m eta \u001b[36m0:00:00\u001b[0m\n",
            "\u001b[?25hRequirement already satisfied: joblib>=1.2.0 in /usr/local/lib/python3.10/dist-packages (from pyLDAvis) (1.2.0)\n",
            "Requirement already satisfied: jinja2 in /usr/local/lib/python3.10/dist-packages (from pyLDAvis) (3.1.2)\n",
            "Requirement already satisfied: numexpr in /usr/local/lib/python3.10/dist-packages (from pyLDAvis) (2.8.4)\n",
            "Collecting funcy (from pyLDAvis)\n",
            "  Downloading funcy-2.0-py2.py3-none-any.whl (30 kB)\n",
            "Requirement already satisfied: scikit-learn>=1.0.0 in /usr/local/lib/python3.10/dist-packages (from pyLDAvis) (1.2.2)\n",
            "Requirement already satisfied: gensim in /usr/local/lib/python3.10/dist-packages (from pyLDAvis) (4.3.1)\n",
            "Requirement already satisfied: setuptools in /usr/local/lib/python3.10/dist-packages (from pyLDAvis) (67.7.2)\n",
            "Requirement already satisfied: python-dateutil>=2.8.2 in /usr/local/lib/python3.10/dist-packages (from pandas>=2.0.0->pyLDAvis) (2.8.2)\n",
            "Requirement already satisfied: pytz>=2020.1 in /usr/local/lib/python3.10/dist-packages (from pandas>=2.0.0->pyLDAvis) (2022.7.1)\n",
            "Requirement already satisfied: tzdata>=2022.1 in /usr/local/lib/python3.10/dist-packages (from pandas>=2.0.0->pyLDAvis) (2023.3)\n",
            "Requirement already satisfied: threadpoolctl>=2.0.0 in /usr/local/lib/python3.10/dist-packages (from scikit-learn>=1.0.0->pyLDAvis) (3.1.0)\n",
            "Requirement already satisfied: smart-open>=1.8.1 in /usr/local/lib/python3.10/dist-packages (from gensim->pyLDAvis) (6.3.0)\n",
            "Requirement already satisfied: MarkupSafe>=2.0 in /usr/local/lib/python3.10/dist-packages (from jinja2->pyLDAvis) (2.1.2)\n",
            "Requirement already satisfied: six>=1.5 in /usr/local/lib/python3.10/dist-packages (from python-dateutil>=2.8.2->pandas>=2.0.0->pyLDAvis) (1.16.0)\n",
            "Installing collected packages: funcy, numpy, pandas, pyLDAvis\n",
            "  Attempting uninstall: numpy\n",
            "    Found existing installation: numpy 1.22.4\n",
            "    Uninstalling numpy-1.22.4:\n",
            "      Successfully uninstalled numpy-1.22.4\n",
            "  Attempting uninstall: pandas\n",
            "    Found existing installation: pandas 1.5.3\n",
            "    Uninstalling pandas-1.5.3:\n",
            "      Successfully uninstalled pandas-1.5.3\n",
            "\u001b[31mERROR: pip's dependency resolver does not currently take into account all the packages that are installed. This behaviour is the source of the following dependency conflicts.\n",
            "google-colab 1.0.0 requires pandas==1.5.3, but you have pandas 2.0.1 which is incompatible.\n",
            "numba 0.56.4 requires numpy<1.24,>=1.18, but you have numpy 1.24.3 which is incompatible.\n",
            "tensorflow 2.12.0 requires numpy<1.24,>=1.22, but you have numpy 1.24.3 which is incompatible.\u001b[0m\u001b[31m\n",
            "\u001b[0mSuccessfully installed funcy-2.0 numpy-1.24.3 pandas-2.0.1 pyLDAvis-3.4.1\n"
          ]
        },
        {
          "data": {
            "application/vnd.colab-display-data+json": {
              "pip_warning": {
                "packages": [
                  "numpy",
                  "pandas"
                ]
              }
            }
          },
          "metadata": {},
          "output_type": "display_data"
        }
      ],
      "source": [
        "!pip install pyLDAvis"
      ]
    },
    {
      "cell_type": "code",
      "execution_count": 4,
      "metadata": {
        "id": "faHFdDEGJ8Ok"
      },
      "outputs": [],
      "source": [
        "from spacy import displacy\n",
        "import pyLDAvis.gensim_models\n",
        "from wordcloud import WordCloud\n",
        "import plotly.express as px\n",
        "import matplotlib.pyplot as plt"
      ]
    },
    {
      "cell_type": "code",
      "execution_count": 5,
      "metadata": {
        "colab": {
          "base_uri": "https://localhost:8080/"
        },
        "id": "hYxI6ETyKYPo",
        "outputId": "660e694d-83a8-4c86-bd30-2f0d616de9e5"
      },
      "outputs": [
        {
          "name": "stderr",
          "output_type": "stream",
          "text": [
            "/usr/local/lib/python3.10/dist-packages/ipykernel/ipkernel.py:283: DeprecationWarning: `should_run_async` will not call `transform_cell` automatically in the future. Please pass the result to `transformed_cell` argument and any exception that happen during thetransform in `preprocessing_exc_tuple` in IPython 7.17 and above.\n",
            "  and should_run_async(code)\n"
          ]
        },
        {
          "name": "stdout",
          "output_type": "stream",
          "text": [
            "Looking in indexes: https://pypi.org/simple, https://us-python.pkg.dev/colab-wheels/public/simple/\n",
            "Collecting jsonlines\n",
            "  Downloading jsonlines-3.1.0-py3-none-any.whl (8.6 kB)\n",
            "Requirement already satisfied: attrs>=19.2.0 in /usr/local/lib/python3.10/dist-packages (from jsonlines) (23.1.0)\n",
            "Installing collected packages: jsonlines\n",
            "Successfully installed jsonlines-3.1.0\n"
          ]
        }
      ],
      "source": [
        "!pip install jsonlines"
      ]
    },
    {
      "cell_type": "code",
      "execution_count": 6,
      "metadata": {
        "colab": {
          "base_uri": "https://localhost:8080/"
        },
        "id": "PRsG9cXWKBpk",
        "outputId": "cbcbd4d9-f6c5-4999-dde5-5ecf69bd935b"
      },
      "outputs": [
        {
          "name": "stderr",
          "output_type": "stream",
          "text": [
            "/usr/local/lib/python3.10/dist-packages/ipykernel/ipkernel.py:283: DeprecationWarning: `should_run_async` will not call `transform_cell` automatically in the future. Please pass the result to `transformed_cell` argument and any exception that happen during thetransform in `preprocessing_exc_tuple` in IPython 7.17 and above.\n",
            "  and should_run_async(code)\n"
          ]
        }
      ],
      "source": [
        "#Data loading/ Data manipulation\n",
        "import pandas as pd\n",
        "import numpy as np\n",
        "import jsonlines"
      ]
    },
    {
      "cell_type": "code",
      "execution_count": 7,
      "metadata": {
        "colab": {
          "base_uri": "https://localhost:8080/"
        },
        "id": "aHIl1E1zKVN8",
        "outputId": "8041fb27-392a-44f5-c2bf-204a4abca1ce"
      },
      "outputs": [
        {
          "name": "stderr",
          "output_type": "stream",
          "text": [
            "/usr/local/lib/python3.10/dist-packages/ipykernel/ipkernel.py:283: DeprecationWarning: `should_run_async` will not call `transform_cell` automatically in the future. Please pass the result to `transformed_cell` argument and any exception that happen during thetransform in `preprocessing_exc_tuple` in IPython 7.17 and above.\n",
            "  and should_run_async(code)\n",
            "[nltk_data] Downloading package stopwords to /root/nltk_data...\n",
            "[nltk_data]   Unzipping corpora/stopwords.zip.\n",
            "[nltk_data] Downloading package wordnet to /root/nltk_data...\n"
          ]
        },
        {
          "data": {
            "text/plain": [
              "True"
            ]
          },
          "execution_count": 7,
          "metadata": {},
          "output_type": "execute_result"
        }
      ],
      "source": [
        "#nltk\n",
        "import re\n",
        "import nltk\n",
        "from nltk.corpus import stopwords\n",
        "from nltk.stem import WordNetLemmatizer\n",
        "nltk.download(['stopwords','wordnet'])"
      ]
    },
    {
      "cell_type": "code",
      "execution_count": 8,
      "metadata": {
        "colab": {
          "base_uri": "https://localhost:8080/"
        },
        "id": "4pJMLKh2KhRE",
        "outputId": "69163977-35a9-4dd4-ccf1-547aa5b01ba9"
      },
      "outputs": [
        {
          "name": "stderr",
          "output_type": "stream",
          "text": [
            "/usr/local/lib/python3.10/dist-packages/ipykernel/ipkernel.py:283: DeprecationWarning: `should_run_async` will not call `transform_cell` automatically in the future. Please pass the result to `transformed_cell` argument and any exception that happen during thetransform in `preprocessing_exc_tuple` in IPython 7.17 and above.\n",
            "  and should_run_async(code)\n"
          ]
        }
      ],
      "source": [
        "#warning\n",
        "import warnings \n",
        "warnings.filterwarnings('ignore')"
      ]
    },
    {
      "cell_type": "code",
      "execution_count": 10,
      "metadata": {
        "colab": {
          "base_uri": "https://localhost:8080/"
        },
        "id": "Qtzv9cgmd9zL",
        "outputId": "0ba42c05-adcc-4580-f38e-b506ddd83ba7"
      },
      "outputs": [
        {
          "name": "stdout",
          "output_type": "stream",
          "text": [
            "Looking in indexes: https://pypi.org/simple, https://us-python.pkg.dev/colab-wheels/public/simple/\n",
            "Collecting pyspark\n",
            "  Downloading pyspark-3.4.0.tar.gz (310.8 MB)\n",
            "\u001b[2K     \u001b[90m━━━━━━━━━━━━━━━━━━━━━━━━━━━━━━━━━━━━━━━\u001b[0m \u001b[32m310.8/310.8 MB\u001b[0m \u001b[31m4.5 MB/s\u001b[0m eta \u001b[36m0:00:00\u001b[0m\n",
            "\u001b[?25h  Preparing metadata (setup.py) ... \u001b[?25l\u001b[?25hdone\n",
            "Requirement already satisfied: py4j==0.10.9.7 in /usr/local/lib/python3.10/dist-packages (from pyspark) (0.10.9.7)\n",
            "Building wheels for collected packages: pyspark\n",
            "  Building wheel for pyspark (setup.py) ... \u001b[?25l\u001b[?25hdone\n",
            "  Created wheel for pyspark: filename=pyspark-3.4.0-py2.py3-none-any.whl size=311317130 sha256=056c108bea11477575923313e70729d0972cb382a1a23d9a4376d4da50d6d328\n",
            "  Stored in directory: /root/.cache/pip/wheels/7b/1b/4b/3363a1d04368e7ff0d408e57ff57966fcdf00583774e761327\n",
            "Successfully built pyspark\n",
            "Installing collected packages: pyspark\n",
            "Successfully installed pyspark-3.4.0\n"
          ]
        }
      ],
      "source": [
        "!pip install pyspark"
      ]
    },
    {
      "cell_type": "code",
      "execution_count": 19,
      "metadata": {
        "id": "v3w4eRlcKthj"
      },
      "outputs": [],
      "source": [
        "from pyspark.sql import SparkSession\n",
        "\n",
        "from pyspark.sql.functions import col"
      ]
    },
    {
      "cell_type": "code",
      "execution_count": 12,
      "metadata": {
        "id": "uJ0ghyOleWID"
      },
      "outputs": [],
      "source": [
        "spark = SparkSession.builder.appName(\"CSVLoadExample\").getOrCreate()"
      ]
    },
    {
      "cell_type": "code",
      "execution_count": 13,
      "metadata": {
        "colab": {
          "base_uri": "https://localhost:8080/"
        },
        "id": "jzBR6LwKeqU0",
        "outputId": "e73519df-edd4-45fc-ebe6-1a1e607f5134"
      },
      "outputs": [
        {
          "name": "stdout",
          "output_type": "stream",
          "text": [
            "+--------------------+--------------------+--------------------+--------------------+\n",
            "|                  ID|          Resume_str|         Resume_html|            Category|\n",
            "+--------------------+--------------------+--------------------+--------------------+\n",
            "|            16852973|         HR ADMIN...|                null|                null|\n",
            "|HR ADMINISTRATOR ...| enthusiastic com...|   Micros    Oper...| Fidelio    OPERA...|\n",
            "|HR Administrator ...|   State     Help...| directs and coor...|        compensation|\n",
            "|      padding-top...|                null|                null|                null|\n",
            "|    \"\"> <div clas...|                null|                null|                null|\n",
            "+--------------------+--------------------+--------------------+--------------------+\n",
            "only showing top 5 rows\n",
            "\n"
          ]
        }
      ],
      "source": [
        "df = spark.read.csv(\"Resume.csv\", header=True, inferSchema=True)\n",
        "\n",
        "# Show the first 5 rows of the DataFrame\n",
        "df.show(5)"
      ]
    },
    {
      "cell_type": "code",
      "execution_count": 21,
      "metadata": {
        "colab": {
          "base_uri": "https://localhost:8080/"
        },
        "id": "vcgJ9Ks9fmUn",
        "outputId": "f93c1cb9-9a81-4286-9125-b7d611b13153"
      },
      "outputs": [
        {
          "name": "stdout",
          "output_type": "stream",
          "text": [
            "+-----------------+-----+\n",
            "|         Category|count|\n",
            "+-----------------+-----+\n",
            "|             null|14816|\n",
            "|          billing|   12|\n",
            "|      fabricators|   12|\n",
            "|          State  |   10|\n",
            "|         approach|   10|\n",
            "|           budget|    9|\n",
            "|          Georgia|    9|\n",
            "|         Benefits|    8|\n",
            "|         ADVOCATE|    8|\n",
            "|              CPR|    8|\n",
            "|              and|    8|\n",
            "|                0|    8|\n",
            "|       promotions|    7|\n",
            "|          TEACHER|    7|\n",
            "|          Billing|    7|\n",
            "|       PowerPoint|    7|\n",
            "|           agency|    6|\n",
            "|      Illustrator|    6|\n",
            "| Customer Service|    6|\n",
            "|                C|    6|\n",
            "+-----------------+-----+\n",
            "only showing top 20 rows\n",
            "\n"
          ]
        }
      ],
      "source": [
        "value_counts = df.groupBy(\"Category\").count().orderBy(col(\"count\").desc())\n",
        "\n",
        "# Show the value counts\n",
        "value_counts.show()\n"
      ]
    },
    {
      "cell_type": "code",
      "execution_count": 22,
      "metadata": {
        "id": "zmZuoa9jf3_d"
      },
      "outputs": [],
      "source": [
        "import pandas as pd"
      ]
    },
    {
      "cell_type": "code",
      "execution_count": 23,
      "metadata": {
        "id": "pVZv2s7NiHRq"
      },
      "outputs": [],
      "source": [
        "df = pd.read_csv(\"Resume.csv\")"
      ]
    },
    {
      "cell_type": "code",
      "execution_count": 24,
      "metadata": {
        "colab": {
          "base_uri": "https://localhost:8080/",
          "height": 423
        },
        "id": "u0HFoTEXiKtd",
        "outputId": "88cfbfc3-443f-46a2-fd44-9e6dac4265a0"
      },
      "outputs": [
        {
          "data": {
            "text/html": [
              "\n",
              "  <div id=\"df-8b77c014-9230-4784-abba-411a3ceb09a7\">\n",
              "    <div class=\"colab-df-container\">\n",
              "      <div>\n",
              "<style scoped>\n",
              "    .dataframe tbody tr th:only-of-type {\n",
              "        vertical-align: middle;\n",
              "    }\n",
              "\n",
              "    .dataframe tbody tr th {\n",
              "        vertical-align: top;\n",
              "    }\n",
              "\n",
              "    .dataframe thead th {\n",
              "        text-align: right;\n",
              "    }\n",
              "</style>\n",
              "<table border=\"1\" class=\"dataframe\">\n",
              "  <thead>\n",
              "    <tr style=\"text-align: right;\">\n",
              "      <th></th>\n",
              "      <th>ID</th>\n",
              "      <th>Resume_str</th>\n",
              "      <th>Resume_html</th>\n",
              "      <th>Category</th>\n",
              "    </tr>\n",
              "  </thead>\n",
              "  <tbody>\n",
              "    <tr>\n",
              "      <th>0</th>\n",
              "      <td>16852973</td>\n",
              "      <td>HR ADMINISTRATOR/MARKETING ASSOCIATE\\...</td>\n",
              "      <td>&lt;div class=\"fontsize fontface vmargins hmargin...</td>\n",
              "      <td>HR</td>\n",
              "    </tr>\n",
              "    <tr>\n",
              "      <th>1</th>\n",
              "      <td>22323967</td>\n",
              "      <td>HR SPECIALIST, US HR OPERATIONS      ...</td>\n",
              "      <td>&lt;div class=\"fontsize fontface vmargins hmargin...</td>\n",
              "      <td>HR</td>\n",
              "    </tr>\n",
              "    <tr>\n",
              "      <th>2</th>\n",
              "      <td>33176873</td>\n",
              "      <td>HR DIRECTOR       Summary      Over 2...</td>\n",
              "      <td>&lt;div class=\"fontsize fontface vmargins hmargin...</td>\n",
              "      <td>HR</td>\n",
              "    </tr>\n",
              "    <tr>\n",
              "      <th>3</th>\n",
              "      <td>27018550</td>\n",
              "      <td>HR SPECIALIST       Summary    Dedica...</td>\n",
              "      <td>&lt;div class=\"fontsize fontface vmargins hmargin...</td>\n",
              "      <td>HR</td>\n",
              "    </tr>\n",
              "    <tr>\n",
              "      <th>4</th>\n",
              "      <td>17812897</td>\n",
              "      <td>HR MANAGER         Skill Highlights  ...</td>\n",
              "      <td>&lt;div class=\"fontsize fontface vmargins hmargin...</td>\n",
              "      <td>HR</td>\n",
              "    </tr>\n",
              "    <tr>\n",
              "      <th>...</th>\n",
              "      <td>...</td>\n",
              "      <td>...</td>\n",
              "      <td>...</td>\n",
              "      <td>...</td>\n",
              "    </tr>\n",
              "    <tr>\n",
              "      <th>2479</th>\n",
              "      <td>99416532</td>\n",
              "      <td>RANK: SGT/E-5 NON- COMMISSIONED OFFIC...</td>\n",
              "      <td>&lt;div class=\"fontsize fontface vmargins hmargin...</td>\n",
              "      <td>AVIATION</td>\n",
              "    </tr>\n",
              "    <tr>\n",
              "      <th>2480</th>\n",
              "      <td>24589765</td>\n",
              "      <td>GOVERNMENT RELATIONS, COMMUNICATIONS ...</td>\n",
              "      <td>&lt;div class=\"fontsize fontface vmargins hmargin...</td>\n",
              "      <td>AVIATION</td>\n",
              "    </tr>\n",
              "    <tr>\n",
              "      <th>2481</th>\n",
              "      <td>31605080</td>\n",
              "      <td>GEEK SQUAD AGENT         Professional...</td>\n",
              "      <td>&lt;div class=\"fontsize fontface vmargins hmargin...</td>\n",
              "      <td>AVIATION</td>\n",
              "    </tr>\n",
              "    <tr>\n",
              "      <th>2482</th>\n",
              "      <td>21190805</td>\n",
              "      <td>PROGRAM DIRECTOR / OFFICE MANAGER    ...</td>\n",
              "      <td>&lt;div class=\"fontsize fontface vmargins hmargin...</td>\n",
              "      <td>AVIATION</td>\n",
              "    </tr>\n",
              "    <tr>\n",
              "      <th>2483</th>\n",
              "      <td>37473139</td>\n",
              "      <td>STOREKEEPER II       Professional Sum...</td>\n",
              "      <td>&lt;div class=\"fontsize fontface vmargins hmargin...</td>\n",
              "      <td>AVIATION</td>\n",
              "    </tr>\n",
              "  </tbody>\n",
              "</table>\n",
              "<p>2484 rows × 4 columns</p>\n",
              "</div>\n",
              "      <button class=\"colab-df-convert\" onclick=\"convertToInteractive('df-8b77c014-9230-4784-abba-411a3ceb09a7')\"\n",
              "              title=\"Convert this dataframe to an interactive table.\"\n",
              "              style=\"display:none;\">\n",
              "        \n",
              "  <svg xmlns=\"http://www.w3.org/2000/svg\" height=\"24px\"viewBox=\"0 0 24 24\"\n",
              "       width=\"24px\">\n",
              "    <path d=\"M0 0h24v24H0V0z\" fill=\"none\"/>\n",
              "    <path d=\"M18.56 5.44l.94 2.06.94-2.06 2.06-.94-2.06-.94-.94-2.06-.94 2.06-2.06.94zm-11 1L8.5 8.5l.94-2.06 2.06-.94-2.06-.94L8.5 2.5l-.94 2.06-2.06.94zm10 10l.94 2.06.94-2.06 2.06-.94-2.06-.94-.94-2.06-.94 2.06-2.06.94z\"/><path d=\"M17.41 7.96l-1.37-1.37c-.4-.4-.92-.59-1.43-.59-.52 0-1.04.2-1.43.59L10.3 9.45l-7.72 7.72c-.78.78-.78 2.05 0 2.83L4 21.41c.39.39.9.59 1.41.59.51 0 1.02-.2 1.41-.59l7.78-7.78 2.81-2.81c.8-.78.8-2.07 0-2.86zM5.41 20L4 18.59l7.72-7.72 1.47 1.35L5.41 20z\"/>\n",
              "  </svg>\n",
              "      </button>\n",
              "      \n",
              "  <style>\n",
              "    .colab-df-container {\n",
              "      display:flex;\n",
              "      flex-wrap:wrap;\n",
              "      gap: 12px;\n",
              "    }\n",
              "\n",
              "    .colab-df-convert {\n",
              "      background-color: #E8F0FE;\n",
              "      border: none;\n",
              "      border-radius: 50%;\n",
              "      cursor: pointer;\n",
              "      display: none;\n",
              "      fill: #1967D2;\n",
              "      height: 32px;\n",
              "      padding: 0 0 0 0;\n",
              "      width: 32px;\n",
              "    }\n",
              "\n",
              "    .colab-df-convert:hover {\n",
              "      background-color: #E2EBFA;\n",
              "      box-shadow: 0px 1px 2px rgba(60, 64, 67, 0.3), 0px 1px 3px 1px rgba(60, 64, 67, 0.15);\n",
              "      fill: #174EA6;\n",
              "    }\n",
              "\n",
              "    [theme=dark] .colab-df-convert {\n",
              "      background-color: #3B4455;\n",
              "      fill: #D2E3FC;\n",
              "    }\n",
              "\n",
              "    [theme=dark] .colab-df-convert:hover {\n",
              "      background-color: #434B5C;\n",
              "      box-shadow: 0px 1px 3px 1px rgba(0, 0, 0, 0.15);\n",
              "      filter: drop-shadow(0px 1px 2px rgba(0, 0, 0, 0.3));\n",
              "      fill: #FFFFFF;\n",
              "    }\n",
              "  </style>\n",
              "\n",
              "      <script>\n",
              "        const buttonEl =\n",
              "          document.querySelector('#df-8b77c014-9230-4784-abba-411a3ceb09a7 button.colab-df-convert');\n",
              "        buttonEl.style.display =\n",
              "          google.colab.kernel.accessAllowed ? 'block' : 'none';\n",
              "\n",
              "        async function convertToInteractive(key) {\n",
              "          const element = document.querySelector('#df-8b77c014-9230-4784-abba-411a3ceb09a7');\n",
              "          const dataTable =\n",
              "            await google.colab.kernel.invokeFunction('convertToInteractive',\n",
              "                                                     [key], {});\n",
              "          if (!dataTable) return;\n",
              "\n",
              "          const docLinkHtml = 'Like what you see? Visit the ' +\n",
              "            '<a target=\"_blank\" href=https://colab.research.google.com/notebooks/data_table.ipynb>data table notebook</a>'\n",
              "            + ' to learn more about interactive tables.';\n",
              "          element.innerHTML = '';\n",
              "          dataTable['output_type'] = 'display_data';\n",
              "          await google.colab.output.renderOutput(dataTable, element);\n",
              "          const docLink = document.createElement('div');\n",
              "          docLink.innerHTML = docLinkHtml;\n",
              "          element.appendChild(docLink);\n",
              "        }\n",
              "      </script>\n",
              "    </div>\n",
              "  </div>\n",
              "  "
            ],
            "text/plain": [
              "            ID                                         Resume_str  \\\n",
              "0     16852973           HR ADMINISTRATOR/MARKETING ASSOCIATE\\...   \n",
              "1     22323967           HR SPECIALIST, US HR OPERATIONS      ...   \n",
              "2     33176873           HR DIRECTOR       Summary      Over 2...   \n",
              "3     27018550           HR SPECIALIST       Summary    Dedica...   \n",
              "4     17812897           HR MANAGER         Skill Highlights  ...   \n",
              "...        ...                                                ...   \n",
              "2479  99416532           RANK: SGT/E-5 NON- COMMISSIONED OFFIC...   \n",
              "2480  24589765           GOVERNMENT RELATIONS, COMMUNICATIONS ...   \n",
              "2481  31605080           GEEK SQUAD AGENT         Professional...   \n",
              "2482  21190805           PROGRAM DIRECTOR / OFFICE MANAGER    ...   \n",
              "2483  37473139           STOREKEEPER II       Professional Sum...   \n",
              "\n",
              "                                            Resume_html  Category  \n",
              "0     <div class=\"fontsize fontface vmargins hmargin...        HR  \n",
              "1     <div class=\"fontsize fontface vmargins hmargin...        HR  \n",
              "2     <div class=\"fontsize fontface vmargins hmargin...        HR  \n",
              "3     <div class=\"fontsize fontface vmargins hmargin...        HR  \n",
              "4     <div class=\"fontsize fontface vmargins hmargin...        HR  \n",
              "...                                                 ...       ...  \n",
              "2479  <div class=\"fontsize fontface vmargins hmargin...  AVIATION  \n",
              "2480  <div class=\"fontsize fontface vmargins hmargin...  AVIATION  \n",
              "2481  <div class=\"fontsize fontface vmargins hmargin...  AVIATION  \n",
              "2482  <div class=\"fontsize fontface vmargins hmargin...  AVIATION  \n",
              "2483  <div class=\"fontsize fontface vmargins hmargin...  AVIATION  \n",
              "\n",
              "[2484 rows x 4 columns]"
            ]
          },
          "execution_count": 24,
          "metadata": {},
          "output_type": "execute_result"
        }
      ],
      "source": [
        "df"
      ]
    },
    {
      "cell_type": "code",
      "execution_count": 25,
      "metadata": {
        "colab": {
          "base_uri": "https://localhost:8080/"
        },
        "id": "s8M_IFidiL2h",
        "outputId": "b613b8ce-121c-46a1-bd77-5769b98bc957"
      },
      "outputs": [
        {
          "name": "stdout",
          "output_type": "stream",
          "text": [
            "<class 'pandas.core.frame.DataFrame'>\n",
            "RangeIndex: 2484 entries, 0 to 2483\n",
            "Data columns (total 4 columns):\n",
            " #   Column       Non-Null Count  Dtype \n",
            "---  ------       --------------  ----- \n",
            " 0   ID           2484 non-null   int64 \n",
            " 1   Resume_str   2484 non-null   object\n",
            " 2   Resume_html  2484 non-null   object\n",
            " 3   Category     2484 non-null   object\n",
            "dtypes: int64(1), object(3)\n",
            "memory usage: 77.8+ KB\n"
          ]
        }
      ],
      "source": [
        "df.info()"
      ]
    },
    {
      "cell_type": "code",
      "execution_count": 26,
      "metadata": {
        "colab": {
          "base_uri": "https://localhost:8080/"
        },
        "id": "aZtRW5P2idnM",
        "outputId": "d4624496-1a92-4112-cf47-7b8ff7570ced"
      },
      "outputs": [
        {
          "data": {
            "text/plain": [
              "INFORMATION-TECHNOLOGY    120\n",
              "BUSINESS-DEVELOPMENT      120\n",
              "FINANCE                   118\n",
              "ADVOCATE                  118\n",
              "ACCOUNTANT                118\n",
              "ENGINEERING               118\n",
              "CHEF                      118\n",
              "AVIATION                  117\n",
              "FITNESS                   117\n",
              "SALES                     116\n",
              "BANKING                   115\n",
              "HEALTHCARE                115\n",
              "CONSULTANT                115\n",
              "CONSTRUCTION              112\n",
              "PUBLIC-RELATIONS          111\n",
              "HR                        110\n",
              "DESIGNER                  107\n",
              "ARTS                      103\n",
              "TEACHER                   102\n",
              "APPAREL                    97\n",
              "DIGITAL-MEDIA              96\n",
              "AGRICULTURE                63\n",
              "AUTOMOBILE                 36\n",
              "BPO                        22\n",
              "Name: Category, dtype: int64"
            ]
          },
          "execution_count": 26,
          "metadata": {},
          "output_type": "execute_result"
        }
      ],
      "source": [
        "df[\"Category\"].value_counts()"
      ]
    },
    {
      "cell_type": "code",
      "execution_count": 28,
      "metadata": {
        "colab": {
          "base_uri": "https://localhost:8080/"
        },
        "id": "bwRJO9qFiksy",
        "outputId": "607a80bd-7b60-4dbd-8426-59092fb64f40"
      },
      "outputs": [
        {
          "data": {
            "text/plain": [
              "ID             0\n",
              "Resume_str     0\n",
              "Resume_html    0\n",
              "Category       0\n",
              "dtype: int64"
            ]
          },
          "execution_count": 28,
          "metadata": {},
          "output_type": "execute_result"
        }
      ],
      "source": [
        "df.isna().sum()"
      ]
    },
    {
      "cell_type": "code",
      "execution_count": 33,
      "metadata": {
        "colab": {
          "base_uri": "https://localhost:8080/"
        },
        "id": "gU_SSEM9ivG5",
        "outputId": "506cc856-6185-4c68-e313-677b342e8478"
      },
      "outputs": [
        {
          "data": {
            "text/plain": [
              "array(['HR', 'DESIGNER', 'INFORMATION-TECHNOLOGY', 'TEACHER', 'ADVOCATE',\n",
              "       'BUSINESS-DEVELOPMENT', 'HEALTHCARE', 'FITNESS', 'AGRICULTURE',\n",
              "       'BPO', 'SALES', 'CONSULTANT', 'DIGITAL-MEDIA', 'AUTOMOBILE',\n",
              "       'CHEF', 'FINANCE', 'APPAREL', 'ENGINEERING', 'ACCOUNTANT',\n",
              "       'CONSTRUCTION', 'PUBLIC-RELATIONS', 'BANKING', 'ARTS', 'AVIATION'],\n",
              "      dtype=object)"
            ]
          },
          "execution_count": 33,
          "metadata": {},
          "output_type": "execute_result"
        }
      ],
      "source": [
        "df['Category'].unique()"
      ]
    },
    {
      "cell_type": "code",
      "execution_count": 39,
      "metadata": {
        "colab": {
          "base_uri": "https://localhost:8080/"
        },
        "id": "7ticxNXdjHV_",
        "outputId": "06042885-d544-4f0a-c499-a52a4b9c22e7"
      },
      "outputs": [
        {
          "data": {
            "text/plain": [
              "0        True\n",
              "1        True\n",
              "2        True\n",
              "3        True\n",
              "4        True\n",
              "        ...  \n",
              "2479    False\n",
              "2480    False\n",
              "2481    False\n",
              "2482    False\n",
              "2483    False\n",
              "Name: Category, Length: 2484, dtype: bool"
            ]
          },
          "execution_count": 39,
          "metadata": {},
          "output_type": "execute_result"
        }
      ],
      "source": [
        "(df['Category']=='HR') | (df['Category']=='ARTS')"
      ]
    },
    {
      "cell_type": "code",
      "execution_count": 42,
      "metadata": {
        "id": "RM2-ncKTi0Qy"
      },
      "outputs": [],
      "source": [
        "df_new = df[(df['Category']=='INFORMATION-TECHNOLOGY') | (df['Category']=='ENGINEERING')| (df['Category']=='CONSULTANT')| (df['Category']=='FINANCE')]"
      ]
    },
    {
      "cell_type": "code",
      "execution_count": 43,
      "metadata": {
        "colab": {
          "base_uri": "https://localhost:8080/",
          "height": 423
        },
        "id": "nIRf1RK-jmIG",
        "outputId": "345cf217-0dd6-41b2-a5de-ce823e5fa3ef"
      },
      "outputs": [
        {
          "data": {
            "text/html": [
              "\n",
              "  <div id=\"df-ec31af1b-810f-419e-bb6d-52c6c0781a6b\">\n",
              "    <div class=\"colab-df-container\">\n",
              "      <div>\n",
              "<style scoped>\n",
              "    .dataframe tbody tr th:only-of-type {\n",
              "        vertical-align: middle;\n",
              "    }\n",
              "\n",
              "    .dataframe tbody tr th {\n",
              "        vertical-align: top;\n",
              "    }\n",
              "\n",
              "    .dataframe thead th {\n",
              "        text-align: right;\n",
              "    }\n",
              "</style>\n",
              "<table border=\"1\" class=\"dataframe\">\n",
              "  <thead>\n",
              "    <tr style=\"text-align: right;\">\n",
              "      <th></th>\n",
              "      <th>ID</th>\n",
              "      <th>Resume_str</th>\n",
              "      <th>Resume_html</th>\n",
              "      <th>Category</th>\n",
              "    </tr>\n",
              "  </thead>\n",
              "  <tbody>\n",
              "    <tr>\n",
              "      <th>217</th>\n",
              "      <td>36856210</td>\n",
              "      <td>INFORMATION TECHNOLOGY         Summar...</td>\n",
              "      <td>&lt;div class=\"fontsize fontface vmargins hmargin...</td>\n",
              "      <td>INFORMATION-TECHNOLOGY</td>\n",
              "    </tr>\n",
              "    <tr>\n",
              "      <th>218</th>\n",
              "      <td>21780877</td>\n",
              "      <td>INFORMATION TECHNOLOGY SPECIALIST\\tGS...</td>\n",
              "      <td>&lt;div class=\"fontsize fontface vmargins hmargin...</td>\n",
              "      <td>INFORMATION-TECHNOLOGY</td>\n",
              "    </tr>\n",
              "    <tr>\n",
              "      <th>219</th>\n",
              "      <td>33241454</td>\n",
              "      <td>INFORMATION TECHNOLOGY SUPERVISOR    ...</td>\n",
              "      <td>&lt;div class=\"fontsize fontface vmargins hmargin...</td>\n",
              "      <td>INFORMATION-TECHNOLOGY</td>\n",
              "    </tr>\n",
              "    <tr>\n",
              "      <th>220</th>\n",
              "      <td>25990239</td>\n",
              "      <td>INFORMATION TECHNOLOGY INSTRUCTOR    ...</td>\n",
              "      <td>&lt;div class=\"fontsize fontface vmargins hmargin...</td>\n",
              "      <td>INFORMATION-TECHNOLOGY</td>\n",
              "    </tr>\n",
              "    <tr>\n",
              "      <th>221</th>\n",
              "      <td>16899268</td>\n",
              "      <td>INFORMATION TECHNOLOGY MANAGER/ANALYS...</td>\n",
              "      <td>&lt;div class=\"fontsize fontface vmargins hmargin...</td>\n",
              "      <td>INFORMATION-TECHNOLOGY</td>\n",
              "    </tr>\n",
              "    <tr>\n",
              "      <th>...</th>\n",
              "      <td>...</td>\n",
              "      <td>...</td>\n",
              "      <td>...</td>\n",
              "      <td>...</td>\n",
              "    </tr>\n",
              "    <tr>\n",
              "      <th>1803</th>\n",
              "      <td>31694970</td>\n",
              "      <td>INDUSTRIAL ENGINEERING INTERN       P...</td>\n",
              "      <td>&lt;div class=\"fontsize fontface vmargins hmargin...</td>\n",
              "      <td>ENGINEERING</td>\n",
              "    </tr>\n",
              "    <tr>\n",
              "      <th>1804</th>\n",
              "      <td>33685075</td>\n",
              "      <td>MANAGER, QUALITY ENGINEERING         ...</td>\n",
              "      <td>&lt;div class=\"fontsize fontface vmargins hmargin...</td>\n",
              "      <td>ENGINEERING</td>\n",
              "    </tr>\n",
              "    <tr>\n",
              "      <th>1805</th>\n",
              "      <td>77828437</td>\n",
              "      <td>MECHANICAL DESIGN ENGINEERING INTERN ...</td>\n",
              "      <td>&lt;div class=\"fontsize fontface vmargins hmargin...</td>\n",
              "      <td>ENGINEERING</td>\n",
              "    </tr>\n",
              "    <tr>\n",
              "      <th>1806</th>\n",
              "      <td>35172961</td>\n",
              "      <td>PROCESS ENGINEERING INTERN           ...</td>\n",
              "      <td>&lt;div class=\"fontsize fontface vmargins hmargin...</td>\n",
              "      <td>ENGINEERING</td>\n",
              "    </tr>\n",
              "    <tr>\n",
              "      <th>1807</th>\n",
              "      <td>21629057</td>\n",
              "      <td>ENGINEERING TECHNICIAN/ FIELD SERVICE...</td>\n",
              "      <td>&lt;div class=\"fontsize fontface vmargins hmargin...</td>\n",
              "      <td>ENGINEERING</td>\n",
              "    </tr>\n",
              "  </tbody>\n",
              "</table>\n",
              "<p>471 rows × 4 columns</p>\n",
              "</div>\n",
              "      <button class=\"colab-df-convert\" onclick=\"convertToInteractive('df-ec31af1b-810f-419e-bb6d-52c6c0781a6b')\"\n",
              "              title=\"Convert this dataframe to an interactive table.\"\n",
              "              style=\"display:none;\">\n",
              "        \n",
              "  <svg xmlns=\"http://www.w3.org/2000/svg\" height=\"24px\"viewBox=\"0 0 24 24\"\n",
              "       width=\"24px\">\n",
              "    <path d=\"M0 0h24v24H0V0z\" fill=\"none\"/>\n",
              "    <path d=\"M18.56 5.44l.94 2.06.94-2.06 2.06-.94-2.06-.94-.94-2.06-.94 2.06-2.06.94zm-11 1L8.5 8.5l.94-2.06 2.06-.94-2.06-.94L8.5 2.5l-.94 2.06-2.06.94zm10 10l.94 2.06.94-2.06 2.06-.94-2.06-.94-.94-2.06-.94 2.06-2.06.94z\"/><path d=\"M17.41 7.96l-1.37-1.37c-.4-.4-.92-.59-1.43-.59-.52 0-1.04.2-1.43.59L10.3 9.45l-7.72 7.72c-.78.78-.78 2.05 0 2.83L4 21.41c.39.39.9.59 1.41.59.51 0 1.02-.2 1.41-.59l7.78-7.78 2.81-2.81c.8-.78.8-2.07 0-2.86zM5.41 20L4 18.59l7.72-7.72 1.47 1.35L5.41 20z\"/>\n",
              "  </svg>\n",
              "      </button>\n",
              "      \n",
              "  <style>\n",
              "    .colab-df-container {\n",
              "      display:flex;\n",
              "      flex-wrap:wrap;\n",
              "      gap: 12px;\n",
              "    }\n",
              "\n",
              "    .colab-df-convert {\n",
              "      background-color: #E8F0FE;\n",
              "      border: none;\n",
              "      border-radius: 50%;\n",
              "      cursor: pointer;\n",
              "      display: none;\n",
              "      fill: #1967D2;\n",
              "      height: 32px;\n",
              "      padding: 0 0 0 0;\n",
              "      width: 32px;\n",
              "    }\n",
              "\n",
              "    .colab-df-convert:hover {\n",
              "      background-color: #E2EBFA;\n",
              "      box-shadow: 0px 1px 2px rgba(60, 64, 67, 0.3), 0px 1px 3px 1px rgba(60, 64, 67, 0.15);\n",
              "      fill: #174EA6;\n",
              "    }\n",
              "\n",
              "    [theme=dark] .colab-df-convert {\n",
              "      background-color: #3B4455;\n",
              "      fill: #D2E3FC;\n",
              "    }\n",
              "\n",
              "    [theme=dark] .colab-df-convert:hover {\n",
              "      background-color: #434B5C;\n",
              "      box-shadow: 0px 1px 3px 1px rgba(0, 0, 0, 0.15);\n",
              "      filter: drop-shadow(0px 1px 2px rgba(0, 0, 0, 0.3));\n",
              "      fill: #FFFFFF;\n",
              "    }\n",
              "  </style>\n",
              "\n",
              "      <script>\n",
              "        const buttonEl =\n",
              "          document.querySelector('#df-ec31af1b-810f-419e-bb6d-52c6c0781a6b button.colab-df-convert');\n",
              "        buttonEl.style.display =\n",
              "          google.colab.kernel.accessAllowed ? 'block' : 'none';\n",
              "\n",
              "        async function convertToInteractive(key) {\n",
              "          const element = document.querySelector('#df-ec31af1b-810f-419e-bb6d-52c6c0781a6b');\n",
              "          const dataTable =\n",
              "            await google.colab.kernel.invokeFunction('convertToInteractive',\n",
              "                                                     [key], {});\n",
              "          if (!dataTable) return;\n",
              "\n",
              "          const docLinkHtml = 'Like what you see? Visit the ' +\n",
              "            '<a target=\"_blank\" href=https://colab.research.google.com/notebooks/data_table.ipynb>data table notebook</a>'\n",
              "            + ' to learn more about interactive tables.';\n",
              "          element.innerHTML = '';\n",
              "          dataTable['output_type'] = 'display_data';\n",
              "          await google.colab.output.renderOutput(dataTable, element);\n",
              "          const docLink = document.createElement('div');\n",
              "          docLink.innerHTML = docLinkHtml;\n",
              "          element.appendChild(docLink);\n",
              "        }\n",
              "      </script>\n",
              "    </div>\n",
              "  </div>\n",
              "  "
            ],
            "text/plain": [
              "            ID                                         Resume_str  \\\n",
              "217   36856210           INFORMATION TECHNOLOGY         Summar...   \n",
              "218   21780877           INFORMATION TECHNOLOGY SPECIALIST\\tGS...   \n",
              "219   33241454           INFORMATION TECHNOLOGY SUPERVISOR    ...   \n",
              "220   25990239           INFORMATION TECHNOLOGY INSTRUCTOR    ...   \n",
              "221   16899268           INFORMATION TECHNOLOGY MANAGER/ANALYS...   \n",
              "...        ...                                                ...   \n",
              "1803  31694970           INDUSTRIAL ENGINEERING INTERN       P...   \n",
              "1804  33685075           MANAGER, QUALITY ENGINEERING         ...   \n",
              "1805  77828437           MECHANICAL DESIGN ENGINEERING INTERN ...   \n",
              "1806  35172961           PROCESS ENGINEERING INTERN           ...   \n",
              "1807  21629057           ENGINEERING TECHNICIAN/ FIELD SERVICE...   \n",
              "\n",
              "                                            Resume_html  \\\n",
              "217   <div class=\"fontsize fontface vmargins hmargin...   \n",
              "218   <div class=\"fontsize fontface vmargins hmargin...   \n",
              "219   <div class=\"fontsize fontface vmargins hmargin...   \n",
              "220   <div class=\"fontsize fontface vmargins hmargin...   \n",
              "221   <div class=\"fontsize fontface vmargins hmargin...   \n",
              "...                                                 ...   \n",
              "1803  <div class=\"fontsize fontface vmargins hmargin...   \n",
              "1804  <div class=\"fontsize fontface vmargins hmargin...   \n",
              "1805  <div class=\"fontsize fontface vmargins hmargin...   \n",
              "1806  <div class=\"fontsize fontface vmargins hmargin...   \n",
              "1807  <div class=\"fontsize fontface vmargins hmargin...   \n",
              "\n",
              "                    Category  \n",
              "217   INFORMATION-TECHNOLOGY  \n",
              "218   INFORMATION-TECHNOLOGY  \n",
              "219   INFORMATION-TECHNOLOGY  \n",
              "220   INFORMATION-TECHNOLOGY  \n",
              "221   INFORMATION-TECHNOLOGY  \n",
              "...                      ...  \n",
              "1803             ENGINEERING  \n",
              "1804             ENGINEERING  \n",
              "1805             ENGINEERING  \n",
              "1806             ENGINEERING  \n",
              "1807             ENGINEERING  \n",
              "\n",
              "[471 rows x 4 columns]"
            ]
          },
          "execution_count": 43,
          "metadata": {},
          "output_type": "execute_result"
        }
      ],
      "source": [
        "df_new"
      ]
    },
    {
      "cell_type": "code",
      "execution_count": 46,
      "metadata": {
        "colab": {
          "base_uri": "https://localhost:8080/"
        },
        "id": "RklabZv9kGqi",
        "outputId": "4cff760c-a8d5-4e44-df33-cfe0bf03745e"
      },
      "outputs": [
        {
          "name": "stdout",
          "output_type": "stream",
          "text": [
            "2023-05-23 12:28:44.576505: W tensorflow/compiler/tf2tensorrt/utils/py_utils.cc:38] TF-TRT Warning: Could not find TensorRT\n",
            "Looking in indexes: https://pypi.org/simple, https://us-python.pkg.dev/colab-wheels/public/simple/\n",
            "Collecting en-core-web-lg==3.5.0\n",
            "  Downloading https://github.com/explosion/spacy-models/releases/download/en_core_web_lg-3.5.0/en_core_web_lg-3.5.0-py3-none-any.whl (587.7 MB)\n",
            "\u001b[2K     \u001b[90m━━━━━━━━━━━━━━━━━━━━━━━━━━━━━━━━━━━━━━━\u001b[0m \u001b[32m587.7/587.7 MB\u001b[0m \u001b[31m1.8 MB/s\u001b[0m eta \u001b[36m0:00:00\u001b[0m\n",
            "\u001b[?25hRequirement already satisfied: spacy<3.6.0,>=3.5.0 in /usr/local/lib/python3.10/dist-packages (from en-core-web-lg==3.5.0) (3.5.2)\n",
            "Requirement already satisfied: spacy-legacy<3.1.0,>=3.0.11 in /usr/local/lib/python3.10/dist-packages (from spacy<3.6.0,>=3.5.0->en-core-web-lg==3.5.0) (3.0.12)\n",
            "Requirement already satisfied: spacy-loggers<2.0.0,>=1.0.0 in /usr/local/lib/python3.10/dist-packages (from spacy<3.6.0,>=3.5.0->en-core-web-lg==3.5.0) (1.0.4)\n",
            "Requirement already satisfied: murmurhash<1.1.0,>=0.28.0 in /usr/local/lib/python3.10/dist-packages (from spacy<3.6.0,>=3.5.0->en-core-web-lg==3.5.0) (1.0.9)\n",
            "Requirement already satisfied: cymem<2.1.0,>=2.0.2 in /usr/local/lib/python3.10/dist-packages (from spacy<3.6.0,>=3.5.0->en-core-web-lg==3.5.0) (2.0.7)\n",
            "Requirement already satisfied: preshed<3.1.0,>=3.0.2 in /usr/local/lib/python3.10/dist-packages (from spacy<3.6.0,>=3.5.0->en-core-web-lg==3.5.0) (3.0.8)\n",
            "Requirement already satisfied: thinc<8.2.0,>=8.1.8 in /usr/local/lib/python3.10/dist-packages (from spacy<3.6.0,>=3.5.0->en-core-web-lg==3.5.0) (8.1.9)\n",
            "Requirement already satisfied: wasabi<1.2.0,>=0.9.1 in /usr/local/lib/python3.10/dist-packages (from spacy<3.6.0,>=3.5.0->en-core-web-lg==3.5.0) (1.1.1)\n",
            "Requirement already satisfied: srsly<3.0.0,>=2.4.3 in /usr/local/lib/python3.10/dist-packages (from spacy<3.6.0,>=3.5.0->en-core-web-lg==3.5.0) (2.4.6)\n",
            "Requirement already satisfied: catalogue<2.1.0,>=2.0.6 in /usr/local/lib/python3.10/dist-packages (from spacy<3.6.0,>=3.5.0->en-core-web-lg==3.5.0) (2.0.8)\n",
            "Requirement already satisfied: typer<0.8.0,>=0.3.0 in /usr/local/lib/python3.10/dist-packages (from spacy<3.6.0,>=3.5.0->en-core-web-lg==3.5.0) (0.7.0)\n",
            "Requirement already satisfied: pathy>=0.10.0 in /usr/local/lib/python3.10/dist-packages (from spacy<3.6.0,>=3.5.0->en-core-web-lg==3.5.0) (0.10.1)\n",
            "Requirement already satisfied: smart-open<7.0.0,>=5.2.1 in /usr/local/lib/python3.10/dist-packages (from spacy<3.6.0,>=3.5.0->en-core-web-lg==3.5.0) (6.3.0)\n",
            "Requirement already satisfied: tqdm<5.0.0,>=4.38.0 in /usr/local/lib/python3.10/dist-packages (from spacy<3.6.0,>=3.5.0->en-core-web-lg==3.5.0) (4.65.0)\n",
            "Requirement already satisfied: numpy>=1.15.0 in /usr/local/lib/python3.10/dist-packages (from spacy<3.6.0,>=3.5.0->en-core-web-lg==3.5.0) (1.24.3)\n",
            "Requirement already satisfied: requests<3.0.0,>=2.13.0 in /usr/local/lib/python3.10/dist-packages (from spacy<3.6.0,>=3.5.0->en-core-web-lg==3.5.0) (2.27.1)\n",
            "Requirement already satisfied: pydantic!=1.8,!=1.8.1,<1.11.0,>=1.7.4 in /usr/local/lib/python3.10/dist-packages (from spacy<3.6.0,>=3.5.0->en-core-web-lg==3.5.0) (1.10.7)\n",
            "Requirement already satisfied: jinja2 in /usr/local/lib/python3.10/dist-packages (from spacy<3.6.0,>=3.5.0->en-core-web-lg==3.5.0) (3.1.2)\n",
            "Requirement already satisfied: setuptools in /usr/local/lib/python3.10/dist-packages (from spacy<3.6.0,>=3.5.0->en-core-web-lg==3.5.0) (67.7.2)\n",
            "Requirement already satisfied: packaging>=20.0 in /usr/local/lib/python3.10/dist-packages (from spacy<3.6.0,>=3.5.0->en-core-web-lg==3.5.0) (23.1)\n",
            "Requirement already satisfied: langcodes<4.0.0,>=3.2.0 in /usr/local/lib/python3.10/dist-packages (from spacy<3.6.0,>=3.5.0->en-core-web-lg==3.5.0) (3.3.0)\n",
            "Requirement already satisfied: typing-extensions>=4.2.0 in /usr/local/lib/python3.10/dist-packages (from pydantic!=1.8,!=1.8.1,<1.11.0,>=1.7.4->spacy<3.6.0,>=3.5.0->en-core-web-lg==3.5.0) (4.5.0)\n",
            "Requirement already satisfied: urllib3<1.27,>=1.21.1 in /usr/local/lib/python3.10/dist-packages (from requests<3.0.0,>=2.13.0->spacy<3.6.0,>=3.5.0->en-core-web-lg==3.5.0) (1.26.15)\n",
            "Requirement already satisfied: certifi>=2017.4.17 in /usr/local/lib/python3.10/dist-packages (from requests<3.0.0,>=2.13.0->spacy<3.6.0,>=3.5.0->en-core-web-lg==3.5.0) (2022.12.7)\n",
            "Requirement already satisfied: charset-normalizer~=2.0.0 in /usr/local/lib/python3.10/dist-packages (from requests<3.0.0,>=2.13.0->spacy<3.6.0,>=3.5.0->en-core-web-lg==3.5.0) (2.0.12)\n",
            "Requirement already satisfied: idna<4,>=2.5 in /usr/local/lib/python3.10/dist-packages (from requests<3.0.0,>=2.13.0->spacy<3.6.0,>=3.5.0->en-core-web-lg==3.5.0) (3.4)\n",
            "Requirement already satisfied: blis<0.8.0,>=0.7.8 in /usr/local/lib/python3.10/dist-packages (from thinc<8.2.0,>=8.1.8->spacy<3.6.0,>=3.5.0->en-core-web-lg==3.5.0) (0.7.9)\n",
            "Requirement already satisfied: confection<1.0.0,>=0.0.1 in /usr/local/lib/python3.10/dist-packages (from thinc<8.2.0,>=8.1.8->spacy<3.6.0,>=3.5.0->en-core-web-lg==3.5.0) (0.0.4)\n",
            "Requirement already satisfied: click<9.0.0,>=7.1.1 in /usr/local/lib/python3.10/dist-packages (from typer<0.8.0,>=0.3.0->spacy<3.6.0,>=3.5.0->en-core-web-lg==3.5.0) (8.1.3)\n",
            "Requirement already satisfied: MarkupSafe>=2.0 in /usr/local/lib/python3.10/dist-packages (from jinja2->spacy<3.6.0,>=3.5.0->en-core-web-lg==3.5.0) (2.1.2)\n",
            "Installing collected packages: en-core-web-lg\n",
            "Successfully installed en-core-web-lg-3.5.0\n",
            "\u001b[38;5;2m✔ Download and installation successful\u001b[0m\n",
            "You can now load the package via spacy.load('en_core_web_lg')\n"
          ]
        }
      ],
      "source": [
        "!python -m spacy download en_core_web_lg"
      ]
    },
    {
      "cell_type": "code",
      "execution_count": 47,
      "metadata": {
        "id": "fVjrARu1jn35"
      },
      "outputs": [],
      "source": [
        "nlp = spacy.load(\"en_core_web_lg\")\n",
        "skill_pattern_path = \"jz_skill_patterns.jsonl\""
      ]
    },
    {
      "cell_type": "code",
      "execution_count": 48,
      "metadata": {
        "id": "_pkwUUmlkBNC"
      },
      "outputs": [],
      "source": [
        "ruler = nlp.add_pipe(\"entity_ruler\")"
      ]
    },
    {
      "cell_type": "code",
      "execution_count": 49,
      "metadata": {
        "colab": {
          "base_uri": "https://localhost:8080/"
        },
        "id": "ztLbTnu_mF0T",
        "outputId": "59df08c8-878d-4b41-f099-ea3b1cdaf658"
      },
      "outputs": [
        {
          "data": {
            "text/plain": [
              "['tok2vec',\n",
              " 'tagger',\n",
              " 'parser',\n",
              " 'attribute_ruler',\n",
              " 'lemmatizer',\n",
              " 'ner',\n",
              " 'entity_ruler']"
            ]
          },
          "execution_count": 49,
          "metadata": {},
          "output_type": "execute_result"
        }
      ],
      "source": [
        "nlp.pipe_names"
      ]
    },
    {
      "cell_type": "code",
      "execution_count": 50,
      "metadata": {
        "colab": {
          "base_uri": "https://localhost:8080/"
        },
        "id": "VoxBG1JOmKj0",
        "outputId": "e6f3a6b1-ba5a-4cc3-d3ec-ec3170ce9224"
      },
      "outputs": [
        {
          "data": {
            "text/plain": [
              "<spacy.pipeline.entityruler.EntityRuler at 0x7f619aeef4c0>"
            ]
          },
          "execution_count": 50,
          "metadata": {},
          "output_type": "execute_result"
        }
      ],
      "source": [
        "ruler.from_disk(skill_pattern_path)"
      ]
    },
    {
      "cell_type": "code",
      "execution_count": 51,
      "metadata": {
        "id": "kG9jOv_1mRoH"
      },
      "outputs": [],
      "source": [
        "def get_skills(text):\n",
        "    doc = nlp(text)\n",
        "    myset = []\n",
        "    subset = []\n",
        "    for ent in doc.ents:\n",
        "        if ent.label_ == \"SKILL\":\n",
        "            subset.append(ent.text)\n",
        "    myset.append(subset)\n",
        "    return subset\n",
        "\n",
        "\n",
        "def unique_skills(x):\n",
        "    return list(set(x))"
      ]
    },
    {
      "cell_type": "code",
      "execution_count": 53,
      "metadata": {
        "colab": {
          "base_uri": "https://localhost:8080/"
        },
        "id": "UWaBLlX6meMg",
        "outputId": "09026dcb-3d79-4b13-ba8d-ebbbf18561e8"
      },
      "outputs": [
        {
          "data": {
            "text/plain": [
              "(471, 4)"
            ]
          },
          "execution_count": 53,
          "metadata": {},
          "output_type": "execute_result"
        }
      ],
      "source": [
        "df_new.shape"
      ]
    },
    {
      "cell_type": "code",
      "execution_count": 54,
      "metadata": {
        "colab": {
          "base_uri": "https://localhost:8080/",
          "height": 206
        },
        "id": "_V2dcux-m88B",
        "outputId": "c2cd499c-9055-4c1a-f0a7-dfe94ff0de67"
      },
      "outputs": [
        {
          "data": {
            "text/html": [
              "\n",
              "  <div id=\"df-f7543f1c-a8c2-4e94-9e65-19b0bce68edb\">\n",
              "    <div class=\"colab-df-container\">\n",
              "      <div>\n",
              "<style scoped>\n",
              "    .dataframe tbody tr th:only-of-type {\n",
              "        vertical-align: middle;\n",
              "    }\n",
              "\n",
              "    .dataframe tbody tr th {\n",
              "        vertical-align: top;\n",
              "    }\n",
              "\n",
              "    .dataframe thead th {\n",
              "        text-align: right;\n",
              "    }\n",
              "</style>\n",
              "<table border=\"1\" class=\"dataframe\">\n",
              "  <thead>\n",
              "    <tr style=\"text-align: right;\">\n",
              "      <th></th>\n",
              "      <th>ID</th>\n",
              "      <th>Resume_str</th>\n",
              "      <th>Resume_html</th>\n",
              "      <th>Category</th>\n",
              "    </tr>\n",
              "  </thead>\n",
              "  <tbody>\n",
              "    <tr>\n",
              "      <th>217</th>\n",
              "      <td>36856210</td>\n",
              "      <td>INFORMATION TECHNOLOGY         Summar...</td>\n",
              "      <td>&lt;div class=\"fontsize fontface vmargins hmargin...</td>\n",
              "      <td>INFORMATION-TECHNOLOGY</td>\n",
              "    </tr>\n",
              "    <tr>\n",
              "      <th>218</th>\n",
              "      <td>21780877</td>\n",
              "      <td>INFORMATION TECHNOLOGY SPECIALIST\\tGS...</td>\n",
              "      <td>&lt;div class=\"fontsize fontface vmargins hmargin...</td>\n",
              "      <td>INFORMATION-TECHNOLOGY</td>\n",
              "    </tr>\n",
              "    <tr>\n",
              "      <th>219</th>\n",
              "      <td>33241454</td>\n",
              "      <td>INFORMATION TECHNOLOGY SUPERVISOR    ...</td>\n",
              "      <td>&lt;div class=\"fontsize fontface vmargins hmargin...</td>\n",
              "      <td>INFORMATION-TECHNOLOGY</td>\n",
              "    </tr>\n",
              "    <tr>\n",
              "      <th>220</th>\n",
              "      <td>25990239</td>\n",
              "      <td>INFORMATION TECHNOLOGY INSTRUCTOR    ...</td>\n",
              "      <td>&lt;div class=\"fontsize fontface vmargins hmargin...</td>\n",
              "      <td>INFORMATION-TECHNOLOGY</td>\n",
              "    </tr>\n",
              "    <tr>\n",
              "      <th>221</th>\n",
              "      <td>16899268</td>\n",
              "      <td>INFORMATION TECHNOLOGY MANAGER/ANALYS...</td>\n",
              "      <td>&lt;div class=\"fontsize fontface vmargins hmargin...</td>\n",
              "      <td>INFORMATION-TECHNOLOGY</td>\n",
              "    </tr>\n",
              "  </tbody>\n",
              "</table>\n",
              "</div>\n",
              "      <button class=\"colab-df-convert\" onclick=\"convertToInteractive('df-f7543f1c-a8c2-4e94-9e65-19b0bce68edb')\"\n",
              "              title=\"Convert this dataframe to an interactive table.\"\n",
              "              style=\"display:none;\">\n",
              "        \n",
              "  <svg xmlns=\"http://www.w3.org/2000/svg\" height=\"24px\"viewBox=\"0 0 24 24\"\n",
              "       width=\"24px\">\n",
              "    <path d=\"M0 0h24v24H0V0z\" fill=\"none\"/>\n",
              "    <path d=\"M18.56 5.44l.94 2.06.94-2.06 2.06-.94-2.06-.94-.94-2.06-.94 2.06-2.06.94zm-11 1L8.5 8.5l.94-2.06 2.06-.94-2.06-.94L8.5 2.5l-.94 2.06-2.06.94zm10 10l.94 2.06.94-2.06 2.06-.94-2.06-.94-.94-2.06-.94 2.06-2.06.94z\"/><path d=\"M17.41 7.96l-1.37-1.37c-.4-.4-.92-.59-1.43-.59-.52 0-1.04.2-1.43.59L10.3 9.45l-7.72 7.72c-.78.78-.78 2.05 0 2.83L4 21.41c.39.39.9.59 1.41.59.51 0 1.02-.2 1.41-.59l7.78-7.78 2.81-2.81c.8-.78.8-2.07 0-2.86zM5.41 20L4 18.59l7.72-7.72 1.47 1.35L5.41 20z\"/>\n",
              "  </svg>\n",
              "      </button>\n",
              "      \n",
              "  <style>\n",
              "    .colab-df-container {\n",
              "      display:flex;\n",
              "      flex-wrap:wrap;\n",
              "      gap: 12px;\n",
              "    }\n",
              "\n",
              "    .colab-df-convert {\n",
              "      background-color: #E8F0FE;\n",
              "      border: none;\n",
              "      border-radius: 50%;\n",
              "      cursor: pointer;\n",
              "      display: none;\n",
              "      fill: #1967D2;\n",
              "      height: 32px;\n",
              "      padding: 0 0 0 0;\n",
              "      width: 32px;\n",
              "    }\n",
              "\n",
              "    .colab-df-convert:hover {\n",
              "      background-color: #E2EBFA;\n",
              "      box-shadow: 0px 1px 2px rgba(60, 64, 67, 0.3), 0px 1px 3px 1px rgba(60, 64, 67, 0.15);\n",
              "      fill: #174EA6;\n",
              "    }\n",
              "\n",
              "    [theme=dark] .colab-df-convert {\n",
              "      background-color: #3B4455;\n",
              "      fill: #D2E3FC;\n",
              "    }\n",
              "\n",
              "    [theme=dark] .colab-df-convert:hover {\n",
              "      background-color: #434B5C;\n",
              "      box-shadow: 0px 1px 3px 1px rgba(0, 0, 0, 0.15);\n",
              "      filter: drop-shadow(0px 1px 2px rgba(0, 0, 0, 0.3));\n",
              "      fill: #FFFFFF;\n",
              "    }\n",
              "  </style>\n",
              "\n",
              "      <script>\n",
              "        const buttonEl =\n",
              "          document.querySelector('#df-f7543f1c-a8c2-4e94-9e65-19b0bce68edb button.colab-df-convert');\n",
              "        buttonEl.style.display =\n",
              "          google.colab.kernel.accessAllowed ? 'block' : 'none';\n",
              "\n",
              "        async function convertToInteractive(key) {\n",
              "          const element = document.querySelector('#df-f7543f1c-a8c2-4e94-9e65-19b0bce68edb');\n",
              "          const dataTable =\n",
              "            await google.colab.kernel.invokeFunction('convertToInteractive',\n",
              "                                                     [key], {});\n",
              "          if (!dataTable) return;\n",
              "\n",
              "          const docLinkHtml = 'Like what you see? Visit the ' +\n",
              "            '<a target=\"_blank\" href=https://colab.research.google.com/notebooks/data_table.ipynb>data table notebook</a>'\n",
              "            + ' to learn more about interactive tables.';\n",
              "          element.innerHTML = '';\n",
              "          dataTable['output_type'] = 'display_data';\n",
              "          await google.colab.output.renderOutput(dataTable, element);\n",
              "          const docLink = document.createElement('div');\n",
              "          docLink.innerHTML = docLinkHtml;\n",
              "          element.appendChild(docLink);\n",
              "        }\n",
              "      </script>\n",
              "    </div>\n",
              "  </div>\n",
              "  "
            ],
            "text/plain": [
              "           ID                                         Resume_str  \\\n",
              "217  36856210           INFORMATION TECHNOLOGY         Summar...   \n",
              "218  21780877           INFORMATION TECHNOLOGY SPECIALIST\\tGS...   \n",
              "219  33241454           INFORMATION TECHNOLOGY SUPERVISOR    ...   \n",
              "220  25990239           INFORMATION TECHNOLOGY INSTRUCTOR    ...   \n",
              "221  16899268           INFORMATION TECHNOLOGY MANAGER/ANALYS...   \n",
              "\n",
              "                                           Resume_html                Category  \n",
              "217  <div class=\"fontsize fontface vmargins hmargin...  INFORMATION-TECHNOLOGY  \n",
              "218  <div class=\"fontsize fontface vmargins hmargin...  INFORMATION-TECHNOLOGY  \n",
              "219  <div class=\"fontsize fontface vmargins hmargin...  INFORMATION-TECHNOLOGY  \n",
              "220  <div class=\"fontsize fontface vmargins hmargin...  INFORMATION-TECHNOLOGY  \n",
              "221  <div class=\"fontsize fontface vmargins hmargin...  INFORMATION-TECHNOLOGY  "
            ]
          },
          "execution_count": 54,
          "metadata": {},
          "output_type": "execute_result"
        }
      ],
      "source": [
        "df_new.head()"
      ]
    },
    {
      "cell_type": "code",
      "execution_count": 56,
      "metadata": {
        "colab": {
          "base_uri": "https://localhost:8080/",
          "height": 123
        },
        "id": "vJFMrwabnGC6",
        "outputId": "93ddf4a1-be37-4693-ff3c-222b3ebc00b7"
      },
      "outputs": [
        {
          "data": {
            "application/vnd.google.colaboratory.intrinsic+json": {
              "type": "string"
            },
            "text/plain": [
              "'         INFORMATION TECHNOLOGY SUPERVISOR       Summary    Seeking a position as an Information Technology Specialist. Over 5 years of information technology experience in the U.S. Army, including over 1 year of supervisory experience. Trained personnel in the set-up of IT equipment, ensuring all equipment is properly connected and functioning. Regularly troubleshoot and install various IT equipment and systems. Accountable for the maintenance and inventory of over $1 million worth of IT and other communications equipment with zero losses or damages. Possess a Security   and Microsoft Certification and a Secret Security Clearance.      Highlights          Excellent communication techniques  Manufacturing systems integration  Multidisciplinary exposure  Design instruction creation  Project management      Complex problem solver  Advanced critical thinking  SharePoint  Microsoft Excel, Project and Visio            Accomplishments    Army Achievement Medal for impacting the communications network and overall success of Key Resolve 13 in Yong San, Korea. Air Force Achievement Medal for supporting Operation Iraqi Freedom and performing as an outstanding senior controller. Certificate of Achievement for outstanding support as a member of the Tiger Team during the Windows 7 Migration. Good Conduct Medal for exemplary behavior, efficiency and fidelity in active federal military service.      Experience      Information Technology Supervisor   01/2011   to   05/2014     Company Name   City  ,   State       Supervise up to 10 personnel at one time, delegating tasks, conducting performance evaluations and providing corrective counseling as necessary.  Train personnel in the set-up and proper use of IT related equipment while adhering to all policies and procedures.  Responsible for the inventory of over $1 million worth of network communications equipment.  Tasked by President of the United States to act as supervisor and maintain signal communications for Fort Bragg army base.          Information Technology Technician   01/2009   to   01/2011     Company Name   City  ,   State       Maintained communications equipment in order to effectively relay confidential and secret information.  Utilized electronic test equipment to troubleshoot malfunctioning communications equipment and complete repairs as necessary.  Regularly set up and added computer systems to a communication network, installing operation systems, accessing stored programs and utilizing IP addresses.  Received training in LAN/WAN protocols.          Radiology Technologist   05/2008   to   09/2008     Company Name   City  ,   State       Routinely performed radiological examinations in a medical clinic.  Competent and experienced in the set-up and adjustment of medical devices or equipment.  Regularly provided customer assistance, ensuring all patients received timely and accurate care.  Accountable for the accurate documentation via electronic database and file system ensuring all confidentiality was maintained.          Command Post Controller   10/2001   to   10/2005     Company Name   City  ,   State       Provided command, control, communications, and information support throughout operations during peacetime, emergency, and disaster situations.  Received and relayed instructions and records, submitting manual and automated data products.  Disseminated time-sensitive critical information to senior leaders and support agencies.          Education      Certification, Windows 7, Microsoft, Fort Bragg, NC,     2012                   *Certification, Security  , Comptia, Yong San, Korea,     2012                   *Distinguished Graduate Certificate, Information Technology (Network Communications) Course     2009       U.S. Army   City  ,   State               Certificate, IT Network and Cisco Routing, IT Field Services Branch     2009          City  ,   State               Associate of Science  :   Radiography   2008       Northwest Florida State College   City  ,   State       Radiography        Certificate     2001       IT Tech Prep, Trumbull Career and Technical Center     State               Diploma     2001       Warren G. Harding   City  ,   State               Skills    Army, Cisco, counseling, customer assistance, database, documentation, Information Technology, inventory, IP, LAN, Windows 7, Network, personnel, policies, protocols, repairs, Routing, San, supervisor, test equipment, troubleshoot, WAN   '"
            ]
          },
          "execution_count": 56,
          "metadata": {},
          "output_type": "execute_result"
        }
      ],
      "source": [
        "df_new.iloc[2]['Resume_str']"
      ]
    },
    {
      "cell_type": "code",
      "execution_count": 57,
      "metadata": {
        "colab": {
          "base_uri": "https://localhost:8080/",
          "height": 123
        },
        "id": "NDK9QU2KnOMz",
        "outputId": "d9400423-cc72-47d6-d626-1e718b3313af"
      },
      "outputs": [
        {
          "data": {
            "application/vnd.google.colaboratory.intrinsic+json": {
              "type": "string"
            },
            "text/plain": [
              "'<div class=\"fontsize fontface vmargins hmargins linespacing pagesize\" id=\"document\"> <div class=\"section firstsection\" id=\"SECTION_NAME882761386\" style=\"padding-top:0px;\"> <div class=\"paragraph PARAGRAPH_NAME firstparagraph\" id=\"PARAGRAPH_882761386_1_578057444\" style=\"padding-top:0px;\"> <div class=\"name\" itemprop=\"name\"> <span class=\"field\" id=\"882761386FNAM1\"> </span> <span> </span> <span class=\"field lName\" id=\"882761386LNAM1\"> INFORMATION TECHNOLOGY SUPERVISOR</span> </div> </div> </div> <div class=\"section\" id=\"SECTION_SUMM882761390\" style=\"padding-top:0px;\"> <div class=\"heading\"> <div class=\"sectiontitle\" id=\"SECTNAME_SUMM882761390\"> Summary</div> </div> <div class=\"paragraph firstparagraph\" id=\"PARAGRAPH_882761390_1_578057458\" style=\"padding-top:0px;\"> <div class=\"field singlecolumn\" id=\"882761390FRFM1\"> Seeking a position as an Information Technology Specialist. Over 5 years of information technology experience in the U.S. Army, including over 1 year of supervisory experience. Trained personnel in the set-up of IT equipment, ensuring all equipment is properly connected and functioning. Regularly troubleshoot and install various IT equipment and systems. Accountable for the maintenance and inventory of over $1 million worth of IT and other communications equipment with zero losses or damages. Possess a Security   and Microsoft Certification and a Secret Security Clearance.</div> </div> </div> <div class=\"section\" id=\"SECTION_HILT882761393\" style=\"padding-top:0px;\"> <div class=\"heading\"> <div class=\"sectiontitle\" id=\"SECTNAME_HILT882761393\"> Highlights</div> </div> <div class=\"paragraph firstparagraph\" id=\"PARAGRAPH_882761393_1_578059076\" style=\"padding-top:0px;\"> <div class=\"singlecolumn maincolumn\"> <table class=\"twocol\"> <tbody> <tr> <td class=\"field twocol_1\" id=\"882761393SKC11\"> <ul> <li class=\"\"> Excellent communication techniques</li> <li class=\"\"> Manufacturing systems integration</li> <li class=\"\"> Multidisciplinary exposure</li> <li class=\"\"> Design instruction creation</li> <li class=\"\"> Project management</li> </ul> </td> <td class=\"field twocol_2\" id=\"882761393SKC21\"> <ul> <li class=\"\"> Complex problem solver</li> <li class=\"\"> Advanced critical thinking</li> <li class=\"\"> SharePoint</li> <li class=\"\"> Microsoft Excel, Project and Visio</li> </ul> </td> </tr> </tbody> </table> </div> </div> </div> <div class=\"section\" id=\"SECTION_ACCM882761596\" style=\"padding-top:0px;\"> <div class=\"heading\"> <div class=\"sectiontitle\" id=\"SECTNAME_ACCM882761596\"> Accomplishments</div> </div> <div class=\"paragraph firstparagraph\" id=\"PARAGRAPH_882761596_1_578066656\" style=\"padding-top:0px;\"> <div class=\"field singlecolumn\" id=\"882761596FRFM1\"> Army Achievement Medal for impacting the communications network and overall success of Key Resolve 13 in Yong San, Korea. Air Force Achievement Medal for supporting Operation Iraqi Freedom and performing as an outstanding senior controller. Certificate of Achievement for outstanding support as a member of the Tiger Team during the Windows 7 Migration. Good Conduct Medal for exemplary behavior, efficiency and fidelity in active federal military service.</div> </div> </div> <div class=\"section\" id=\"SECTION_EXPR882761388\" style=\"padding-top:0px;\"> <div class=\"heading\"> <div class=\"sectiontitle\" id=\"SECTNAME_EXPR882761388\"> Experience</div> </div> <div class=\"paragraph firstparagraph\" id=\"PARAGRAPH_882761388_1_578057446\" itemscope=\"\" itemtype=\"https://schema.org/Organization\" style=\"padding-top:0px;\"> <div class=\"singlecolumn\"> <span class=\"paddedline\"> <span class=\"jobtitle\" id=\"882761388JTIT1\"> Information Technology Supervisor</span> <span class=\"datesWrapper\"> <span class=\"jobdates\" format=\"%m/%Y\" id=\"882761388JSTD1\"> 01/2011</span> <span class=\"jobdates\">  to </span> <span class=\"jobdates\" format=\"%m/%Y\" id=\"882761388EDDT1\"> 05/2014</span> </span> </span> <span class=\"paddedline\" itemscope=\"\" itemtype=\"https://schema.org/postalAddress\"> <span class=\"companyname\" id=\"882761388COMP1\" itemprop=\"name\"> Company Name</span> <span class=\"datesWrapper\"> <span class=\"joblocation jobcity\" id=\"882761388JCIT1\" itemprop=\"addressLocality\"> City</span> <span class=\"joblocation\"> , </span> <span class=\"joblocation jobstate\" id=\"882761388JSTA1\" itemprop=\"addressRegion\"> State</span> </span> </span> <span class=\"paddedline\"> <span class=\"jobline\" id=\"882761388JDES1\" itemprop=\"description\"> <ul> <li> Supervise up to 10 personnel at one time, delegating tasks, conducting performance evaluations and providing corrective counseling as necessary.</li> <li> Train personnel in the set-up and proper use of IT related equipment while adhering to all policies and procedures.</li> <li> Responsible for the inventory of over $1 million worth of network communications equipment.</li> <li> Tasked by President of the United States to act as supervisor and maintain signal communications for Fort Bragg army base.</li> </ul> </span> </span> </div> </div> <div class=\"paragraph\" id=\"PARAGRAPH_882761388_2_578057447\" itemscope=\"\" itemtype=\"https://schema.org/Organization\" style=\"padding-top:0px;\"> <div class=\"singlecolumn\"> <span class=\"paddedline\"> <span class=\"jobtitle\" id=\"882761388JTIT2\"> Information Technology Technician</span> <span class=\"datesWrapper\"> <span class=\"jobdates\" format=\"%m/%Y\" id=\"882761388JSTD2\"> 01/2009</span> <span class=\"jobdates\">  to </span> <span class=\"jobdates\" format=\"%m/%Y\" id=\"882761388EDDT2\"> 01/2011</span> </span> </span> <span class=\"paddedline\" itemscope=\"\" itemtype=\"https://schema.org/postalAddress\"> <span class=\"companyname\" id=\"882761388COMP2\" itemprop=\"name\"> Company Name</span> <span class=\"datesWrapper\"> <span class=\"joblocation jobcity\" id=\"882761388JCIT2\" itemprop=\"addressLocality\"> City</span> <span class=\"joblocation\"> , </span> <span class=\"joblocation jobstate\" id=\"882761388JSTA2\" itemprop=\"addressRegion\"> State</span> </span> </span> <span class=\"paddedline\"> <span class=\"jobline\" id=\"882761388JDES2\" itemprop=\"description\"> <ul> <li> Maintained communications equipment in order to effectively relay confidential and secret information.</li> <li> Utilized electronic test equipment to troubleshoot malfunctioning communications equipment and complete repairs as necessary.</li> <li> Regularly set up and added computer systems to a communication network, installing operation systems, accessing stored programs and utilizing IP addresses.</li> <li> Received training in LAN/WAN protocols.</li> </ul> </span> </span> </div> </div> <div class=\"paragraph\" id=\"PARAGRAPH_882761388_3_578057448\" itemscope=\"\" itemtype=\"https://schema.org/Organization\" style=\"padding-top:0px;\"> <div class=\"singlecolumn\"> <span class=\"paddedline\"> <span class=\"jobtitle\" id=\"882761388JTIT3\"> Radiology Technologist</span> <span class=\"datesWrapper\"> <span class=\"jobdates\" format=\"%m/%Y\" id=\"882761388JSTD3\"> 05/2008</span> <span class=\"jobdates\">  to </span> <span class=\"jobdates\" format=\"%m/%Y\" id=\"882761388EDDT3\"> 09/2008</span> </span> </span> <span class=\"paddedline\" itemscope=\"\" itemtype=\"https://schema.org/postalAddress\"> <span class=\"companyname\" id=\"882761388COMP3\" itemprop=\"name\"> Company Name</span> <span class=\"datesWrapper\"> <span class=\"joblocation jobcity\" id=\"882761388JCIT3\" itemprop=\"addressLocality\"> City</span> <span class=\"joblocation\"> , </span> <span class=\"joblocation jobstate\" id=\"882761388JSTA3\" itemprop=\"addressRegion\"> State</span> </span> </span> <span class=\"paddedline\"> <span class=\"jobline\" id=\"882761388JDES3\" itemprop=\"description\"> <ul> <li> Routinely performed radiological examinations in a medical clinic.</li> <li> Competent and experienced in the set-up and adjustment of medical devices or equipment.</li> <li> Regularly provided customer assistance, ensuring all patients received timely and accurate care.</li> <li> Accountable for the accurate documentation via electronic database and file system ensuring all confidentiality was maintained.</li> </ul> </span> </span> </div> </div> <div class=\"paragraph\" id=\"PARAGRAPH_882761388_4_578057449\" itemscope=\"\" itemtype=\"https://schema.org/Organization\" style=\"padding-top:0px;\"> <div class=\"singlecolumn\"> <span class=\"paddedline\"> <span class=\"jobtitle\" id=\"882761388JTIT4\"> Command Post Controller</span> <span class=\"datesWrapper\"> <span class=\"jobdates\" format=\"%m/%Y\" id=\"882761388JSTD4\"> 10/2001</span> <span class=\"jobdates\">  to </span> <span class=\"jobdates\" format=\"%m/%Y\" id=\"882761388EDDT4\"> 10/2005</span> </span> </span> <span class=\"paddedline\" itemscope=\"\" itemtype=\"https://schema.org/postalAddress\"> <span class=\"companyname\" id=\"882761388COMP4\" itemprop=\"name\"> Company Name</span> <span class=\"datesWrapper\"> <span class=\"joblocation jobcity\" id=\"882761388JCIT4\" itemprop=\"addressLocality\"> City</span> <span class=\"joblocation\"> , </span> <span class=\"joblocation jobstate\" id=\"882761388JSTA4\" itemprop=\"addressRegion\"> State</span> </span> </span> <span class=\"paddedline\"> <span class=\"jobline\" id=\"882761388JDES4\" itemprop=\"description\"> <ul> <li> Provided command, control, communications, and information support throughout operations during peacetime, emergency, and disaster situations.</li> <li> Received and relayed instructions and records, submitting manual and automated data products.</li> <li> Disseminated time-sensitive critical information to senior leaders and support agencies.</li> </ul> </span> </span> </div> </div> </div> <div class=\"section\" id=\"SECTION_EDUC882761389\" style=\"padding-top:0px;\"> <div class=\"heading\"> <div class=\"sectiontitle\" id=\"SECTNAME_EDUC882761389\"> Education</div> </div> <div class=\"paragraph firstparagraph\" id=\"PARAGRAPH_882761389_1_578057450\" itemscope=\"\" itemtype=\"https://schema.org/EducationalOrganization\" style=\"padding-top:0px;\"> <div class=\"singlecolumn\"> <span class=\"paddedline\" itemprop=\"description\"> <span class=\"degree\" id=\"882761389DGRE1\" itemprop=\"name\"> Certification, Windows 7, Microsoft, Fort Bragg, NC,</span> <span class=\"programline\" id=\"882761389STUY1\"> </span> <span class=\"datesWrapper\"> <span class=\"jobdates\" id=\"882761389GRYR1\"> 2012</span> <span> </span> </span> </span> <span class=\"paddedline\"> <span class=\"companyname companyname_educ\" id=\"882761389SCHO1\" itemprop=\"name\"> </span> </span> <span class=\"paddedline\"> <span class=\"field\" id=\"882761389FRFM1\"> </span> </span> </div> </div> <div class=\"paragraph\" id=\"PARAGRAPH_882761389_2_578057452\" itemscope=\"\" itemtype=\"https://schema.org/EducationalOrganization\" style=\"padding-top:0px;\"> <div class=\"singlecolumn\"> <span class=\"paddedline\" itemprop=\"description\"> <span class=\"degree\" id=\"882761389DGRE2\" itemprop=\"name\"> *Certification, Security  , Comptia, Yong San, Korea,</span> <span class=\"programline\" id=\"882761389STUY2\"> </span> <span class=\"datesWrapper\"> <span class=\"jobdates\" id=\"882761389GRYR2\"> 2012</span> <span> </span> </span> </span> <span class=\"paddedline\"> <span class=\"companyname companyname_educ\" id=\"882761389SCHO2\" itemprop=\"name\"> </span> </span> <span class=\"paddedline\"> <span class=\"field\" id=\"882761389FRFM2\"> </span> </span> </div> </div> <div class=\"paragraph\" id=\"PARAGRAPH_882761389_3_578057453\" itemscope=\"\" itemtype=\"https://schema.org/EducationalOrganization\" style=\"padding-top:0px;\"> <div class=\"singlecolumn\"> <span class=\"paddedline\" itemprop=\"description\"> <span class=\"degree\" id=\"882761389DGRE3\" itemprop=\"name\"> *Distinguished Graduate Certificate, Information Technology (Network Communications) Course</span> <span class=\"programline\" id=\"882761389STUY3\"> </span> <span class=\"datesWrapper\"> <span class=\"jobdates\" id=\"882761389GRYR3\"> 2009</span> <span> </span> </span> </span> <span class=\"paddedline\"> <span class=\"companyname companyname_educ\" id=\"882761389SCHO3\" itemprop=\"name\"> U.S. Army</span> <span class=\"datesWrapper\"> <span class=\"joblocation jobcity educity\" id=\"882761389SCIT3\"> City</span> <span> , </span> <span class=\"joblocation jobstate edustate\" id=\"882761389SSTA3\"> State</span> <span class=\"joblocation eduCountry\" id=\"882761389SCNT3\"> </span> </span> </span> <span class=\"paddedline\"> <span class=\"field\" id=\"882761389FRFM3\"> </span> </span> </div> </div> <div class=\"paragraph\" id=\"PARAGRAPH_882761389_4_578057454\" itemscope=\"\" itemtype=\"https://schema.org/EducationalOrganization\" style=\"padding-top:0px;\"> <div class=\"singlecolumn\"> <span class=\"paddedline\" itemprop=\"description\"> <span class=\"degree\" id=\"882761389DGRE4\" itemprop=\"name\"> Certificate, IT Network and Cisco Routing, IT Field Services Branch</span> <span class=\"programline\" id=\"882761389STUY4\"> </span> <span class=\"datesWrapper\"> <span class=\"jobdates\" id=\"882761389GRYR4\"> 2009</span> <span> </span> </span> </span> <span class=\"paddedline\"> <span class=\"companyname companyname_educ\" id=\"882761389SCHO4\" itemprop=\"name\"> </span> <span class=\"datesWrapper\"> <span class=\"joblocation jobcity educity\" id=\"882761389SCIT4\"> City</span> <span> , </span> <span class=\"joblocation jobstate edustate\" id=\"882761389SSTA4\"> State</span> <span class=\"joblocation eduCountry\" id=\"882761389SCNT4\"> </span> </span> </span> <span class=\"paddedline\"> <span class=\"field\" id=\"882761389FRFM4\"> </span> </span> </div> </div> <div class=\"paragraph\" id=\"PARAGRAPH_882761389_5_578057455\" itemscope=\"\" itemtype=\"https://schema.org/EducationalOrganization\" style=\"padding-top:0px;\"> <div class=\"singlecolumn\"> <span class=\"paddedline\" itemprop=\"description\"> <span class=\"degree\" id=\"882761389DGRE5\" itemprop=\"name\"> Associate of Science</span> <span> : </span> <span class=\"programline\" id=\"882761389STUY5\"> Radiography</span> <span class=\"datesWrapper\"> <span class=\"jobdates\" id=\"882761389GRYR5\"> 2008</span> <span> </span> </span> </span> <span class=\"paddedline\"> <span class=\"companyname companyname_educ\" id=\"882761389SCHO5\" itemprop=\"name\"> Northwest Florida State College</span> <span class=\"datesWrapper\"> <span class=\"joblocation jobcity educity\" id=\"882761389SCIT5\"> City</span> <span> , </span> <span class=\"joblocation jobstate edustate\" id=\"882761389SSTA5\"> State</span> <span class=\"joblocation eduCountry\" id=\"882761389SCNT5\"> </span> </span> </span> <span class=\"paddedline\"> <span class=\"field\" id=\"882761389FRFM5\"> Radiography</span> </span> </div> </div> <div class=\"paragraph\" id=\"PARAGRAPH_882761389_6_578057456\" itemscope=\"\" itemtype=\"https://schema.org/EducationalOrganization\" style=\"padding-top:0px;\"> <div class=\"singlecolumn\"> <span class=\"paddedline\" itemprop=\"description\"> <span class=\"degree\" id=\"882761389DGRE6\" itemprop=\"name\"> Certificate</span> <span class=\"programline\" id=\"882761389STUY6\"> </span> <span class=\"datesWrapper\"> <span class=\"jobdates\" id=\"882761389GRYR6\"> 2001</span> <span> </span> </span> </span> <span class=\"paddedline\"> <span class=\"companyname companyname_educ\" id=\"882761389SCHO6\" itemprop=\"name\"> IT Tech Prep, Trumbull Career and Technical Center</span> <span class=\"datesWrapper\"> <span class=\"joblocation jobcity educity\" id=\"882761389SCIT6\"> </span> <span class=\"joblocation jobstate edustate\" id=\"882761389SSTA6\"> State</span> <span class=\"joblocation eduCountry\" id=\"882761389SCNT6\"> </span> </span> </span> <span class=\"paddedline\"> <span class=\"field\" id=\"882761389FRFM6\"> </span> </span> </div> </div> <div class=\"paragraph\" id=\"PARAGRAPH_882761389_7_578057457\" itemscope=\"\" itemtype=\"https://schema.org/EducationalOrganization\" style=\"padding-top:0px;\"> <div class=\"singlecolumn\"> <span class=\"paddedline\" itemprop=\"description\"> <span class=\"degree\" id=\"882761389DGRE7\" itemprop=\"name\"> Diploma</span> <span class=\"programline\" id=\"882761389STUY7\"> </span> <span class=\"datesWrapper\"> <span class=\"jobdates\" id=\"882761389GRYR7\"> 2001</span> <span> </span> </span> </span> <span class=\"paddedline\"> <span class=\"companyname companyname_educ\" id=\"882761389SCHO7\" itemprop=\"name\"> Warren G. Harding</span> <span class=\"datesWrapper\"> <span class=\"joblocation jobcity educity\" id=\"882761389SCIT7\"> City</span> <span> , </span> <span class=\"joblocation jobstate edustate\" id=\"882761389SSTA7\"> State</span> <span class=\"joblocation eduCountry\" id=\"882761389SCNT7\"> </span> </span> </span> <span class=\"paddedline\"> <span class=\"field\" id=\"882761389FRFM7\"> </span> </span> </div> </div> </div> <div class=\"section\" id=\"SECTION_SKLL882761391\" style=\"padding-top:0px;\"> <div class=\"heading\"> <div class=\"sectiontitle\" id=\"SECTNAME_SKLL882761391\"> Skills</div> </div> <div class=\"paragraph firstparagraph\" id=\"PARAGRAPH_882761391_1_578057459\" style=\"padding-top:0px;\"> <div class=\"field singlecolumn\" id=\"882761391FRFM1\"> Army, Cisco, counseling, customer assistance, database, documentation, Information Technology, inventory, IP, LAN, Windows 7, Network, personnel, policies, protocols, repairs, Routing, San, supervisor, test equipment, troubleshoot, WAN</div> </div> </div> </div>'"
            ]
          },
          "execution_count": 57,
          "metadata": {},
          "output_type": "execute_result"
        }
      ],
      "source": [
        "df_new.iloc[2]['Resume_html']"
      ]
    },
    {
      "cell_type": "code",
      "execution_count": 59,
      "metadata": {
        "id": "qkVCLoRKnyI0"
      },
      "outputs": [],
      "source": [
        "review = re.sub(\n",
        "        '(@[A-Za-z0-9]+)|([^0-9A-Za-z \\t])|(\\w+:\\/\\/\\S+)|^rt|http.+?\"',\n",
        "        \" \",\n",
        "        df_new[\"Resume_str\"].iloc[2],\n",
        "    )"
      ]
    },
    {
      "cell_type": "code",
      "execution_count": 60,
      "metadata": {
        "colab": {
          "base_uri": "https://localhost:8080/",
          "height": 123
        },
        "id": "fDMdhv7fn9Rn",
        "outputId": "e719e94a-0a45-43ce-e168-23f106845d62"
      },
      "outputs": [
        {
          "data": {
            "application/vnd.google.colaboratory.intrinsic+json": {
              "type": "string"
            },
            "text/plain": [
              "'         INFORMATION TECHNOLOGY SUPERVISOR       Summary    Seeking a position as an Information Technology Specialist  Over 5 years of information technology experience in the U S  Army  including over 1 year of supervisory experience  Trained personnel in the set up of IT equipment  ensuring all equipment is properly connected and functioning  Regularly troubleshoot and install various IT equipment and systems  Accountable for the maintenance and inventory of over  1 million worth of IT and other communications equipment with zero losses or damages  Possess a Security   and Microsoft Certification and a Secret Security Clearance       Highlights          Excellent communication techniques  Manufacturing systems integration  Multidisciplinary exposure  Design instruction creation  Project management      Complex problem solver  Advanced critical thinking  SharePoint  Microsoft Excel  Project and Visio            Accomplishments    Army Achievement Medal for impacting the communications network and overall success of Key Resolve 13 in Yong San  Korea  Air Force Achievement Medal for supporting Operation Iraqi Freedom and performing as an outstanding senior controller  Certificate of Achievement for outstanding support as a member of the Tiger Team during the Windows 7 Migration  Good Conduct Medal for exemplary behavior  efficiency and fidelity in active federal military service       Experience      Information Technology Supervisor   01 2011   to   05 2014     Company Name   City      State       Supervise up to 10 personnel at one time  delegating tasks  conducting performance evaluations and providing corrective counseling as necessary   Train personnel in the set up and proper use of IT related equipment while adhering to all policies and procedures   Responsible for the inventory of over  1 million worth of network communications equipment   Tasked by President of the United States to act as supervisor and maintain signal communications for Fort Bragg army base           Information Technology Technician   01 2009   to   01 2011     Company Name   City      State       Maintained communications equipment in order to effectively relay confidential and secret information   Utilized electronic test equipment to troubleshoot malfunctioning communications equipment and complete repairs as necessary   Regularly set up and added computer systems to a communication network  installing operation systems  accessing stored programs and utilizing IP addresses   Received training in LAN WAN protocols           Radiology Technologist   05 2008   to   09 2008     Company Name   City      State       Routinely performed radiological examinations in a medical clinic   Competent and experienced in the set up and adjustment of medical devices or equipment   Regularly provided customer assistance  ensuring all patients received timely and accurate care   Accountable for the accurate documentation via electronic database and file system ensuring all confidentiality was maintained           Command Post Controller   10 2001   to   10 2005     Company Name   City      State       Provided command  control  communications  and information support throughout operations during peacetime  emergency  and disaster situations   Received and relayed instructions and records  submitting manual and automated data products   Disseminated time sensitive critical information to senior leaders and support agencies           Education      Certification  Windows 7  Microsoft  Fort Bragg  NC      2012                    Certification  Security    Comptia  Yong San  Korea      2012                    Distinguished Graduate Certificate  Information Technology  Network Communications  Course     2009       U S  Army   City      State               Certificate  IT Network and Cisco Routing  IT Field Services Branch     2009          City      State               Associate of Science      Radiography   2008       Northwest Florida State College   City      State       Radiography        Certificate     2001       IT Tech Prep  Trumbull Career and Technical Center     State               Diploma     2001       Warren G  Harding   City      State               Skills    Army  Cisco  counseling  customer assistance  database  documentation  Information Technology  inventory  IP  LAN  Windows 7  Network  personnel  policies  protocols  repairs  Routing  San  supervisor  test equipment  troubleshoot  WAN   '"
            ]
          },
          "execution_count": 60,
          "metadata": {},
          "output_type": "execute_result"
        }
      ],
      "source": [
        "review"
      ]
    },
    {
      "cell_type": "code",
      "execution_count": 61,
      "metadata": {
        "id": "6Mv9ybFCoBqP"
      },
      "outputs": [],
      "source": [
        "review = review.lower()"
      ]
    },
    {
      "cell_type": "code",
      "execution_count": 62,
      "metadata": {
        "colab": {
          "base_uri": "https://localhost:8080/",
          "height": 123
        },
        "id": "KzXpHr5JpZ0I",
        "outputId": "3dd3d9a0-6658-472c-eaa6-a46e9b14cf65"
      },
      "outputs": [
        {
          "data": {
            "application/vnd.google.colaboratory.intrinsic+json": {
              "type": "string"
            },
            "text/plain": [
              "'         information technology supervisor       summary    seeking a position as an information technology specialist  over 5 years of information technology experience in the u s  army  including over 1 year of supervisory experience  trained personnel in the set up of it equipment  ensuring all equipment is properly connected and functioning  regularly troubleshoot and install various it equipment and systems  accountable for the maintenance and inventory of over  1 million worth of it and other communications equipment with zero losses or damages  possess a security   and microsoft certification and a secret security clearance       highlights          excellent communication techniques  manufacturing systems integration  multidisciplinary exposure  design instruction creation  project management      complex problem solver  advanced critical thinking  sharepoint  microsoft excel  project and visio            accomplishments    army achievement medal for impacting the communications network and overall success of key resolve 13 in yong san  korea  air force achievement medal for supporting operation iraqi freedom and performing as an outstanding senior controller  certificate of achievement for outstanding support as a member of the tiger team during the windows 7 migration  good conduct medal for exemplary behavior  efficiency and fidelity in active federal military service       experience      information technology supervisor   01 2011   to   05 2014     company name   city      state       supervise up to 10 personnel at one time  delegating tasks  conducting performance evaluations and providing corrective counseling as necessary   train personnel in the set up and proper use of it related equipment while adhering to all policies and procedures   responsible for the inventory of over  1 million worth of network communications equipment   tasked by president of the united states to act as supervisor and maintain signal communications for fort bragg army base           information technology technician   01 2009   to   01 2011     company name   city      state       maintained communications equipment in order to effectively relay confidential and secret information   utilized electronic test equipment to troubleshoot malfunctioning communications equipment and complete repairs as necessary   regularly set up and added computer systems to a communication network  installing operation systems  accessing stored programs and utilizing ip addresses   received training in lan wan protocols           radiology technologist   05 2008   to   09 2008     company name   city      state       routinely performed radiological examinations in a medical clinic   competent and experienced in the set up and adjustment of medical devices or equipment   regularly provided customer assistance  ensuring all patients received timely and accurate care   accountable for the accurate documentation via electronic database and file system ensuring all confidentiality was maintained           command post controller   10 2001   to   10 2005     company name   city      state       provided command  control  communications  and information support throughout operations during peacetime  emergency  and disaster situations   received and relayed instructions and records  submitting manual and automated data products   disseminated time sensitive critical information to senior leaders and support agencies           education      certification  windows 7  microsoft  fort bragg  nc      2012                    certification  security    comptia  yong san  korea      2012                    distinguished graduate certificate  information technology  network communications  course     2009       u s  army   city      state               certificate  it network and cisco routing  it field services branch     2009          city      state               associate of science      radiography   2008       northwest florida state college   city      state       radiography        certificate     2001       it tech prep  trumbull career and technical center     state               diploma     2001       warren g  harding   city      state               skills    army  cisco  counseling  customer assistance  database  documentation  information technology  inventory  ip  lan  windows 7  network  personnel  policies  protocols  repairs  routing  san  supervisor  test equipment  troubleshoot  wan   '"
            ]
          },
          "execution_count": 62,
          "metadata": {},
          "output_type": "execute_result"
        }
      ],
      "source": [
        "review"
      ]
    },
    {
      "cell_type": "code",
      "execution_count": 63,
      "metadata": {
        "id": "n3wakAujpa7o"
      },
      "outputs": [],
      "source": [
        "review = review.split()"
      ]
    },
    {
      "cell_type": "code",
      "execution_count": 64,
      "metadata": {
        "colab": {
          "base_uri": "https://localhost:8080/"
        },
        "id": "4A4nQtjap2_u",
        "outputId": "00a2aa96-f4d3-4b54-e4e7-35183df719c4"
      },
      "outputs": [
        {
          "data": {
            "text/plain": [
              "['information',\n",
              " 'technology',\n",
              " 'supervisor',\n",
              " 'summary',\n",
              " 'seeking',\n",
              " 'a',\n",
              " 'position',\n",
              " 'as',\n",
              " 'an',\n",
              " 'information',\n",
              " 'technology',\n",
              " 'specialist',\n",
              " 'over',\n",
              " '5',\n",
              " 'years',\n",
              " 'of',\n",
              " 'information',\n",
              " 'technology',\n",
              " 'experience',\n",
              " 'in',\n",
              " 'the',\n",
              " 'u',\n",
              " 's',\n",
              " 'army',\n",
              " 'including',\n",
              " 'over',\n",
              " '1',\n",
              " 'year',\n",
              " 'of',\n",
              " 'supervisory',\n",
              " 'experience',\n",
              " 'trained',\n",
              " 'personnel',\n",
              " 'in',\n",
              " 'the',\n",
              " 'set',\n",
              " 'up',\n",
              " 'of',\n",
              " 'it',\n",
              " 'equipment',\n",
              " 'ensuring',\n",
              " 'all',\n",
              " 'equipment',\n",
              " 'is',\n",
              " 'properly',\n",
              " 'connected',\n",
              " 'and',\n",
              " 'functioning',\n",
              " 'regularly',\n",
              " 'troubleshoot',\n",
              " 'and',\n",
              " 'install',\n",
              " 'various',\n",
              " 'it',\n",
              " 'equipment',\n",
              " 'and',\n",
              " 'systems',\n",
              " 'accountable',\n",
              " 'for',\n",
              " 'the',\n",
              " 'maintenance',\n",
              " 'and',\n",
              " 'inventory',\n",
              " 'of',\n",
              " 'over',\n",
              " '1',\n",
              " 'million',\n",
              " 'worth',\n",
              " 'of',\n",
              " 'it',\n",
              " 'and',\n",
              " 'other',\n",
              " 'communications',\n",
              " 'equipment',\n",
              " 'with',\n",
              " 'zero',\n",
              " 'losses',\n",
              " 'or',\n",
              " 'damages',\n",
              " 'possess',\n",
              " 'a',\n",
              " 'security',\n",
              " 'and',\n",
              " 'microsoft',\n",
              " 'certification',\n",
              " 'and',\n",
              " 'a',\n",
              " 'secret',\n",
              " 'security',\n",
              " 'clearance',\n",
              " 'highlights',\n",
              " 'excellent',\n",
              " 'communication',\n",
              " 'techniques',\n",
              " 'manufacturing',\n",
              " 'systems',\n",
              " 'integration',\n",
              " 'multidisciplinary',\n",
              " 'exposure',\n",
              " 'design',\n",
              " 'instruction',\n",
              " 'creation',\n",
              " 'project',\n",
              " 'management',\n",
              " 'complex',\n",
              " 'problem',\n",
              " 'solver',\n",
              " 'advanced',\n",
              " 'critical',\n",
              " 'thinking',\n",
              " 'sharepoint',\n",
              " 'microsoft',\n",
              " 'excel',\n",
              " 'project',\n",
              " 'and',\n",
              " 'visio',\n",
              " 'accomplishments',\n",
              " 'army',\n",
              " 'achievement',\n",
              " 'medal',\n",
              " 'for',\n",
              " 'impacting',\n",
              " 'the',\n",
              " 'communications',\n",
              " 'network',\n",
              " 'and',\n",
              " 'overall',\n",
              " 'success',\n",
              " 'of',\n",
              " 'key',\n",
              " 'resolve',\n",
              " '13',\n",
              " 'in',\n",
              " 'yong',\n",
              " 'san',\n",
              " 'korea',\n",
              " 'air',\n",
              " 'force',\n",
              " 'achievement',\n",
              " 'medal',\n",
              " 'for',\n",
              " 'supporting',\n",
              " 'operation',\n",
              " 'iraqi',\n",
              " 'freedom',\n",
              " 'and',\n",
              " 'performing',\n",
              " 'as',\n",
              " 'an',\n",
              " 'outstanding',\n",
              " 'senior',\n",
              " 'controller',\n",
              " 'certificate',\n",
              " 'of',\n",
              " 'achievement',\n",
              " 'for',\n",
              " 'outstanding',\n",
              " 'support',\n",
              " 'as',\n",
              " 'a',\n",
              " 'member',\n",
              " 'of',\n",
              " 'the',\n",
              " 'tiger',\n",
              " 'team',\n",
              " 'during',\n",
              " 'the',\n",
              " 'windows',\n",
              " '7',\n",
              " 'migration',\n",
              " 'good',\n",
              " 'conduct',\n",
              " 'medal',\n",
              " 'for',\n",
              " 'exemplary',\n",
              " 'behavior',\n",
              " 'efficiency',\n",
              " 'and',\n",
              " 'fidelity',\n",
              " 'in',\n",
              " 'active',\n",
              " 'federal',\n",
              " 'military',\n",
              " 'service',\n",
              " 'experience',\n",
              " 'information',\n",
              " 'technology',\n",
              " 'supervisor',\n",
              " '01',\n",
              " '2011',\n",
              " 'to',\n",
              " '05',\n",
              " '2014',\n",
              " 'company',\n",
              " 'name',\n",
              " 'city',\n",
              " 'state',\n",
              " 'supervise',\n",
              " 'up',\n",
              " 'to',\n",
              " '10',\n",
              " 'personnel',\n",
              " 'at',\n",
              " 'one',\n",
              " 'time',\n",
              " 'delegating',\n",
              " 'tasks',\n",
              " 'conducting',\n",
              " 'performance',\n",
              " 'evaluations',\n",
              " 'and',\n",
              " 'providing',\n",
              " 'corrective',\n",
              " 'counseling',\n",
              " 'as',\n",
              " 'necessary',\n",
              " 'train',\n",
              " 'personnel',\n",
              " 'in',\n",
              " 'the',\n",
              " 'set',\n",
              " 'up',\n",
              " 'and',\n",
              " 'proper',\n",
              " 'use',\n",
              " 'of',\n",
              " 'it',\n",
              " 'related',\n",
              " 'equipment',\n",
              " 'while',\n",
              " 'adhering',\n",
              " 'to',\n",
              " 'all',\n",
              " 'policies',\n",
              " 'and',\n",
              " 'procedures',\n",
              " 'responsible',\n",
              " 'for',\n",
              " 'the',\n",
              " 'inventory',\n",
              " 'of',\n",
              " 'over',\n",
              " '1',\n",
              " 'million',\n",
              " 'worth',\n",
              " 'of',\n",
              " 'network',\n",
              " 'communications',\n",
              " 'equipment',\n",
              " 'tasked',\n",
              " 'by',\n",
              " 'president',\n",
              " 'of',\n",
              " 'the',\n",
              " 'united',\n",
              " 'states',\n",
              " 'to',\n",
              " 'act',\n",
              " 'as',\n",
              " 'supervisor',\n",
              " 'and',\n",
              " 'maintain',\n",
              " 'signal',\n",
              " 'communications',\n",
              " 'for',\n",
              " 'fort',\n",
              " 'bragg',\n",
              " 'army',\n",
              " 'base',\n",
              " 'information',\n",
              " 'technology',\n",
              " 'technician',\n",
              " '01',\n",
              " '2009',\n",
              " 'to',\n",
              " '01',\n",
              " '2011',\n",
              " 'company',\n",
              " 'name',\n",
              " 'city',\n",
              " 'state',\n",
              " 'maintained',\n",
              " 'communications',\n",
              " 'equipment',\n",
              " 'in',\n",
              " 'order',\n",
              " 'to',\n",
              " 'effectively',\n",
              " 'relay',\n",
              " 'confidential',\n",
              " 'and',\n",
              " 'secret',\n",
              " 'information',\n",
              " 'utilized',\n",
              " 'electronic',\n",
              " 'test',\n",
              " 'equipment',\n",
              " 'to',\n",
              " 'troubleshoot',\n",
              " 'malfunctioning',\n",
              " 'communications',\n",
              " 'equipment',\n",
              " 'and',\n",
              " 'complete',\n",
              " 'repairs',\n",
              " 'as',\n",
              " 'necessary',\n",
              " 'regularly',\n",
              " 'set',\n",
              " 'up',\n",
              " 'and',\n",
              " 'added',\n",
              " 'computer',\n",
              " 'systems',\n",
              " 'to',\n",
              " 'a',\n",
              " 'communication',\n",
              " 'network',\n",
              " 'installing',\n",
              " 'operation',\n",
              " 'systems',\n",
              " 'accessing',\n",
              " 'stored',\n",
              " 'programs',\n",
              " 'and',\n",
              " 'utilizing',\n",
              " 'ip',\n",
              " 'addresses',\n",
              " 'received',\n",
              " 'training',\n",
              " 'in',\n",
              " 'lan',\n",
              " 'wan',\n",
              " 'protocols',\n",
              " 'radiology',\n",
              " 'technologist',\n",
              " '05',\n",
              " '2008',\n",
              " 'to',\n",
              " '09',\n",
              " '2008',\n",
              " 'company',\n",
              " 'name',\n",
              " 'city',\n",
              " 'state',\n",
              " 'routinely',\n",
              " 'performed',\n",
              " 'radiological',\n",
              " 'examinations',\n",
              " 'in',\n",
              " 'a',\n",
              " 'medical',\n",
              " 'clinic',\n",
              " 'competent',\n",
              " 'and',\n",
              " 'experienced',\n",
              " 'in',\n",
              " 'the',\n",
              " 'set',\n",
              " 'up',\n",
              " 'and',\n",
              " 'adjustment',\n",
              " 'of',\n",
              " 'medical',\n",
              " 'devices',\n",
              " 'or',\n",
              " 'equipment',\n",
              " 'regularly',\n",
              " 'provided',\n",
              " 'customer',\n",
              " 'assistance',\n",
              " 'ensuring',\n",
              " 'all',\n",
              " 'patients',\n",
              " 'received',\n",
              " 'timely',\n",
              " 'and',\n",
              " 'accurate',\n",
              " 'care',\n",
              " 'accountable',\n",
              " 'for',\n",
              " 'the',\n",
              " 'accurate',\n",
              " 'documentation',\n",
              " 'via',\n",
              " 'electronic',\n",
              " 'database',\n",
              " 'and',\n",
              " 'file',\n",
              " 'system',\n",
              " 'ensuring',\n",
              " 'all',\n",
              " 'confidentiality',\n",
              " 'was',\n",
              " 'maintained',\n",
              " 'command',\n",
              " 'post',\n",
              " 'controller',\n",
              " '10',\n",
              " '2001',\n",
              " 'to',\n",
              " '10',\n",
              " '2005',\n",
              " 'company',\n",
              " 'name',\n",
              " 'city',\n",
              " 'state',\n",
              " 'provided',\n",
              " 'command',\n",
              " 'control',\n",
              " 'communications',\n",
              " 'and',\n",
              " 'information',\n",
              " 'support',\n",
              " 'throughout',\n",
              " 'operations',\n",
              " 'during',\n",
              " 'peacetime',\n",
              " 'emergency',\n",
              " 'and',\n",
              " 'disaster',\n",
              " 'situations',\n",
              " 'received',\n",
              " 'and',\n",
              " 'relayed',\n",
              " 'instructions',\n",
              " 'and',\n",
              " 'records',\n",
              " 'submitting',\n",
              " 'manual',\n",
              " 'and',\n",
              " 'automated',\n",
              " 'data',\n",
              " 'products',\n",
              " 'disseminated',\n",
              " 'time',\n",
              " 'sensitive',\n",
              " 'critical',\n",
              " 'information',\n",
              " 'to',\n",
              " 'senior',\n",
              " 'leaders',\n",
              " 'and',\n",
              " 'support',\n",
              " 'agencies',\n",
              " 'education',\n",
              " 'certification',\n",
              " 'windows',\n",
              " '7',\n",
              " 'microsoft',\n",
              " 'fort',\n",
              " 'bragg',\n",
              " 'nc',\n",
              " '2012',\n",
              " 'certification',\n",
              " 'security',\n",
              " 'comptia',\n",
              " 'yong',\n",
              " 'san',\n",
              " 'korea',\n",
              " '2012',\n",
              " 'distinguished',\n",
              " 'graduate',\n",
              " 'certificate',\n",
              " 'information',\n",
              " 'technology',\n",
              " 'network',\n",
              " 'communications',\n",
              " 'course',\n",
              " '2009',\n",
              " 'u',\n",
              " 's',\n",
              " 'army',\n",
              " 'city',\n",
              " 'state',\n",
              " 'certificate',\n",
              " 'it',\n",
              " 'network',\n",
              " 'and',\n",
              " 'cisco',\n",
              " 'routing',\n",
              " 'it',\n",
              " 'field',\n",
              " 'services',\n",
              " 'branch',\n",
              " '2009',\n",
              " 'city',\n",
              " 'state',\n",
              " 'associate',\n",
              " 'of',\n",
              " 'science',\n",
              " 'radiography',\n",
              " '2008',\n",
              " 'northwest',\n",
              " 'florida',\n",
              " 'state',\n",
              " 'college',\n",
              " 'city',\n",
              " 'state',\n",
              " 'radiography',\n",
              " 'certificate',\n",
              " '2001',\n",
              " 'it',\n",
              " 'tech',\n",
              " 'prep',\n",
              " 'trumbull',\n",
              " 'career',\n",
              " 'and',\n",
              " 'technical',\n",
              " 'center',\n",
              " 'state',\n",
              " 'diploma',\n",
              " '2001',\n",
              " 'warren',\n",
              " 'g',\n",
              " 'harding',\n",
              " 'city',\n",
              " 'state',\n",
              " 'skills',\n",
              " 'army',\n",
              " 'cisco',\n",
              " 'counseling',\n",
              " 'customer',\n",
              " 'assistance',\n",
              " 'database',\n",
              " 'documentation',\n",
              " 'information',\n",
              " 'technology',\n",
              " 'inventory',\n",
              " 'ip',\n",
              " 'lan',\n",
              " 'windows',\n",
              " '7',\n",
              " 'network',\n",
              " 'personnel',\n",
              " 'policies',\n",
              " 'protocols',\n",
              " 'repairs',\n",
              " 'routing',\n",
              " 'san',\n",
              " 'supervisor',\n",
              " 'test',\n",
              " 'equipment',\n",
              " 'troubleshoot',\n",
              " 'wan']"
            ]
          },
          "execution_count": 64,
          "metadata": {},
          "output_type": "execute_result"
        }
      ],
      "source": [
        "review"
      ]
    },
    {
      "cell_type": "code",
      "execution_count": 65,
      "metadata": {
        "id": "Q5GUslOup4R-"
      },
      "outputs": [],
      "source": [
        "lm = WordNetLemmatizer()"
      ]
    },
    {
      "cell_type": "code",
      "execution_count": 66,
      "metadata": {
        "colab": {
          "base_uri": "https://localhost:8080/"
        },
        "id": "aV-DG2VvqAbJ",
        "outputId": "6f7653ee-f47d-452e-b698-fb316eb47812"
      },
      "outputs": [
        {
          "data": {
            "text/plain": [
              "<WordNetLemmatizer>"
            ]
          },
          "execution_count": 66,
          "metadata": {},
          "output_type": "execute_result"
        }
      ],
      "source": [
        "lm "
      ]
    },
    {
      "cell_type": "code",
      "execution_count": 69,
      "metadata": {
        "id": "FTtz8x1ZqBQN"
      },
      "outputs": [],
      "source": [
        "review = [\n",
        "        lm.lemmatize(word)\n",
        "        for word in review\n",
        "        if not word in set(stopwords.words(\"english\"))\n",
        "    ]"
      ]
    },
    {
      "cell_type": "code",
      "execution_count": 70,
      "metadata": {
        "colab": {
          "base_uri": "https://localhost:8080/"
        },
        "id": "i-CRwxi-qIwE",
        "outputId": "458ca2ba-efac-46fe-d726-3ede3ef5cfaa"
      },
      "outputs": [
        {
          "data": {
            "text/plain": [
              "['information',\n",
              " 'technology',\n",
              " 'supervisor',\n",
              " 'summary',\n",
              " 'seeking',\n",
              " 'position',\n",
              " 'information',\n",
              " 'technology',\n",
              " 'specialist',\n",
              " '5',\n",
              " 'year',\n",
              " 'information',\n",
              " 'technology',\n",
              " 'experience',\n",
              " 'u',\n",
              " 'army',\n",
              " 'including',\n",
              " '1',\n",
              " 'year',\n",
              " 'supervisory',\n",
              " 'experience',\n",
              " 'trained',\n",
              " 'personnel',\n",
              " 'set',\n",
              " 'equipment',\n",
              " 'ensuring',\n",
              " 'equipment',\n",
              " 'properly',\n",
              " 'connected',\n",
              " 'functioning',\n",
              " 'regularly',\n",
              " 'troubleshoot',\n",
              " 'install',\n",
              " 'various',\n",
              " 'equipment',\n",
              " 'system',\n",
              " 'accountable',\n",
              " 'maintenance',\n",
              " 'inventory',\n",
              " '1',\n",
              " 'million',\n",
              " 'worth',\n",
              " 'communication',\n",
              " 'equipment',\n",
              " 'zero',\n",
              " 'loss',\n",
              " 'damage',\n",
              " 'posse',\n",
              " 'security',\n",
              " 'microsoft',\n",
              " 'certification',\n",
              " 'secret',\n",
              " 'security',\n",
              " 'clearance',\n",
              " 'highlight',\n",
              " 'excellent',\n",
              " 'communication',\n",
              " 'technique',\n",
              " 'manufacturing',\n",
              " 'system',\n",
              " 'integration',\n",
              " 'multidisciplinary',\n",
              " 'exposure',\n",
              " 'design',\n",
              " 'instruction',\n",
              " 'creation',\n",
              " 'project',\n",
              " 'management',\n",
              " 'complex',\n",
              " 'problem',\n",
              " 'solver',\n",
              " 'advanced',\n",
              " 'critical',\n",
              " 'thinking',\n",
              " 'sharepoint',\n",
              " 'microsoft',\n",
              " 'excel',\n",
              " 'project',\n",
              " 'visio',\n",
              " 'accomplishment',\n",
              " 'army',\n",
              " 'achievement',\n",
              " 'medal',\n",
              " 'impacting',\n",
              " 'communication',\n",
              " 'network',\n",
              " 'overall',\n",
              " 'success',\n",
              " 'key',\n",
              " 'resolve',\n",
              " '13',\n",
              " 'yong',\n",
              " 'san',\n",
              " 'korea',\n",
              " 'air',\n",
              " 'force',\n",
              " 'achievement',\n",
              " 'medal',\n",
              " 'supporting',\n",
              " 'operation',\n",
              " 'iraqi',\n",
              " 'freedom',\n",
              " 'performing',\n",
              " 'outstanding',\n",
              " 'senior',\n",
              " 'controller',\n",
              " 'certificate',\n",
              " 'achievement',\n",
              " 'outstanding',\n",
              " 'support',\n",
              " 'member',\n",
              " 'tiger',\n",
              " 'team',\n",
              " 'window',\n",
              " '7',\n",
              " 'migration',\n",
              " 'good',\n",
              " 'conduct',\n",
              " 'medal',\n",
              " 'exemplary',\n",
              " 'behavior',\n",
              " 'efficiency',\n",
              " 'fidelity',\n",
              " 'active',\n",
              " 'federal',\n",
              " 'military',\n",
              " 'service',\n",
              " 'experience',\n",
              " 'information',\n",
              " 'technology',\n",
              " 'supervisor',\n",
              " '01',\n",
              " '2011',\n",
              " '05',\n",
              " '2014',\n",
              " 'company',\n",
              " 'name',\n",
              " 'city',\n",
              " 'state',\n",
              " 'supervise',\n",
              " '10',\n",
              " 'personnel',\n",
              " 'one',\n",
              " 'time',\n",
              " 'delegating',\n",
              " 'task',\n",
              " 'conducting',\n",
              " 'performance',\n",
              " 'evaluation',\n",
              " 'providing',\n",
              " 'corrective',\n",
              " 'counseling',\n",
              " 'necessary',\n",
              " 'train',\n",
              " 'personnel',\n",
              " 'set',\n",
              " 'proper',\n",
              " 'use',\n",
              " 'related',\n",
              " 'equipment',\n",
              " 'adhering',\n",
              " 'policy',\n",
              " 'procedure',\n",
              " 'responsible',\n",
              " 'inventory',\n",
              " '1',\n",
              " 'million',\n",
              " 'worth',\n",
              " 'network',\n",
              " 'communication',\n",
              " 'equipment',\n",
              " 'tasked',\n",
              " 'president',\n",
              " 'united',\n",
              " 'state',\n",
              " 'act',\n",
              " 'supervisor',\n",
              " 'maintain',\n",
              " 'signal',\n",
              " 'communication',\n",
              " 'fort',\n",
              " 'bragg',\n",
              " 'army',\n",
              " 'base',\n",
              " 'information',\n",
              " 'technology',\n",
              " 'technician',\n",
              " '01',\n",
              " '2009',\n",
              " '01',\n",
              " '2011',\n",
              " 'company',\n",
              " 'name',\n",
              " 'city',\n",
              " 'state',\n",
              " 'maintained',\n",
              " 'communication',\n",
              " 'equipment',\n",
              " 'order',\n",
              " 'effectively',\n",
              " 'relay',\n",
              " 'confidential',\n",
              " 'secret',\n",
              " 'information',\n",
              " 'utilized',\n",
              " 'electronic',\n",
              " 'test',\n",
              " 'equipment',\n",
              " 'troubleshoot',\n",
              " 'malfunctioning',\n",
              " 'communication',\n",
              " 'equipment',\n",
              " 'complete',\n",
              " 'repair',\n",
              " 'necessary',\n",
              " 'regularly',\n",
              " 'set',\n",
              " 'added',\n",
              " 'computer',\n",
              " 'system',\n",
              " 'communication',\n",
              " 'network',\n",
              " 'installing',\n",
              " 'operation',\n",
              " 'system',\n",
              " 'accessing',\n",
              " 'stored',\n",
              " 'program',\n",
              " 'utilizing',\n",
              " 'ip',\n",
              " 'address',\n",
              " 'received',\n",
              " 'training',\n",
              " 'lan',\n",
              " 'wan',\n",
              " 'protocol',\n",
              " 'radiology',\n",
              " 'technologist',\n",
              " '05',\n",
              " '2008',\n",
              " '09',\n",
              " '2008',\n",
              " 'company',\n",
              " 'name',\n",
              " 'city',\n",
              " 'state',\n",
              " 'routinely',\n",
              " 'performed',\n",
              " 'radiological',\n",
              " 'examination',\n",
              " 'medical',\n",
              " 'clinic',\n",
              " 'competent',\n",
              " 'experienced',\n",
              " 'set',\n",
              " 'adjustment',\n",
              " 'medical',\n",
              " 'device',\n",
              " 'equipment',\n",
              " 'regularly',\n",
              " 'provided',\n",
              " 'customer',\n",
              " 'assistance',\n",
              " 'ensuring',\n",
              " 'patient',\n",
              " 'received',\n",
              " 'timely',\n",
              " 'accurate',\n",
              " 'care',\n",
              " 'accountable',\n",
              " 'accurate',\n",
              " 'documentation',\n",
              " 'via',\n",
              " 'electronic',\n",
              " 'database',\n",
              " 'file',\n",
              " 'system',\n",
              " 'ensuring',\n",
              " 'confidentiality',\n",
              " 'maintained',\n",
              " 'command',\n",
              " 'post',\n",
              " 'controller',\n",
              " '10',\n",
              " '2001',\n",
              " '10',\n",
              " '2005',\n",
              " 'company',\n",
              " 'name',\n",
              " 'city',\n",
              " 'state',\n",
              " 'provided',\n",
              " 'command',\n",
              " 'control',\n",
              " 'communication',\n",
              " 'information',\n",
              " 'support',\n",
              " 'throughout',\n",
              " 'operation',\n",
              " 'peacetime',\n",
              " 'emergency',\n",
              " 'disaster',\n",
              " 'situation',\n",
              " 'received',\n",
              " 'relayed',\n",
              " 'instruction',\n",
              " 'record',\n",
              " 'submitting',\n",
              " 'manual',\n",
              " 'automated',\n",
              " 'data',\n",
              " 'product',\n",
              " 'disseminated',\n",
              " 'time',\n",
              " 'sensitive',\n",
              " 'critical',\n",
              " 'information',\n",
              " 'senior',\n",
              " 'leader',\n",
              " 'support',\n",
              " 'agency',\n",
              " 'education',\n",
              " 'certification',\n",
              " 'window',\n",
              " '7',\n",
              " 'microsoft',\n",
              " 'fort',\n",
              " 'bragg',\n",
              " 'nc',\n",
              " '2012',\n",
              " 'certification',\n",
              " 'security',\n",
              " 'comptia',\n",
              " 'yong',\n",
              " 'san',\n",
              " 'korea',\n",
              " '2012',\n",
              " 'distinguished',\n",
              " 'graduate',\n",
              " 'certificate',\n",
              " 'information',\n",
              " 'technology',\n",
              " 'network',\n",
              " 'communication',\n",
              " 'course',\n",
              " '2009',\n",
              " 'u',\n",
              " 'army',\n",
              " 'city',\n",
              " 'state',\n",
              " 'certificate',\n",
              " 'network',\n",
              " 'cisco',\n",
              " 'routing',\n",
              " 'field',\n",
              " 'service',\n",
              " 'branch',\n",
              " '2009',\n",
              " 'city',\n",
              " 'state',\n",
              " 'associate',\n",
              " 'science',\n",
              " 'radiography',\n",
              " '2008',\n",
              " 'northwest',\n",
              " 'florida',\n",
              " 'state',\n",
              " 'college',\n",
              " 'city',\n",
              " 'state',\n",
              " 'radiography',\n",
              " 'certificate',\n",
              " '2001',\n",
              " 'tech',\n",
              " 'prep',\n",
              " 'trumbull',\n",
              " 'career',\n",
              " 'technical',\n",
              " 'center',\n",
              " 'state',\n",
              " 'diploma',\n",
              " '2001',\n",
              " 'warren',\n",
              " 'g',\n",
              " 'harding',\n",
              " 'city',\n",
              " 'state',\n",
              " 'skill',\n",
              " 'army',\n",
              " 'cisco',\n",
              " 'counseling',\n",
              " 'customer',\n",
              " 'assistance',\n",
              " 'database',\n",
              " 'documentation',\n",
              " 'information',\n",
              " 'technology',\n",
              " 'inventory',\n",
              " 'ip',\n",
              " 'lan',\n",
              " 'window',\n",
              " '7',\n",
              " 'network',\n",
              " 'personnel',\n",
              " 'policy',\n",
              " 'protocol',\n",
              " 'repair',\n",
              " 'routing',\n",
              " 'san',\n",
              " 'supervisor',\n",
              " 'test',\n",
              " 'equipment',\n",
              " 'troubleshoot',\n",
              " 'wan']"
            ]
          },
          "execution_count": 70,
          "metadata": {},
          "output_type": "execute_result"
        }
      ],
      "source": [
        "review"
      ]
    },
    {
      "cell_type": "code",
      "execution_count": 71,
      "metadata": {
        "id": "f7bwXPbssFg6"
      },
      "outputs": [],
      "source": [
        "review = \" \".join(review)"
      ]
    },
    {
      "cell_type": "code",
      "execution_count": 72,
      "metadata": {
        "colab": {
          "base_uri": "https://localhost:8080/",
          "height": 123
        },
        "id": "MvIfr1SosLEI",
        "outputId": "a9a662b6-5574-460c-ea0e-cef591217dbf"
      },
      "outputs": [
        {
          "data": {
            "application/vnd.google.colaboratory.intrinsic+json": {
              "type": "string"
            },
            "text/plain": [
              "'information technology supervisor summary seeking position information technology specialist 5 year information technology experience u army including 1 year supervisory experience trained personnel set equipment ensuring equipment properly connected functioning regularly troubleshoot install various equipment system accountable maintenance inventory 1 million worth communication equipment zero loss damage posse security microsoft certification secret security clearance highlight excellent communication technique manufacturing system integration multidisciplinary exposure design instruction creation project management complex problem solver advanced critical thinking sharepoint microsoft excel project visio accomplishment army achievement medal impacting communication network overall success key resolve 13 yong san korea air force achievement medal supporting operation iraqi freedom performing outstanding senior controller certificate achievement outstanding support member tiger team window 7 migration good conduct medal exemplary behavior efficiency fidelity active federal military service experience information technology supervisor 01 2011 05 2014 company name city state supervise 10 personnel one time delegating task conducting performance evaluation providing corrective counseling necessary train personnel set proper use related equipment adhering policy procedure responsible inventory 1 million worth network communication equipment tasked president united state act supervisor maintain signal communication fort bragg army base information technology technician 01 2009 01 2011 company name city state maintained communication equipment order effectively relay confidential secret information utilized electronic test equipment troubleshoot malfunctioning communication equipment complete repair necessary regularly set added computer system communication network installing operation system accessing stored program utilizing ip address received training lan wan protocol radiology technologist 05 2008 09 2008 company name city state routinely performed radiological examination medical clinic competent experienced set adjustment medical device equipment regularly provided customer assistance ensuring patient received timely accurate care accountable accurate documentation via electronic database file system ensuring confidentiality maintained command post controller 10 2001 10 2005 company name city state provided command control communication information support throughout operation peacetime emergency disaster situation received relayed instruction record submitting manual automated data product disseminated time sensitive critical information senior leader support agency education certification window 7 microsoft fort bragg nc 2012 certification security comptia yong san korea 2012 distinguished graduate certificate information technology network communication course 2009 u army city state certificate network cisco routing field service branch 2009 city state associate science radiography 2008 northwest florida state college city state radiography certificate 2001 tech prep trumbull career technical center state diploma 2001 warren g harding city state skill army cisco counseling customer assistance database documentation information technology inventory ip lan window 7 network personnel policy protocol repair routing san supervisor test equipment troubleshoot wan'"
            ]
          },
          "execution_count": 72,
          "metadata": {},
          "output_type": "execute_result"
        }
      ],
      "source": [
        "review"
      ]
    },
    {
      "cell_type": "code",
      "execution_count": 74,
      "metadata": {
        "id": "Zh6Rrmu8sMu7"
      },
      "outputs": [],
      "source": [
        "clean = []\n",
        "for i in range(df_new.shape[0]):\n",
        "    review = re.sub(\n",
        "        '(@[A-Za-z0-9]+)|([^0-9A-Za-z \\t])|(\\w+:\\/\\/\\S+)|^rt|http.+?\"',\n",
        "        \" \",\n",
        "        df_new[\"Resume_str\"].iloc[i],\n",
        "    )\n",
        "    review = review.lower()\n",
        "    review = review.split()\n",
        "    lm = WordNetLemmatizer()\n",
        "    review = [\n",
        "        lm.lemmatize(word)\n",
        "        for word in review\n",
        "        if not word in set(stopwords.words(\"english\"))\n",
        "    ]\n",
        "    review = \" \".join(review)\n",
        "    clean.append(review)"
      ]
    },
    {
      "cell_type": "code",
      "execution_count": 76,
      "metadata": {
        "id": "xnaj6DXOsRfB"
      },
      "outputs": [],
      "source": [
        "df_new[\"Clean_Resume\"] = clean"
      ]
    },
    {
      "cell_type": "code",
      "execution_count": 77,
      "metadata": {
        "colab": {
          "base_uri": "https://localhost:8080/",
          "height": 423
        },
        "id": "Xzn-OPaOuF3Y",
        "outputId": "bcd94d6d-e783-4772-a4ed-ec38b7afc33d"
      },
      "outputs": [
        {
          "data": {
            "text/html": [
              "\n",
              "  <div id=\"df-7d50a861-fcad-4414-a87a-42dfcb03d845\">\n",
              "    <div class=\"colab-df-container\">\n",
              "      <div>\n",
              "<style scoped>\n",
              "    .dataframe tbody tr th:only-of-type {\n",
              "        vertical-align: middle;\n",
              "    }\n",
              "\n",
              "    .dataframe tbody tr th {\n",
              "        vertical-align: top;\n",
              "    }\n",
              "\n",
              "    .dataframe thead th {\n",
              "        text-align: right;\n",
              "    }\n",
              "</style>\n",
              "<table border=\"1\" class=\"dataframe\">\n",
              "  <thead>\n",
              "    <tr style=\"text-align: right;\">\n",
              "      <th></th>\n",
              "      <th>ID</th>\n",
              "      <th>Resume_str</th>\n",
              "      <th>Resume_html</th>\n",
              "      <th>Category</th>\n",
              "      <th>Clean_Resume</th>\n",
              "    </tr>\n",
              "  </thead>\n",
              "  <tbody>\n",
              "    <tr>\n",
              "      <th>217</th>\n",
              "      <td>36856210</td>\n",
              "      <td>INFORMATION TECHNOLOGY         Summar...</td>\n",
              "      <td>&lt;div class=\"fontsize fontface vmargins hmargin...</td>\n",
              "      <td>INFORMATION-TECHNOLOGY</td>\n",
              "      <td>information technology summary dedicated infor...</td>\n",
              "    </tr>\n",
              "    <tr>\n",
              "      <th>218</th>\n",
              "      <td>21780877</td>\n",
              "      <td>INFORMATION TECHNOLOGY SPECIALIST\\tGS...</td>\n",
              "      <td>&lt;div class=\"fontsize fontface vmargins hmargin...</td>\n",
              "      <td>INFORMATION-TECHNOLOGY</td>\n",
              "      <td>information technology specialist gs11 experie...</td>\n",
              "    </tr>\n",
              "    <tr>\n",
              "      <th>219</th>\n",
              "      <td>33241454</td>\n",
              "      <td>INFORMATION TECHNOLOGY SUPERVISOR    ...</td>\n",
              "      <td>&lt;div class=\"fontsize fontface vmargins hmargin...</td>\n",
              "      <td>INFORMATION-TECHNOLOGY</td>\n",
              "      <td>information technology supervisor summary seek...</td>\n",
              "    </tr>\n",
              "    <tr>\n",
              "      <th>220</th>\n",
              "      <td>25990239</td>\n",
              "      <td>INFORMATION TECHNOLOGY INSTRUCTOR    ...</td>\n",
              "      <td>&lt;div class=\"fontsize fontface vmargins hmargin...</td>\n",
              "      <td>INFORMATION-TECHNOLOGY</td>\n",
              "      <td>information technology instructor summary seve...</td>\n",
              "    </tr>\n",
              "    <tr>\n",
              "      <th>221</th>\n",
              "      <td>16899268</td>\n",
              "      <td>INFORMATION TECHNOLOGY MANAGER/ANALYS...</td>\n",
              "      <td>&lt;div class=\"fontsize fontface vmargins hmargin...</td>\n",
              "      <td>INFORMATION-TECHNOLOGY</td>\n",
              "      <td>information technology manager analyst profess...</td>\n",
              "    </tr>\n",
              "    <tr>\n",
              "      <th>...</th>\n",
              "      <td>...</td>\n",
              "      <td>...</td>\n",
              "      <td>...</td>\n",
              "      <td>...</td>\n",
              "      <td>...</td>\n",
              "    </tr>\n",
              "    <tr>\n",
              "      <th>1803</th>\n",
              "      <td>31694970</td>\n",
              "      <td>INDUSTRIAL ENGINEERING INTERN       P...</td>\n",
              "      <td>&lt;div class=\"fontsize fontface vmargins hmargin...</td>\n",
              "      <td>ENGINEERING</td>\n",
              "      <td>industrial engineering intern profile outstand...</td>\n",
              "    </tr>\n",
              "    <tr>\n",
              "      <th>1804</th>\n",
              "      <td>33685075</td>\n",
              "      <td>MANAGER, QUALITY ENGINEERING         ...</td>\n",
              "      <td>&lt;div class=\"fontsize fontface vmargins hmargin...</td>\n",
              "      <td>ENGINEERING</td>\n",
              "      <td>manager quality engineering executive summary ...</td>\n",
              "    </tr>\n",
              "    <tr>\n",
              "      <th>1805</th>\n",
              "      <td>77828437</td>\n",
              "      <td>MECHANICAL DESIGN ENGINEERING INTERN ...</td>\n",
              "      <td>&lt;div class=\"fontsize fontface vmargins hmargin...</td>\n",
              "      <td>ENGINEERING</td>\n",
              "      <td>mechanical design engineering intern summary s...</td>\n",
              "    </tr>\n",
              "    <tr>\n",
              "      <th>1806</th>\n",
              "      <td>35172961</td>\n",
              "      <td>PROCESS ENGINEERING INTERN           ...</td>\n",
              "      <td>&lt;div class=\"fontsize fontface vmargins hmargin...</td>\n",
              "      <td>ENGINEERING</td>\n",
              "      <td>process engineering intern profile phd cleanro...</td>\n",
              "    </tr>\n",
              "    <tr>\n",
              "      <th>1807</th>\n",
              "      <td>21629057</td>\n",
              "      <td>ENGINEERING TECHNICIAN/ FIELD SERVICE...</td>\n",
              "      <td>&lt;div class=\"fontsize fontface vmargins hmargin...</td>\n",
              "      <td>ENGINEERING</td>\n",
              "      <td>engineering technician field service professio...</td>\n",
              "    </tr>\n",
              "  </tbody>\n",
              "</table>\n",
              "<p>471 rows × 5 columns</p>\n",
              "</div>\n",
              "      <button class=\"colab-df-convert\" onclick=\"convertToInteractive('df-7d50a861-fcad-4414-a87a-42dfcb03d845')\"\n",
              "              title=\"Convert this dataframe to an interactive table.\"\n",
              "              style=\"display:none;\">\n",
              "        \n",
              "  <svg xmlns=\"http://www.w3.org/2000/svg\" height=\"24px\"viewBox=\"0 0 24 24\"\n",
              "       width=\"24px\">\n",
              "    <path d=\"M0 0h24v24H0V0z\" fill=\"none\"/>\n",
              "    <path d=\"M18.56 5.44l.94 2.06.94-2.06 2.06-.94-2.06-.94-.94-2.06-.94 2.06-2.06.94zm-11 1L8.5 8.5l.94-2.06 2.06-.94-2.06-.94L8.5 2.5l-.94 2.06-2.06.94zm10 10l.94 2.06.94-2.06 2.06-.94-2.06-.94-.94-2.06-.94 2.06-2.06.94z\"/><path d=\"M17.41 7.96l-1.37-1.37c-.4-.4-.92-.59-1.43-.59-.52 0-1.04.2-1.43.59L10.3 9.45l-7.72 7.72c-.78.78-.78 2.05 0 2.83L4 21.41c.39.39.9.59 1.41.59.51 0 1.02-.2 1.41-.59l7.78-7.78 2.81-2.81c.8-.78.8-2.07 0-2.86zM5.41 20L4 18.59l7.72-7.72 1.47 1.35L5.41 20z\"/>\n",
              "  </svg>\n",
              "      </button>\n",
              "      \n",
              "  <style>\n",
              "    .colab-df-container {\n",
              "      display:flex;\n",
              "      flex-wrap:wrap;\n",
              "      gap: 12px;\n",
              "    }\n",
              "\n",
              "    .colab-df-convert {\n",
              "      background-color: #E8F0FE;\n",
              "      border: none;\n",
              "      border-radius: 50%;\n",
              "      cursor: pointer;\n",
              "      display: none;\n",
              "      fill: #1967D2;\n",
              "      height: 32px;\n",
              "      padding: 0 0 0 0;\n",
              "      width: 32px;\n",
              "    }\n",
              "\n",
              "    .colab-df-convert:hover {\n",
              "      background-color: #E2EBFA;\n",
              "      box-shadow: 0px 1px 2px rgba(60, 64, 67, 0.3), 0px 1px 3px 1px rgba(60, 64, 67, 0.15);\n",
              "      fill: #174EA6;\n",
              "    }\n",
              "\n",
              "    [theme=dark] .colab-df-convert {\n",
              "      background-color: #3B4455;\n",
              "      fill: #D2E3FC;\n",
              "    }\n",
              "\n",
              "    [theme=dark] .colab-df-convert:hover {\n",
              "      background-color: #434B5C;\n",
              "      box-shadow: 0px 1px 3px 1px rgba(0, 0, 0, 0.15);\n",
              "      filter: drop-shadow(0px 1px 2px rgba(0, 0, 0, 0.3));\n",
              "      fill: #FFFFFF;\n",
              "    }\n",
              "  </style>\n",
              "\n",
              "      <script>\n",
              "        const buttonEl =\n",
              "          document.querySelector('#df-7d50a861-fcad-4414-a87a-42dfcb03d845 button.colab-df-convert');\n",
              "        buttonEl.style.display =\n",
              "          google.colab.kernel.accessAllowed ? 'block' : 'none';\n",
              "\n",
              "        async function convertToInteractive(key) {\n",
              "          const element = document.querySelector('#df-7d50a861-fcad-4414-a87a-42dfcb03d845');\n",
              "          const dataTable =\n",
              "            await google.colab.kernel.invokeFunction('convertToInteractive',\n",
              "                                                     [key], {});\n",
              "          if (!dataTable) return;\n",
              "\n",
              "          const docLinkHtml = 'Like what you see? Visit the ' +\n",
              "            '<a target=\"_blank\" href=https://colab.research.google.com/notebooks/data_table.ipynb>data table notebook</a>'\n",
              "            + ' to learn more about interactive tables.';\n",
              "          element.innerHTML = '';\n",
              "          dataTable['output_type'] = 'display_data';\n",
              "          await google.colab.output.renderOutput(dataTable, element);\n",
              "          const docLink = document.createElement('div');\n",
              "          docLink.innerHTML = docLinkHtml;\n",
              "          element.appendChild(docLink);\n",
              "        }\n",
              "      </script>\n",
              "    </div>\n",
              "  </div>\n",
              "  "
            ],
            "text/plain": [
              "            ID                                         Resume_str  \\\n",
              "217   36856210           INFORMATION TECHNOLOGY         Summar...   \n",
              "218   21780877           INFORMATION TECHNOLOGY SPECIALIST\\tGS...   \n",
              "219   33241454           INFORMATION TECHNOLOGY SUPERVISOR    ...   \n",
              "220   25990239           INFORMATION TECHNOLOGY INSTRUCTOR    ...   \n",
              "221   16899268           INFORMATION TECHNOLOGY MANAGER/ANALYS...   \n",
              "...        ...                                                ...   \n",
              "1803  31694970           INDUSTRIAL ENGINEERING INTERN       P...   \n",
              "1804  33685075           MANAGER, QUALITY ENGINEERING         ...   \n",
              "1805  77828437           MECHANICAL DESIGN ENGINEERING INTERN ...   \n",
              "1806  35172961           PROCESS ENGINEERING INTERN           ...   \n",
              "1807  21629057           ENGINEERING TECHNICIAN/ FIELD SERVICE...   \n",
              "\n",
              "                                            Resume_html  \\\n",
              "217   <div class=\"fontsize fontface vmargins hmargin...   \n",
              "218   <div class=\"fontsize fontface vmargins hmargin...   \n",
              "219   <div class=\"fontsize fontface vmargins hmargin...   \n",
              "220   <div class=\"fontsize fontface vmargins hmargin...   \n",
              "221   <div class=\"fontsize fontface vmargins hmargin...   \n",
              "...                                                 ...   \n",
              "1803  <div class=\"fontsize fontface vmargins hmargin...   \n",
              "1804  <div class=\"fontsize fontface vmargins hmargin...   \n",
              "1805  <div class=\"fontsize fontface vmargins hmargin...   \n",
              "1806  <div class=\"fontsize fontface vmargins hmargin...   \n",
              "1807  <div class=\"fontsize fontface vmargins hmargin...   \n",
              "\n",
              "                    Category  \\\n",
              "217   INFORMATION-TECHNOLOGY   \n",
              "218   INFORMATION-TECHNOLOGY   \n",
              "219   INFORMATION-TECHNOLOGY   \n",
              "220   INFORMATION-TECHNOLOGY   \n",
              "221   INFORMATION-TECHNOLOGY   \n",
              "...                      ...   \n",
              "1803             ENGINEERING   \n",
              "1804             ENGINEERING   \n",
              "1805             ENGINEERING   \n",
              "1806             ENGINEERING   \n",
              "1807             ENGINEERING   \n",
              "\n",
              "                                           Clean_Resume  \n",
              "217   information technology summary dedicated infor...  \n",
              "218   information technology specialist gs11 experie...  \n",
              "219   information technology supervisor summary seek...  \n",
              "220   information technology instructor summary seve...  \n",
              "221   information technology manager analyst profess...  \n",
              "...                                                 ...  \n",
              "1803  industrial engineering intern profile outstand...  \n",
              "1804  manager quality engineering executive summary ...  \n",
              "1805  mechanical design engineering intern summary s...  \n",
              "1806  process engineering intern profile phd cleanro...  \n",
              "1807  engineering technician field service professio...  \n",
              "\n",
              "[471 rows x 5 columns]"
            ]
          },
          "execution_count": 77,
          "metadata": {},
          "output_type": "execute_result"
        }
      ],
      "source": [
        "df_new"
      ]
    },
    {
      "cell_type": "code",
      "execution_count": 79,
      "metadata": {
        "colab": {
          "base_uri": "https://localhost:8080/",
          "height": 337
        },
        "id": "Kh0Lg7irs2AD",
        "outputId": "79260cf0-8851-4226-f539-4708f0d8df99"
      },
      "outputs": [
        {
          "data": {
            "text/html": [
              "\n",
              "  <div id=\"df-d459256a-0968-4f50-b556-54c30a337ba4\">\n",
              "    <div class=\"colab-df-container\">\n",
              "      <div>\n",
              "<style scoped>\n",
              "    .dataframe tbody tr th:only-of-type {\n",
              "        vertical-align: middle;\n",
              "    }\n",
              "\n",
              "    .dataframe tbody tr th {\n",
              "        vertical-align: top;\n",
              "    }\n",
              "\n",
              "    .dataframe thead th {\n",
              "        text-align: right;\n",
              "    }\n",
              "</style>\n",
              "<table border=\"1\" class=\"dataframe\">\n",
              "  <thead>\n",
              "    <tr style=\"text-align: right;\">\n",
              "      <th></th>\n",
              "      <th>ID</th>\n",
              "      <th>Resume_str</th>\n",
              "      <th>Resume_html</th>\n",
              "      <th>Category</th>\n",
              "      <th>Clean_Resume</th>\n",
              "      <th>skills</th>\n",
              "    </tr>\n",
              "  </thead>\n",
              "  <tbody>\n",
              "    <tr>\n",
              "      <th>217</th>\n",
              "      <td>36856210</td>\n",
              "      <td>INFORMATION TECHNOLOGY         Summar...</td>\n",
              "      <td>&lt;div class=\"fontsize fontface vmargins hmargin...</td>\n",
              "      <td>INFORMATION-TECHNOLOGY</td>\n",
              "      <td>information technology summary dedicated infor...</td>\n",
              "      <td>[publishing, server, collaboration, deployment...</td>\n",
              "    </tr>\n",
              "    <tr>\n",
              "      <th>218</th>\n",
              "      <td>21780877</td>\n",
              "      <td>INFORMATION TECHNOLOGY SPECIALIST\\tGS...</td>\n",
              "      <td>&lt;div class=\"fontsize fontface vmargins hmargin...</td>\n",
              "      <td>INFORMATION-TECHNOLOGY</td>\n",
              "      <td>information technology specialist gs11 experie...</td>\n",
              "      <td>[electrical engineering, material, computer se...</td>\n",
              "    </tr>\n",
              "    <tr>\n",
              "      <th>219</th>\n",
              "      <td>33241454</td>\n",
              "      <td>INFORMATION TECHNOLOGY SUPERVISOR    ...</td>\n",
              "      <td>&lt;div class=\"fontsize fontface vmargins hmargin...</td>\n",
              "      <td>INFORMATION-TECHNOLOGY</td>\n",
              "      <td>information technology supervisor summary seek...</td>\n",
              "      <td>[relay, system integration, certificate, datab...</td>\n",
              "    </tr>\n",
              "    <tr>\n",
              "      <th>220</th>\n",
              "      <td>25990239</td>\n",
              "      <td>INFORMATION TECHNOLOGY INSTRUCTOR    ...</td>\n",
              "      <td>&lt;div class=\"fontsize fontface vmargins hmargin...</td>\n",
              "      <td>INFORMATION-TECHNOLOGY</td>\n",
              "      <td>information technology instructor summary seve...</td>\n",
              "      <td>[mobile, remote control, help desk, multimedia...</td>\n",
              "    </tr>\n",
              "    <tr>\n",
              "      <th>221</th>\n",
              "      <td>16899268</td>\n",
              "      <td>INFORMATION TECHNOLOGY MANAGER/ANALYS...</td>\n",
              "      <td>&lt;div class=\"fontsize fontface vmargins hmargin...</td>\n",
              "      <td>INFORMATION-TECHNOLOGY</td>\n",
              "      <td>information technology manager analyst profess...</td>\n",
              "      <td>[specification, certificate, design, software,...</td>\n",
              "    </tr>\n",
              "  </tbody>\n",
              "</table>\n",
              "</div>\n",
              "      <button class=\"colab-df-convert\" onclick=\"convertToInteractive('df-d459256a-0968-4f50-b556-54c30a337ba4')\"\n",
              "              title=\"Convert this dataframe to an interactive table.\"\n",
              "              style=\"display:none;\">\n",
              "        \n",
              "  <svg xmlns=\"http://www.w3.org/2000/svg\" height=\"24px\"viewBox=\"0 0 24 24\"\n",
              "       width=\"24px\">\n",
              "    <path d=\"M0 0h24v24H0V0z\" fill=\"none\"/>\n",
              "    <path d=\"M18.56 5.44l.94 2.06.94-2.06 2.06-.94-2.06-.94-.94-2.06-.94 2.06-2.06.94zm-11 1L8.5 8.5l.94-2.06 2.06-.94-2.06-.94L8.5 2.5l-.94 2.06-2.06.94zm10 10l.94 2.06.94-2.06 2.06-.94-2.06-.94-.94-2.06-.94 2.06-2.06.94z\"/><path d=\"M17.41 7.96l-1.37-1.37c-.4-.4-.92-.59-1.43-.59-.52 0-1.04.2-1.43.59L10.3 9.45l-7.72 7.72c-.78.78-.78 2.05 0 2.83L4 21.41c.39.39.9.59 1.41.59.51 0 1.02-.2 1.41-.59l7.78-7.78 2.81-2.81c.8-.78.8-2.07 0-2.86zM5.41 20L4 18.59l7.72-7.72 1.47 1.35L5.41 20z\"/>\n",
              "  </svg>\n",
              "      </button>\n",
              "      \n",
              "  <style>\n",
              "    .colab-df-container {\n",
              "      display:flex;\n",
              "      flex-wrap:wrap;\n",
              "      gap: 12px;\n",
              "    }\n",
              "\n",
              "    .colab-df-convert {\n",
              "      background-color: #E8F0FE;\n",
              "      border: none;\n",
              "      border-radius: 50%;\n",
              "      cursor: pointer;\n",
              "      display: none;\n",
              "      fill: #1967D2;\n",
              "      height: 32px;\n",
              "      padding: 0 0 0 0;\n",
              "      width: 32px;\n",
              "    }\n",
              "\n",
              "    .colab-df-convert:hover {\n",
              "      background-color: #E2EBFA;\n",
              "      box-shadow: 0px 1px 2px rgba(60, 64, 67, 0.3), 0px 1px 3px 1px rgba(60, 64, 67, 0.15);\n",
              "      fill: #174EA6;\n",
              "    }\n",
              "\n",
              "    [theme=dark] .colab-df-convert {\n",
              "      background-color: #3B4455;\n",
              "      fill: #D2E3FC;\n",
              "    }\n",
              "\n",
              "    [theme=dark] .colab-df-convert:hover {\n",
              "      background-color: #434B5C;\n",
              "      box-shadow: 0px 1px 3px 1px rgba(0, 0, 0, 0.15);\n",
              "      filter: drop-shadow(0px 1px 2px rgba(0, 0, 0, 0.3));\n",
              "      fill: #FFFFFF;\n",
              "    }\n",
              "  </style>\n",
              "\n",
              "      <script>\n",
              "        const buttonEl =\n",
              "          document.querySelector('#df-d459256a-0968-4f50-b556-54c30a337ba4 button.colab-df-convert');\n",
              "        buttonEl.style.display =\n",
              "          google.colab.kernel.accessAllowed ? 'block' : 'none';\n",
              "\n",
              "        async function convertToInteractive(key) {\n",
              "          const element = document.querySelector('#df-d459256a-0968-4f50-b556-54c30a337ba4');\n",
              "          const dataTable =\n",
              "            await google.colab.kernel.invokeFunction('convertToInteractive',\n",
              "                                                     [key], {});\n",
              "          if (!dataTable) return;\n",
              "\n",
              "          const docLinkHtml = 'Like what you see? Visit the ' +\n",
              "            '<a target=\"_blank\" href=https://colab.research.google.com/notebooks/data_table.ipynb>data table notebook</a>'\n",
              "            + ' to learn more about interactive tables.';\n",
              "          element.innerHTML = '';\n",
              "          dataTable['output_type'] = 'display_data';\n",
              "          await google.colab.output.renderOutput(dataTable, element);\n",
              "          const docLink = document.createElement('div');\n",
              "          docLink.innerHTML = docLinkHtml;\n",
              "          element.appendChild(docLink);\n",
              "        }\n",
              "      </script>\n",
              "    </div>\n",
              "  </div>\n",
              "  "
            ],
            "text/plain": [
              "           ID                                         Resume_str  \\\n",
              "217  36856210           INFORMATION TECHNOLOGY         Summar...   \n",
              "218  21780877           INFORMATION TECHNOLOGY SPECIALIST\\tGS...   \n",
              "219  33241454           INFORMATION TECHNOLOGY SUPERVISOR    ...   \n",
              "220  25990239           INFORMATION TECHNOLOGY INSTRUCTOR    ...   \n",
              "221  16899268           INFORMATION TECHNOLOGY MANAGER/ANALYS...   \n",
              "\n",
              "                                           Resume_html  \\\n",
              "217  <div class=\"fontsize fontface vmargins hmargin...   \n",
              "218  <div class=\"fontsize fontface vmargins hmargin...   \n",
              "219  <div class=\"fontsize fontface vmargins hmargin...   \n",
              "220  <div class=\"fontsize fontface vmargins hmargin...   \n",
              "221  <div class=\"fontsize fontface vmargins hmargin...   \n",
              "\n",
              "                   Category  \\\n",
              "217  INFORMATION-TECHNOLOGY   \n",
              "218  INFORMATION-TECHNOLOGY   \n",
              "219  INFORMATION-TECHNOLOGY   \n",
              "220  INFORMATION-TECHNOLOGY   \n",
              "221  INFORMATION-TECHNOLOGY   \n",
              "\n",
              "                                          Clean_Resume  \\\n",
              "217  information technology summary dedicated infor...   \n",
              "218  information technology specialist gs11 experie...   \n",
              "219  information technology supervisor summary seek...   \n",
              "220  information technology instructor summary seve...   \n",
              "221  information technology manager analyst profess...   \n",
              "\n",
              "                                                skills  \n",
              "217  [publishing, server, collaboration, deployment...  \n",
              "218  [electrical engineering, material, computer se...  \n",
              "219  [relay, system integration, certificate, datab...  \n",
              "220  [mobile, remote control, help desk, multimedia...  \n",
              "221  [specification, certificate, design, software,...  "
            ]
          },
          "execution_count": 79,
          "metadata": {},
          "output_type": "execute_result"
        }
      ],
      "source": [
        "df_new[\"skills\"] = df_new[\"Clean_Resume\"].str.lower().apply(get_skills)\n",
        "df_new[\"skills\"] = df_new[\"skills\"].apply(unique_skills)\n",
        "df_new.head()"
      ]
    },
    {
      "cell_type": "code",
      "execution_count": 81,
      "metadata": {
        "colab": {
          "base_uri": "https://localhost:8080/",
          "height": 542
        },
        "id": "ulQDSGUduNuM",
        "outputId": "69ce96fe-da4a-42fb-d0b6-c4fb7390fb59"
      },
      "outputs": [
        {
          "data": {
            "text/html": [
              "<html>\n",
              "<head><meta charset=\"utf-8\" /></head>\n",
              "<body>\n",
              "    <div>            <script src=\"https://cdnjs.cloudflare.com/ajax/libs/mathjax/2.7.5/MathJax.js?config=TeX-AMS-MML_SVG\"></script><script type=\"text/javascript\">if (window.MathJax && window.MathJax.Hub && window.MathJax.Hub.Config) {window.MathJax.Hub.Config({SVG: {font: \"STIX-Web\"}});}</script>                <script type=\"text/javascript\">window.PlotlyConfig = {MathJaxConfig: 'local'};</script>\n",
              "        <script src=\"https://cdn.plot.ly/plotly-2.18.2.min.js\"></script>                <div id=\"9920ca54-b709-412e-b970-a601aadcdbe5\" class=\"plotly-graph-div\" style=\"height:525px; width:100%;\"></div>            <script type=\"text/javascript\">                                    window.PLOTLYENV=window.PLOTLYENV || {};                                    if (document.getElementById(\"9920ca54-b709-412e-b970-a601aadcdbe5\")) {                    Plotly.newPlot(                        \"9920ca54-b709-412e-b970-a601aadcdbe5\",                        [{\"alignmentgroup\":\"True\",\"bingroup\":\"x\",\"hovertemplate\":\"Category=%{x}<br>count=%{y}<extra></extra>\",\"legendgroup\":\"\",\"marker\":{\"color\":\"#636efa\",\"pattern\":{\"shape\":\"\"}},\"name\":\"\",\"offsetgroup\":\"\",\"orientation\":\"v\",\"showlegend\":false,\"x\":[\"INFORMATION-TECHNOLOGY\",\"INFORMATION-TECHNOLOGY\",\"INFORMATION-TECHNOLOGY\",\"INFORMATION-TECHNOLOGY\",\"INFORMATION-TECHNOLOGY\",\"INFORMATION-TECHNOLOGY\",\"INFORMATION-TECHNOLOGY\",\"INFORMATION-TECHNOLOGY\",\"INFORMATION-TECHNOLOGY\",\"INFORMATION-TECHNOLOGY\",\"INFORMATION-TECHNOLOGY\",\"INFORMATION-TECHNOLOGY\",\"INFORMATION-TECHNOLOGY\",\"INFORMATION-TECHNOLOGY\",\"INFORMATION-TECHNOLOGY\",\"INFORMATION-TECHNOLOGY\",\"INFORMATION-TECHNOLOGY\",\"INFORMATION-TECHNOLOGY\",\"INFORMATION-TECHNOLOGY\",\"INFORMATION-TECHNOLOGY\",\"INFORMATION-TECHNOLOGY\",\"INFORMATION-TECHNOLOGY\",\"INFORMATION-TECHNOLOGY\",\"INFORMATION-TECHNOLOGY\",\"INFORMATION-TECHNOLOGY\",\"INFORMATION-TECHNOLOGY\",\"INFORMATION-TECHNOLOGY\",\"INFORMATION-TECHNOLOGY\",\"INFORMATION-TECHNOLOGY\",\"INFORMATION-TECHNOLOGY\",\"INFORMATION-TECHNOLOGY\",\"INFORMATION-TECHNOLOGY\",\"INFORMATION-TECHNOLOGY\",\"INFORMATION-TECHNOLOGY\",\"INFORMATION-TECHNOLOGY\",\"INFORMATION-TECHNOLOGY\",\"INFORMATION-TECHNOLOGY\",\"INFORMATION-TECHNOLOGY\",\"INFORMATION-TECHNOLOGY\",\"INFORMATION-TECHNOLOGY\",\"INFORMATION-TECHNOLOGY\",\"INFORMATION-TECHNOLOGY\",\"INFORMATION-TECHNOLOGY\",\"INFORMATION-TECHNOLOGY\",\"INFORMATION-TECHNOLOGY\",\"INFORMATION-TECHNOLOGY\",\"INFORMATION-TECHNOLOGY\",\"INFORMATION-TECHNOLOGY\",\"INFORMATION-TECHNOLOGY\",\"INFORMATION-TECHNOLOGY\",\"INFORMATION-TECHNOLOGY\",\"INFORMATION-TECHNOLOGY\",\"INFORMATION-TECHNOLOGY\",\"INFORMATION-TECHNOLOGY\",\"INFORMATION-TECHNOLOGY\",\"INFORMATION-TECHNOLOGY\",\"INFORMATION-TECHNOLOGY\",\"INFORMATION-TECHNOLOGY\",\"INFORMATION-TECHNOLOGY\",\"INFORMATION-TECHNOLOGY\",\"INFORMATION-TECHNOLOGY\",\"INFORMATION-TECHNOLOGY\",\"INFORMATION-TECHNOLOGY\",\"INFORMATION-TECHNOLOGY\",\"INFORMATION-TECHNOLOGY\",\"INFORMATION-TECHNOLOGY\",\"INFORMATION-TECHNOLOGY\",\"INFORMATION-TECHNOLOGY\",\"INFORMATION-TECHNOLOGY\",\"INFORMATION-TECHNOLOGY\",\"INFORMATION-TECHNOLOGY\",\"INFORMATION-TECHNOLOGY\",\"INFORMATION-TECHNOLOGY\",\"INFORMATION-TECHNOLOGY\",\"INFORMATION-TECHNOLOGY\",\"INFORMATION-TECHNOLOGY\",\"INFORMATION-TECHNOLOGY\",\"INFORMATION-TECHNOLOGY\",\"INFORMATION-TECHNOLOGY\",\"INFORMATION-TECHNOLOGY\",\"INFORMATION-TECHNOLOGY\",\"INFORMATION-TECHNOLOGY\",\"INFORMATION-TECHNOLOGY\",\"INFORMATION-TECHNOLOGY\",\"INFORMATION-TECHNOLOGY\",\"INFORMATION-TECHNOLOGY\",\"INFORMATION-TECHNOLOGY\",\"INFORMATION-TECHNOLOGY\",\"INFORMATION-TECHNOLOGY\",\"INFORMATION-TECHNOLOGY\",\"INFORMATION-TECHNOLOGY\",\"INFORMATION-TECHNOLOGY\",\"INFORMATION-TECHNOLOGY\",\"INFORMATION-TECHNOLOGY\",\"INFORMATION-TECHNOLOGY\",\"INFORMATION-TECHNOLOGY\",\"INFORMATION-TECHNOLOGY\",\"INFORMATION-TECHNOLOGY\",\"INFORMATION-TECHNOLOGY\",\"INFORMATION-TECHNOLOGY\",\"INFORMATION-TECHNOLOGY\",\"INFORMATION-TECHNOLOGY\",\"INFORMATION-TECHNOLOGY\",\"INFORMATION-TECHNOLOGY\",\"INFORMATION-TECHNOLOGY\",\"INFORMATION-TECHNOLOGY\",\"INFORMATION-TECHNOLOGY\",\"INFORMATION-TECHNOLOGY\",\"INFORMATION-TECHNOLOGY\",\"INFORMATION-TECHNOLOGY\",\"INFORMATION-TECHNOLOGY\",\"INFORMATION-TECHNOLOGY\",\"INFORMATION-TECHNOLOGY\",\"INFORMATION-TECHNOLOGY\",\"INFORMATION-TECHNOLOGY\",\"INFORMATION-TECHNOLOGY\",\"INFORMATION-TECHNOLOGY\",\"INFORMATION-TECHNOLOGY\",\"INFORMATION-TECHNOLOGY\",\"INFORMATION-TECHNOLOGY\",\"CONSULTANT\",\"CONSULTANT\",\"CONSULTANT\",\"CONSULTANT\",\"CONSULTANT\",\"CONSULTANT\",\"CONSULTANT\",\"CONSULTANT\",\"CONSULTANT\",\"CONSULTANT\",\"CONSULTANT\",\"CONSULTANT\",\"CONSULTANT\",\"CONSULTANT\",\"CONSULTANT\",\"CONSULTANT\",\"CONSULTANT\",\"CONSULTANT\",\"CONSULTANT\",\"CONSULTANT\",\"CONSULTANT\",\"CONSULTANT\",\"CONSULTANT\",\"CONSULTANT\",\"CONSULTANT\",\"CONSULTANT\",\"CONSULTANT\",\"CONSULTANT\",\"CONSULTANT\",\"CONSULTANT\",\"CONSULTANT\",\"CONSULTANT\",\"CONSULTANT\",\"CONSULTANT\",\"CONSULTANT\",\"CONSULTANT\",\"CONSULTANT\",\"CONSULTANT\",\"CONSULTANT\",\"CONSULTANT\",\"CONSULTANT\",\"CONSULTANT\",\"CONSULTANT\",\"CONSULTANT\",\"CONSULTANT\",\"CONSULTANT\",\"CONSULTANT\",\"CONSULTANT\",\"CONSULTANT\",\"CONSULTANT\",\"CONSULTANT\",\"CONSULTANT\",\"CONSULTANT\",\"CONSULTANT\",\"CONSULTANT\",\"CONSULTANT\",\"CONSULTANT\",\"CONSULTANT\",\"CONSULTANT\",\"CONSULTANT\",\"CONSULTANT\",\"CONSULTANT\",\"CONSULTANT\",\"CONSULTANT\",\"CONSULTANT\",\"CONSULTANT\",\"CONSULTANT\",\"CONSULTANT\",\"CONSULTANT\",\"CONSULTANT\",\"CONSULTANT\",\"CONSULTANT\",\"CONSULTANT\",\"CONSULTANT\",\"CONSULTANT\",\"CONSULTANT\",\"CONSULTANT\",\"CONSULTANT\",\"CONSULTANT\",\"CONSULTANT\",\"CONSULTANT\",\"CONSULTANT\",\"CONSULTANT\",\"CONSULTANT\",\"CONSULTANT\",\"CONSULTANT\",\"CONSULTANT\",\"CONSULTANT\",\"CONSULTANT\",\"CONSULTANT\",\"CONSULTANT\",\"CONSULTANT\",\"CONSULTANT\",\"CONSULTANT\",\"CONSULTANT\",\"CONSULTANT\",\"CONSULTANT\",\"CONSULTANT\",\"CONSULTANT\",\"CONSULTANT\",\"CONSULTANT\",\"CONSULTANT\",\"CONSULTANT\",\"CONSULTANT\",\"CONSULTANT\",\"CONSULTANT\",\"CONSULTANT\",\"CONSULTANT\",\"CONSULTANT\",\"CONSULTANT\",\"CONSULTANT\",\"CONSULTANT\",\"CONSULTANT\",\"CONSULTANT\",\"CONSULTANT\",\"FINANCE\",\"FINANCE\",\"FINANCE\",\"FINANCE\",\"FINANCE\",\"FINANCE\",\"FINANCE\",\"FINANCE\",\"FINANCE\",\"FINANCE\",\"FINANCE\",\"FINANCE\",\"FINANCE\",\"FINANCE\",\"FINANCE\",\"FINANCE\",\"FINANCE\",\"FINANCE\",\"FINANCE\",\"FINANCE\",\"FINANCE\",\"FINANCE\",\"FINANCE\",\"FINANCE\",\"FINANCE\",\"FINANCE\",\"FINANCE\",\"FINANCE\",\"FINANCE\",\"FINANCE\",\"FINANCE\",\"FINANCE\",\"FINANCE\",\"FINANCE\",\"FINANCE\",\"FINANCE\",\"FINANCE\",\"FINANCE\",\"FINANCE\",\"FINANCE\",\"FINANCE\",\"FINANCE\",\"FINANCE\",\"FINANCE\",\"FINANCE\",\"FINANCE\",\"FINANCE\",\"FINANCE\",\"FINANCE\",\"FINANCE\",\"FINANCE\",\"FINANCE\",\"FINANCE\",\"FINANCE\",\"FINANCE\",\"FINANCE\",\"FINANCE\",\"FINANCE\",\"FINANCE\",\"FINANCE\",\"FINANCE\",\"FINANCE\",\"FINANCE\",\"FINANCE\",\"FINANCE\",\"FINANCE\",\"FINANCE\",\"FINANCE\",\"FINANCE\",\"FINANCE\",\"FINANCE\",\"FINANCE\",\"FINANCE\",\"FINANCE\",\"FINANCE\",\"FINANCE\",\"FINANCE\",\"FINANCE\",\"FINANCE\",\"FINANCE\",\"FINANCE\",\"FINANCE\",\"FINANCE\",\"FINANCE\",\"FINANCE\",\"FINANCE\",\"FINANCE\",\"FINANCE\",\"FINANCE\",\"FINANCE\",\"FINANCE\",\"FINANCE\",\"FINANCE\",\"FINANCE\",\"FINANCE\",\"FINANCE\",\"FINANCE\",\"FINANCE\",\"FINANCE\",\"FINANCE\",\"FINANCE\",\"FINANCE\",\"FINANCE\",\"FINANCE\",\"FINANCE\",\"FINANCE\",\"FINANCE\",\"FINANCE\",\"FINANCE\",\"FINANCE\",\"FINANCE\",\"FINANCE\",\"FINANCE\",\"FINANCE\",\"FINANCE\",\"FINANCE\",\"FINANCE\",\"FINANCE\",\"ENGINEERING\",\"ENGINEERING\",\"ENGINEERING\",\"ENGINEERING\",\"ENGINEERING\",\"ENGINEERING\",\"ENGINEERING\",\"ENGINEERING\",\"ENGINEERING\",\"ENGINEERING\",\"ENGINEERING\",\"ENGINEERING\",\"ENGINEERING\",\"ENGINEERING\",\"ENGINEERING\",\"ENGINEERING\",\"ENGINEERING\",\"ENGINEERING\",\"ENGINEERING\",\"ENGINEERING\",\"ENGINEERING\",\"ENGINEERING\",\"ENGINEERING\",\"ENGINEERING\",\"ENGINEERING\",\"ENGINEERING\",\"ENGINEERING\",\"ENGINEERING\",\"ENGINEERING\",\"ENGINEERING\",\"ENGINEERING\",\"ENGINEERING\",\"ENGINEERING\",\"ENGINEERING\",\"ENGINEERING\",\"ENGINEERING\",\"ENGINEERING\",\"ENGINEERING\",\"ENGINEERING\",\"ENGINEERING\",\"ENGINEERING\",\"ENGINEERING\",\"ENGINEERING\",\"ENGINEERING\",\"ENGINEERING\",\"ENGINEERING\",\"ENGINEERING\",\"ENGINEERING\",\"ENGINEERING\",\"ENGINEERING\",\"ENGINEERING\",\"ENGINEERING\",\"ENGINEERING\",\"ENGINEERING\",\"ENGINEERING\",\"ENGINEERING\",\"ENGINEERING\",\"ENGINEERING\",\"ENGINEERING\",\"ENGINEERING\",\"ENGINEERING\",\"ENGINEERING\",\"ENGINEERING\",\"ENGINEERING\",\"ENGINEERING\",\"ENGINEERING\",\"ENGINEERING\",\"ENGINEERING\",\"ENGINEERING\",\"ENGINEERING\",\"ENGINEERING\",\"ENGINEERING\",\"ENGINEERING\",\"ENGINEERING\",\"ENGINEERING\",\"ENGINEERING\",\"ENGINEERING\",\"ENGINEERING\",\"ENGINEERING\",\"ENGINEERING\",\"ENGINEERING\",\"ENGINEERING\",\"ENGINEERING\",\"ENGINEERING\",\"ENGINEERING\",\"ENGINEERING\",\"ENGINEERING\",\"ENGINEERING\",\"ENGINEERING\",\"ENGINEERING\",\"ENGINEERING\",\"ENGINEERING\",\"ENGINEERING\",\"ENGINEERING\",\"ENGINEERING\",\"ENGINEERING\",\"ENGINEERING\",\"ENGINEERING\",\"ENGINEERING\",\"ENGINEERING\",\"ENGINEERING\",\"ENGINEERING\",\"ENGINEERING\",\"ENGINEERING\",\"ENGINEERING\",\"ENGINEERING\",\"ENGINEERING\",\"ENGINEERING\",\"ENGINEERING\",\"ENGINEERING\",\"ENGINEERING\",\"ENGINEERING\",\"ENGINEERING\",\"ENGINEERING\",\"ENGINEERING\",\"ENGINEERING\",\"ENGINEERING\",\"ENGINEERING\"],\"xaxis\":\"x\",\"yaxis\":\"y\",\"type\":\"histogram\"}],                        {\"template\":{\"data\":{\"histogram2dcontour\":[{\"type\":\"histogram2dcontour\",\"colorbar\":{\"outlinewidth\":0,\"ticks\":\"\"},\"colorscale\":[[0.0,\"#0d0887\"],[0.1111111111111111,\"#46039f\"],[0.2222222222222222,\"#7201a8\"],[0.3333333333333333,\"#9c179e\"],[0.4444444444444444,\"#bd3786\"],[0.5555555555555556,\"#d8576b\"],[0.6666666666666666,\"#ed7953\"],[0.7777777777777778,\"#fb9f3a\"],[0.8888888888888888,\"#fdca26\"],[1.0,\"#f0f921\"]]}],\"choropleth\":[{\"type\":\"choropleth\",\"colorbar\":{\"outlinewidth\":0,\"ticks\":\"\"}}],\"histogram2d\":[{\"type\":\"histogram2d\",\"colorbar\":{\"outlinewidth\":0,\"ticks\":\"\"},\"colorscale\":[[0.0,\"#0d0887\"],[0.1111111111111111,\"#46039f\"],[0.2222222222222222,\"#7201a8\"],[0.3333333333333333,\"#9c179e\"],[0.4444444444444444,\"#bd3786\"],[0.5555555555555556,\"#d8576b\"],[0.6666666666666666,\"#ed7953\"],[0.7777777777777778,\"#fb9f3a\"],[0.8888888888888888,\"#fdca26\"],[1.0,\"#f0f921\"]]}],\"heatmap\":[{\"type\":\"heatmap\",\"colorbar\":{\"outlinewidth\":0,\"ticks\":\"\"},\"colorscale\":[[0.0,\"#0d0887\"],[0.1111111111111111,\"#46039f\"],[0.2222222222222222,\"#7201a8\"],[0.3333333333333333,\"#9c179e\"],[0.4444444444444444,\"#bd3786\"],[0.5555555555555556,\"#d8576b\"],[0.6666666666666666,\"#ed7953\"],[0.7777777777777778,\"#fb9f3a\"],[0.8888888888888888,\"#fdca26\"],[1.0,\"#f0f921\"]]}],\"heatmapgl\":[{\"type\":\"heatmapgl\",\"colorbar\":{\"outlinewidth\":0,\"ticks\":\"\"},\"colorscale\":[[0.0,\"#0d0887\"],[0.1111111111111111,\"#46039f\"],[0.2222222222222222,\"#7201a8\"],[0.3333333333333333,\"#9c179e\"],[0.4444444444444444,\"#bd3786\"],[0.5555555555555556,\"#d8576b\"],[0.6666666666666666,\"#ed7953\"],[0.7777777777777778,\"#fb9f3a\"],[0.8888888888888888,\"#fdca26\"],[1.0,\"#f0f921\"]]}],\"contourcarpet\":[{\"type\":\"contourcarpet\",\"colorbar\":{\"outlinewidth\":0,\"ticks\":\"\"}}],\"contour\":[{\"type\":\"contour\",\"colorbar\":{\"outlinewidth\":0,\"ticks\":\"\"},\"colorscale\":[[0.0,\"#0d0887\"],[0.1111111111111111,\"#46039f\"],[0.2222222222222222,\"#7201a8\"],[0.3333333333333333,\"#9c179e\"],[0.4444444444444444,\"#bd3786\"],[0.5555555555555556,\"#d8576b\"],[0.6666666666666666,\"#ed7953\"],[0.7777777777777778,\"#fb9f3a\"],[0.8888888888888888,\"#fdca26\"],[1.0,\"#f0f921\"]]}],\"surface\":[{\"type\":\"surface\",\"colorbar\":{\"outlinewidth\":0,\"ticks\":\"\"},\"colorscale\":[[0.0,\"#0d0887\"],[0.1111111111111111,\"#46039f\"],[0.2222222222222222,\"#7201a8\"],[0.3333333333333333,\"#9c179e\"],[0.4444444444444444,\"#bd3786\"],[0.5555555555555556,\"#d8576b\"],[0.6666666666666666,\"#ed7953\"],[0.7777777777777778,\"#fb9f3a\"],[0.8888888888888888,\"#fdca26\"],[1.0,\"#f0f921\"]]}],\"mesh3d\":[{\"type\":\"mesh3d\",\"colorbar\":{\"outlinewidth\":0,\"ticks\":\"\"}}],\"scatter\":[{\"fillpattern\":{\"fillmode\":\"overlay\",\"size\":10,\"solidity\":0.2},\"type\":\"scatter\"}],\"parcoords\":[{\"type\":\"parcoords\",\"line\":{\"colorbar\":{\"outlinewidth\":0,\"ticks\":\"\"}}}],\"scatterpolargl\":[{\"type\":\"scatterpolargl\",\"marker\":{\"colorbar\":{\"outlinewidth\":0,\"ticks\":\"\"}}}],\"bar\":[{\"error_x\":{\"color\":\"#2a3f5f\"},\"error_y\":{\"color\":\"#2a3f5f\"},\"marker\":{\"line\":{\"color\":\"#E5ECF6\",\"width\":0.5},\"pattern\":{\"fillmode\":\"overlay\",\"size\":10,\"solidity\":0.2}},\"type\":\"bar\"}],\"scattergeo\":[{\"type\":\"scattergeo\",\"marker\":{\"colorbar\":{\"outlinewidth\":0,\"ticks\":\"\"}}}],\"scatterpolar\":[{\"type\":\"scatterpolar\",\"marker\":{\"colorbar\":{\"outlinewidth\":0,\"ticks\":\"\"}}}],\"histogram\":[{\"marker\":{\"pattern\":{\"fillmode\":\"overlay\",\"size\":10,\"solidity\":0.2}},\"type\":\"histogram\"}],\"scattergl\":[{\"type\":\"scattergl\",\"marker\":{\"colorbar\":{\"outlinewidth\":0,\"ticks\":\"\"}}}],\"scatter3d\":[{\"type\":\"scatter3d\",\"line\":{\"colorbar\":{\"outlinewidth\":0,\"ticks\":\"\"}},\"marker\":{\"colorbar\":{\"outlinewidth\":0,\"ticks\":\"\"}}}],\"scattermapbox\":[{\"type\":\"scattermapbox\",\"marker\":{\"colorbar\":{\"outlinewidth\":0,\"ticks\":\"\"}}}],\"scatterternary\":[{\"type\":\"scatterternary\",\"marker\":{\"colorbar\":{\"outlinewidth\":0,\"ticks\":\"\"}}}],\"scattercarpet\":[{\"type\":\"scattercarpet\",\"marker\":{\"colorbar\":{\"outlinewidth\":0,\"ticks\":\"\"}}}],\"carpet\":[{\"aaxis\":{\"endlinecolor\":\"#2a3f5f\",\"gridcolor\":\"white\",\"linecolor\":\"white\",\"minorgridcolor\":\"white\",\"startlinecolor\":\"#2a3f5f\"},\"baxis\":{\"endlinecolor\":\"#2a3f5f\",\"gridcolor\":\"white\",\"linecolor\":\"white\",\"minorgridcolor\":\"white\",\"startlinecolor\":\"#2a3f5f\"},\"type\":\"carpet\"}],\"table\":[{\"cells\":{\"fill\":{\"color\":\"#EBF0F8\"},\"line\":{\"color\":\"white\"}},\"header\":{\"fill\":{\"color\":\"#C8D4E3\"},\"line\":{\"color\":\"white\"}},\"type\":\"table\"}],\"barpolar\":[{\"marker\":{\"line\":{\"color\":\"#E5ECF6\",\"width\":0.5},\"pattern\":{\"fillmode\":\"overlay\",\"size\":10,\"solidity\":0.2}},\"type\":\"barpolar\"}],\"pie\":[{\"automargin\":true,\"type\":\"pie\"}]},\"layout\":{\"autotypenumbers\":\"strict\",\"colorway\":[\"#636efa\",\"#EF553B\",\"#00cc96\",\"#ab63fa\",\"#FFA15A\",\"#19d3f3\",\"#FF6692\",\"#B6E880\",\"#FF97FF\",\"#FECB52\"],\"font\":{\"color\":\"#2a3f5f\"},\"hovermode\":\"closest\",\"hoverlabel\":{\"align\":\"left\"},\"paper_bgcolor\":\"white\",\"plot_bgcolor\":\"#E5ECF6\",\"polar\":{\"bgcolor\":\"#E5ECF6\",\"angularaxis\":{\"gridcolor\":\"white\",\"linecolor\":\"white\",\"ticks\":\"\"},\"radialaxis\":{\"gridcolor\":\"white\",\"linecolor\":\"white\",\"ticks\":\"\"}},\"ternary\":{\"bgcolor\":\"#E5ECF6\",\"aaxis\":{\"gridcolor\":\"white\",\"linecolor\":\"white\",\"ticks\":\"\"},\"baxis\":{\"gridcolor\":\"white\",\"linecolor\":\"white\",\"ticks\":\"\"},\"caxis\":{\"gridcolor\":\"white\",\"linecolor\":\"white\",\"ticks\":\"\"}},\"coloraxis\":{\"colorbar\":{\"outlinewidth\":0,\"ticks\":\"\"}},\"colorscale\":{\"sequential\":[[0.0,\"#0d0887\"],[0.1111111111111111,\"#46039f\"],[0.2222222222222222,\"#7201a8\"],[0.3333333333333333,\"#9c179e\"],[0.4444444444444444,\"#bd3786\"],[0.5555555555555556,\"#d8576b\"],[0.6666666666666666,\"#ed7953\"],[0.7777777777777778,\"#fb9f3a\"],[0.8888888888888888,\"#fdca26\"],[1.0,\"#f0f921\"]],\"sequentialminus\":[[0.0,\"#0d0887\"],[0.1111111111111111,\"#46039f\"],[0.2222222222222222,\"#7201a8\"],[0.3333333333333333,\"#9c179e\"],[0.4444444444444444,\"#bd3786\"],[0.5555555555555556,\"#d8576b\"],[0.6666666666666666,\"#ed7953\"],[0.7777777777777778,\"#fb9f3a\"],[0.8888888888888888,\"#fdca26\"],[1.0,\"#f0f921\"]],\"diverging\":[[0,\"#8e0152\"],[0.1,\"#c51b7d\"],[0.2,\"#de77ae\"],[0.3,\"#f1b6da\"],[0.4,\"#fde0ef\"],[0.5,\"#f7f7f7\"],[0.6,\"#e6f5d0\"],[0.7,\"#b8e186\"],[0.8,\"#7fbc41\"],[0.9,\"#4d9221\"],[1,\"#276419\"]]},\"xaxis\":{\"gridcolor\":\"white\",\"linecolor\":\"white\",\"ticks\":\"\",\"title\":{\"standoff\":15},\"zerolinecolor\":\"white\",\"automargin\":true,\"zerolinewidth\":2},\"yaxis\":{\"gridcolor\":\"white\",\"linecolor\":\"white\",\"ticks\":\"\",\"title\":{\"standoff\":15},\"zerolinecolor\":\"white\",\"automargin\":true,\"zerolinewidth\":2},\"scene\":{\"xaxis\":{\"backgroundcolor\":\"#E5ECF6\",\"gridcolor\":\"white\",\"linecolor\":\"white\",\"showbackground\":true,\"ticks\":\"\",\"zerolinecolor\":\"white\",\"gridwidth\":2},\"yaxis\":{\"backgroundcolor\":\"#E5ECF6\",\"gridcolor\":\"white\",\"linecolor\":\"white\",\"showbackground\":true,\"ticks\":\"\",\"zerolinecolor\":\"white\",\"gridwidth\":2},\"zaxis\":{\"backgroundcolor\":\"#E5ECF6\",\"gridcolor\":\"white\",\"linecolor\":\"white\",\"showbackground\":true,\"ticks\":\"\",\"zerolinecolor\":\"white\",\"gridwidth\":2}},\"shapedefaults\":{\"line\":{\"color\":\"#2a3f5f\"}},\"annotationdefaults\":{\"arrowcolor\":\"#2a3f5f\",\"arrowhead\":0,\"arrowwidth\":1},\"geo\":{\"bgcolor\":\"white\",\"landcolor\":\"#E5ECF6\",\"subunitcolor\":\"white\",\"showland\":true,\"showlakes\":true,\"lakecolor\":\"white\"},\"title\":{\"x\":0.05},\"mapbox\":{\"style\":\"light\"}}},\"xaxis\":{\"anchor\":\"y\",\"domain\":[0.0,1.0],\"title\":{\"text\":\"Category\"},\"categoryorder\":\"total descending\"},\"yaxis\":{\"anchor\":\"x\",\"domain\":[0.0,1.0],\"title\":{\"text\":\"count\"}},\"legend\":{\"tracegroupgap\":0},\"title\":{\"text\":\"Distribution of Jobs Categories\"},\"barmode\":\"relative\"},                        {\"responsive\": true}                    ).then(function(){\n",
              "                            \n",
              "var gd = document.getElementById('9920ca54-b709-412e-b970-a601aadcdbe5');\n",
              "var x = new MutationObserver(function (mutations, observer) {{\n",
              "        var display = window.getComputedStyle(gd).display;\n",
              "        if (!display || display === 'none') {{\n",
              "            console.log([gd, 'removed!']);\n",
              "            Plotly.purge(gd);\n",
              "            observer.disconnect();\n",
              "        }}\n",
              "}});\n",
              "\n",
              "// Listen for the removal of the full notebook cells\n",
              "var notebookContainer = gd.closest('#notebook-container');\n",
              "if (notebookContainer) {{\n",
              "    x.observe(notebookContainer, {childList: true});\n",
              "}}\n",
              "\n",
              "// Listen for the clearing of the current output cell\n",
              "var outputEl = gd.closest('.output');\n",
              "if (outputEl) {{\n",
              "    x.observe(outputEl, {childList: true});\n",
              "}}\n",
              "\n",
              "                        })                };                            </script>        </div>\n",
              "</body>\n",
              "</html>"
            ]
          },
          "metadata": {},
          "output_type": "display_data"
        }
      ],
      "source": [
        "fig = px.histogram(\n",
        "    df_new, x=\"Category\", title=\"Distribution of Jobs Categories\"\n",
        ").update_xaxes(categoryorder=\"total descending\")\n",
        "fig.show()\n"
      ]
    },
    {
      "cell_type": "code",
      "execution_count": 88,
      "metadata": {
        "colab": {
          "base_uri": "https://localhost:8080/"
        },
        "id": "zOf0yVcqvNYt",
        "outputId": "55711485-3f00-490a-e713-74b2fe6e0253"
      },
      "outputs": [
        {
          "name": "stdout",
          "output_type": "stream",
          "text": [
            "Looking in indexes: https://pypi.org/simple, https://us-python.pkg.dev/colab-wheels/public/simple/\n",
            "\u001b[31mERROR: Could not find a version that satisfies the requirement PyPDF2-2.5 (from versions: none)\u001b[0m\u001b[31m\n",
            "\u001b[0m\u001b[31mERROR: No matching distribution found for PyPDF2-2.5\u001b[0m\u001b[31m\n",
            "\u001b[0m"
          ]
        }
      ],
      "source": [
        "!pip install PyPDF2-2.5"
      ]
    },
    {
      "cell_type": "code",
      "execution_count": 84,
      "metadata": {
        "id": "ZyNDrL8Muowc"
      },
      "outputs": [],
      "source": [
        "import PyPDF2"
      ]
    },
    {
      "cell_type": "code",
      "execution_count": 90,
      "metadata": {
        "colab": {
          "base_uri": "https://localhost:8080/",
          "height": 502
        },
        "id": "M2y4x2OUw3pn",
        "outputId": "adf348d3-9edf-4140-e0df-087fce59f941"
      },
      "outputs": [
        {
          "name": "stdout",
          "output_type": "stream",
          "text": [
            "Looking in indexes: https://pypi.org/simple, https://us-python.pkg.dev/colab-wheels/public/simple/\n",
            "Collecting pdfplumber\n",
            "  Downloading pdfplumber-0.9.0-py3-none-any.whl (46 kB)\n",
            "\u001b[2K     \u001b[90m━━━━━━━━━━━━━━━━━━━━━━━━━━━━━━━━━━━━━━━━\u001b[0m \u001b[32m46.1/46.1 kB\u001b[0m \u001b[31m4.3 MB/s\u001b[0m eta \u001b[36m0:00:00\u001b[0m\n",
            "\u001b[?25hCollecting pdfminer.six==20221105 (from pdfplumber)\n",
            "  Downloading pdfminer.six-20221105-py3-none-any.whl (5.6 MB)\n",
            "\u001b[2K     \u001b[90m━━━━━━━━━━━━━━━━━━━━━━━━━━━━━━━━━━━━━━━━\u001b[0m \u001b[32m5.6/5.6 MB\u001b[0m \u001b[31m35.9 MB/s\u001b[0m eta \u001b[36m0:00:00\u001b[0m\n",
            "\u001b[?25hCollecting Pillow>=9.1 (from pdfplumber)\n",
            "  Downloading Pillow-9.5.0-cp310-cp310-manylinux_2_28_x86_64.whl (3.4 MB)\n",
            "\u001b[2K     \u001b[90m━━━━━━━━━━━━━━━━━━━━━━━━━━━━━━━━━━━━━━━━\u001b[0m \u001b[32m3.4/3.4 MB\u001b[0m \u001b[31m13.7 MB/s\u001b[0m eta \u001b[36m0:00:00\u001b[0m\n",
            "\u001b[?25hCollecting Wand>=0.6.10 (from pdfplumber)\n",
            "  Downloading Wand-0.6.11-py2.py3-none-any.whl (143 kB)\n",
            "\u001b[2K     \u001b[90m━━━━━━━━━━━━━━━━━━━━━━━━━━━━━━━━━━━━━━\u001b[0m \u001b[32m143.6/143.6 kB\u001b[0m \u001b[31m14.8 MB/s\u001b[0m eta \u001b[36m0:00:00\u001b[0m\n",
            "\u001b[?25hRequirement already satisfied: charset-normalizer>=2.0.0 in /usr/local/lib/python3.10/dist-packages (from pdfminer.six==20221105->pdfplumber) (2.0.12)\n",
            "Requirement already satisfied: cryptography>=36.0.0 in /usr/local/lib/python3.10/dist-packages (from pdfminer.six==20221105->pdfplumber) (40.0.2)\n",
            "Requirement already satisfied: cffi>=1.12 in /usr/local/lib/python3.10/dist-packages (from cryptography>=36.0.0->pdfminer.six==20221105->pdfplumber) (1.15.1)\n",
            "Requirement already satisfied: pycparser in /usr/local/lib/python3.10/dist-packages (from cffi>=1.12->cryptography>=36.0.0->pdfminer.six==20221105->pdfplumber) (2.21)\n",
            "Installing collected packages: Wand, Pillow, pdfminer.six, pdfplumber\n",
            "  Attempting uninstall: Pillow\n",
            "    Found existing installation: Pillow 8.4.0\n",
            "    Uninstalling Pillow-8.4.0:\n",
            "      Successfully uninstalled Pillow-8.4.0\n",
            "Successfully installed Pillow-9.5.0 Wand-0.6.11 pdfminer.six-20221105 pdfplumber-0.9.0\n"
          ]
        },
        {
          "data": {
            "application/vnd.colab-display-data+json": {
              "pip_warning": {
                "packages": [
                  "PIL"
                ]
              }
            }
          },
          "metadata": {},
          "output_type": "display_data"
        }
      ],
      "source": [
        "!pip install pdfplumber"
      ]
    },
    {
      "cell_type": "code",
      "execution_count": 92,
      "metadata": {
        "colab": {
          "base_uri": "https://localhost:8080/"
        },
        "id": "tCKAcUZ0wUpf",
        "outputId": "6cbdb3db-6fc4-472f-af2c-316938b0db2f"
      },
      "outputs": [
        {
          "name": "stdout",
          "output_type": "stream",
          "text": [
            "Jaiyesh Chahar\n",
            "Mob: +919696900002\n",
            "jaiyesh0002@gmail.com | https://www.linkedin.com/in/jaiyesh-chahar-9b3642107\n",
            "Github - https://github.com/jaiyesh\n",
            "Youtube Channel - https://www.youtube.com/c/PetroleumFromScratch\n",
            "Professional Summary\n",
            "Innovative and result-orientated data scientist with strong mathematics and statistics background and more than 2 years of\n",
            "experience in AI, Machine Learning, Statistical Modelling, Time Series Analysis, Deep Learning, Computer Vision, Python. Also,\n",
            "a community mentor for Python and Data Science in the Oil and Gas Industry. Have an experience of working with clients from\n",
            "different industries like Oil and gas, Energy, Automotive, Manufacturing and Smart City Automation.\n",
            "Education\n",
            "• Master of Technology: Petroleum Engineering minor in Machine Learning, IIT (Indian School of Mines) – Dhanbad\n",
            "2019 - 2021\n",
            "• Bachelor of Technology: Petroleum Engineering, University of Petroleum and Energy Studies – Dehradun\n",
            "2015 - 2019\n",
            "Experience\n",
            "Siemens – Data Scientist Oct 2021 - Present\n",
            "• Automotive Parts Anomaly Detection\n",
            "o Developed an object detection pipeline for damage detection and hole counting.\n",
            "o Developed a MLOps pipeline for model version handling.\n",
            "o Developing end to end software pipeline (final product) for deep learning frameworks of multiple use cases in\n",
            "production involving multiple services leveraging RabbitMQ.\n",
            "Skillsets: Computer Vision, Object Detection, RabbitMQ, MLOps, Pytorch, Tensorflow\n",
            "• Future Mega Smart City Automation\n",
            "o Developed solution of multiple use cases(confidential) for Next Generation – Environment Compliance Assurance\n",
            "for construction location in smart city using drone images\n",
            "o Developed inference pipeline services of computer vision use cases using object detection and image classification\n",
            "methods.\n",
            "o Implemented tiny object detection and image classification.\n",
            "Skillsets: Computer Vision, Object Detection, RabbitMQ, Docker, Pytorch, Tensorflow, OpenCV\n",
            "• Dielectric Fluid Leakage Detection\n",
            "o Developed a data driven solution for detection of leakage of dielectric fluid in high pressure fluid–filled pipe of\n",
            "underground electricity transmission line.\n",
            "o Developed a sequential neural network for leak prediction using historical data.\n",
            "o Developed a streamlit app for performing analysis on sensors data.\n",
            "Skillsets: Time Series analysis, LSTM (Long short term memory), ANN, Random Forest, Streamlit\n",
            "• Electric Vehicle smart battery solution\n",
            "o Contributed to development of an Electric Vehicle smart battery solution having various applications that are\n",
            "forecasting useful life of EV battery, remaining range and energy demand for charging stations using data driven\n",
            "approaches.\n",
            "Skillsets: Time Series analysis, LSTM (Long short term memory), Flask, Regression\n",
            "• Automotive Defect Analysis\n",
            "o Developed a deep learning inference pipeline for detection of defective part in automotive part.\n",
            "Dicelytics Pvt. Ltd. (Dice Technologies LLC) – Reservoir Engineer (Data Scientist) Jan 2021 – Sept 2021\n",
            "• Physics assisted machine learning tools for Oil and Gas Industry\n",
            "o Developed a reservoir physics assisted artificial intelligence and machine learning reinforced model to simulate,\n",
            "analyze and support field implementation of reservoir recovery management technologies.\n",
            "o Developed Machine Learning Based Classification technique using Global Database for Enhanced Oil Recovery\n",
            "Screening for selecting best possible enhanced oil recovery candidate for given reservoir and crude properties.\n",
            "o Developed tool for History Matching and Hydrocarbon Production Forecasting using sequential Deep Learning\n",
            "architecture.\n",
            "Skillsets: Time Series analysis, Machine Learning, LSTM, Physics\n",
            "Indian Institute of Technology (Indian School of Mines) Dhanbad – Teaching Assistant July 2019 – May 2021\n",
            "• Helped the Professor in organizing lecture content, setting up quiz/exam papers, evaluating answer sheets and invigilation\n",
            "Research Works:\n",
            "• Patent Filed: Data Encryption for time series data.\n",
            "• Published Research Work: Data-driven approach for hydrocarbon production forecasting using machine learning\n",
            "techniques in Journal of Petroleum Science and Engineering, DOI: https://doi.org/10.1016/j.petrol.2022.110757\n",
            "• Pre-Prints\n",
            "o Teeth cavity classification: Classifying carious lesions based on G.V. Black Caries Classification using multiple\n",
            "hierarchical classification models\n",
            "o Generative Adversarial Network model for Sensor Data Generation based Remaining useful life classification of\n",
            "industrial equipment.\n",
            "Skills\n",
            "Machine Learning & Deep Learning: Statistics | Linear Algebra (Intuitive to Applied) | ML-Algorithms | Time Series Analysis\n",
            "|Computer Vision | Predictive Maintenance | Predictive Analysis | MLOps\n",
            "Frameworks: Keras | Tensorflow | PyTorch | Scikit-Learn | OpenCV | Streamlit | Docker | RabbitMQ | Numpy | Pandas |\n",
            "Matplotlib | Plotly | Flask\n",
            "Domain Skills: Engineering Mathematics - Univariate & Multi-Variate Calculus | Numerical Simulations | Oil and Gas Physics\n",
            "Achievements, Open-Source Contributions:\n",
            "1. GATE 2020(PE) – AIR 64 (02/2020) Graduate Aptitude Test for Engineers.\n",
            "2. Delivered multiple workshops in many Universities across the globe on Applications of Python and Machine Learning in Oil\n",
            "and Gas Industry.\n",
            "3. Delivered multiple workshops on platforms like Analytics Vidhya, AI Planet on multiple topics of Data Science.\n",
            "4. Developing online tutorials on Youtube for Data Science, Statistics for physics based engineers.\n",
            "5. Predictive Maintenance and pump failure prediction using Machine Learning.\n",
            "6. Prediction of Hydrocarbon Production based on Production Parameters for Volve field data using Machine Learning.\n",
            "7. Reservoir Heterogeneity Model – A statistical approach: Applying Statistics to describe Reservoir Rock Heterogeneity.\n",
            "EXTRACURRICULARS\n",
            "• Co-Founder of Petroleum from Scratch (an E-learning venture).\n",
            "• A Community mentor for Python and Data Science.\n",
            "• Petroleum Data Science Contributor for Society of Petroleum Engineers International’s Wikipedia Petrowiki\n",
            "• A Public Speaker, presented and talked on several Webinars & Workshops.\n",
            "• Actively Maintain a Github repository for sharing projects and learnings with the community.\n",
            "• Taught physics through an NGO.\n"
          ]
        }
      ],
      "source": [
        "import pdfplumber\n",
        "\n",
        "# Open the PDF file\n",
        "with pdfplumber.open('jc.pdf') as pdf:\n",
        "    # List to store the extracted text\n",
        "    extracted_text = []\n",
        "    \n",
        "    # Iterate over each page\n",
        "    for page in pdf.pages:\n",
        "        # Extract the text from the page\n",
        "        text = page.extract_text()\n",
        "        \n",
        "        # Append the extracted text to the list\n",
        "        extracted_text.append(text)\n",
        "\n",
        "# Print the extracted text\n",
        "for text in extracted_text:\n",
        "    print(text)\n"
      ]
    },
    {
      "cell_type": "code",
      "execution_count": 94,
      "metadata": {
        "colab": {
          "base_uri": "https://localhost:8080/"
        },
        "id": "NV3bSAm3w_Ag",
        "outputId": "6748073a-537a-4bcd-d7d7-2e9faa39da89"
      },
      "outputs": [
        {
          "data": {
            "text/plain": [
              "['Jaiyesh Chahar\\nMob: +919696900002\\njaiyesh0002@gmail.com | https://www.linkedin.com/in/jaiyesh-chahar-9b3642107\\nGithub - https://github.com/jaiyesh\\nYoutube Channel - https://www.youtube.com/c/PetroleumFromScratch\\nProfessional Summary\\nInnovative and result-orientated data scientist with strong mathematics and statistics background and more than 2 years of\\nexperience in AI, Machine Learning, Statistical Modelling, Time Series Analysis, Deep Learning, Computer Vision, Python. Also,\\na community mentor for Python and Data Science in the Oil and Gas Industry. Have an experience of working with clients from\\ndifferent industries like Oil and gas, Energy, Automotive, Manufacturing and Smart City Automation.\\nEducation\\n• Master of Technology: Petroleum Engineering minor in Machine Learning, IIT (Indian School of Mines) – Dhanbad\\n2019 - 2021\\n• Bachelor of Technology: Petroleum Engineering, University of Petroleum and Energy Studies – Dehradun\\n2015 - 2019\\nExperience\\nSiemens – Data Scientist Oct 2021 - Present\\n• Automotive Parts Anomaly Detection\\no Developed an object detection pipeline for damage detection and hole counting.\\no Developed a MLOps pipeline for model version handling.\\no Developing end to end software pipeline (final product) for deep learning frameworks of multiple use cases in\\nproduction involving multiple services leveraging RabbitMQ.\\nSkillsets: Computer Vision, Object Detection, RabbitMQ, MLOps, Pytorch, Tensorflow\\n• Future Mega Smart City Automation\\no Developed solution of multiple use cases(confidential) for Next Generation – Environment Compliance Assurance\\nfor construction location in smart city using drone images\\no Developed inference pipeline services of computer vision use cases using object detection and image classification\\nmethods.\\no Implemented tiny object detection and image classification.\\nSkillsets: Computer Vision, Object Detection, RabbitMQ, Docker, Pytorch, Tensorflow, OpenCV\\n• Dielectric Fluid Leakage Detection\\no Developed a data driven solution for detection of leakage of dielectric fluid in high pressure fluid–filled pipe of\\nunderground electricity transmission line.\\no Developed a sequential neural network for leak prediction using historical data.\\no Developed a streamlit app for performing analysis on sensors data.\\nSkillsets: Time Series analysis, LSTM (Long short term memory), ANN, Random Forest, Streamlit\\n• Electric Vehicle smart battery solution\\no Contributed to development of an Electric Vehicle smart battery solution having various applications that are\\nforecasting useful life of EV battery, remaining range and energy demand for charging stations using data driven\\napproaches.\\nSkillsets: Time Series analysis, LSTM (Long short term memory), Flask, Regression\\n• Automotive Defect Analysis\\no Developed a deep learning inference pipeline for detection of defective part in automotive part.',\n",
              " 'Dicelytics Pvt. Ltd. (Dice Technologies LLC) – Reservoir Engineer (Data Scientist) Jan 2021 – Sept 2021\\n• Physics assisted machine learning tools for Oil and Gas Industry\\no Developed a reservoir physics assisted artificial intelligence and machine learning reinforced model to simulate,\\nanalyze and support field implementation of reservoir recovery management technologies.\\no Developed Machine Learning Based Classification technique using Global Database for Enhanced Oil Recovery\\nScreening for selecting best possible enhanced oil recovery candidate for given reservoir and crude properties.\\no Developed tool for History Matching and Hydrocarbon Production Forecasting using sequential Deep Learning\\narchitecture.\\nSkillsets: Time Series analysis, Machine Learning, LSTM, Physics\\nIndian Institute of Technology (Indian School of Mines) Dhanbad – Teaching Assistant July 2019 – May 2021\\n• Helped the Professor in organizing lecture content, setting up quiz/exam papers, evaluating answer sheets and invigilation\\nResearch Works:\\n• Patent Filed: Data Encryption for time series data.\\n• Published Research Work: Data-driven approach for hydrocarbon production forecasting using machine learning\\ntechniques in Journal of Petroleum Science and Engineering, DOI: https://doi.org/10.1016/j.petrol.2022.110757\\n• Pre-Prints\\no Teeth cavity classification: Classifying carious lesions based on G.V. Black Caries Classification using multiple\\nhierarchical classification models\\no Generative Adversarial Network model for Sensor Data Generation based Remaining useful life classification of\\nindustrial equipment.\\nSkills\\nMachine Learning & Deep Learning: Statistics | Linear Algebra (Intuitive to Applied) | ML-Algorithms | Time Series Analysis\\n|Computer Vision | Predictive Maintenance | Predictive Analysis | MLOps\\nFrameworks: Keras | Tensorflow | PyTorch | Scikit-Learn | OpenCV | Streamlit | Docker | RabbitMQ | Numpy | Pandas |\\nMatplotlib | Plotly | Flask\\nDomain Skills: Engineering Mathematics - Univariate & Multi-Variate Calculus | Numerical Simulations | Oil and Gas Physics\\nAchievements, Open-Source Contributions:\\n1. GATE 2020(PE) – AIR 64 (02/2020) Graduate Aptitude Test for Engineers.\\n2. Delivered multiple workshops in many Universities across the globe on Applications of Python and Machine Learning in Oil\\nand Gas Industry.\\n3. Delivered multiple workshops on platforms like Analytics Vidhya, AI Planet on multiple topics of Data Science.\\n4. Developing online tutorials on Youtube for Data Science, Statistics for physics based engineers.\\n5. Predictive Maintenance and pump failure prediction using Machine Learning.\\n6. Prediction of Hydrocarbon Production based on Production Parameters for Volve field data using Machine Learning.\\n7. Reservoir Heterogeneity Model – A statistical approach: Applying Statistics to describe Reservoir Rock Heterogeneity.\\nEXTRACURRICULARS\\n• Co-Founder of Petroleum from Scratch (an E-learning venture).\\n• A Community mentor for Python and Data Science.\\n• Petroleum Data Science Contributor for Society of Petroleum Engineers International’s Wikipedia Petrowiki\\n• A Public Speaker, presented and talked on several Webinars & Workshops.\\n• Actively Maintain a Github repository for sharing projects and learnings with the community.\\n• Taught physics through an NGO.']"
            ]
          },
          "execution_count": 94,
          "metadata": {},
          "output_type": "execute_result"
        }
      ],
      "source": [
        "extracted_text"
      ]
    },
    {
      "cell_type": "code",
      "execution_count": 95,
      "metadata": {
        "colab": {
          "base_uri": "https://localhost:8080/"
        },
        "id": "UwTlfU_7xGH2",
        "outputId": "7316235c-c71d-4f1a-d2e0-b5fe31f132c1"
      },
      "outputs": [
        {
          "data": {
            "text/plain": [
              "2"
            ]
          },
          "execution_count": 95,
          "metadata": {},
          "output_type": "execute_result"
        }
      ],
      "source": [
        "len(extracted_text)"
      ]
    },
    {
      "cell_type": "code",
      "execution_count": 96,
      "metadata": {
        "id": "GtftnZJdxSBW"
      },
      "outputs": [],
      "source": [
        "cv = \" \".join(extracted_text)"
      ]
    },
    {
      "cell_type": "code",
      "execution_count": 97,
      "metadata": {
        "colab": {
          "base_uri": "https://localhost:8080/",
          "height": 123
        },
        "id": "0vbAMenAxbzf",
        "outputId": "605d5b37-3305-4662-e9c3-013979d13c51"
      },
      "outputs": [
        {
          "data": {
            "application/vnd.google.colaboratory.intrinsic+json": {
              "type": "string"
            },
            "text/plain": [
              "'Jaiyesh Chahar\\nMob: +919696900002\\njaiyesh0002@gmail.com | https://www.linkedin.com/in/jaiyesh-chahar-9b3642107\\nGithub - https://github.com/jaiyesh\\nYoutube Channel - https://www.youtube.com/c/PetroleumFromScratch\\nProfessional Summary\\nInnovative and result-orientated data scientist with strong mathematics and statistics background and more than 2 years of\\nexperience in AI, Machine Learning, Statistical Modelling, Time Series Analysis, Deep Learning, Computer Vision, Python. Also,\\na community mentor for Python and Data Science in the Oil and Gas Industry. Have an experience of working with clients from\\ndifferent industries like Oil and gas, Energy, Automotive, Manufacturing and Smart City Automation.\\nEducation\\n• Master of Technology: Petroleum Engineering minor in Machine Learning, IIT (Indian School of Mines) – Dhanbad\\n2019 - 2021\\n• Bachelor of Technology: Petroleum Engineering, University of Petroleum and Energy Studies – Dehradun\\n2015 - 2019\\nExperience\\nSiemens – Data Scientist Oct 2021 - Present\\n• Automotive Parts Anomaly Detection\\no Developed an object detection pipeline for damage detection and hole counting.\\no Developed a MLOps pipeline for model version handling.\\no Developing end to end software pipeline (final product) for deep learning frameworks of multiple use cases in\\nproduction involving multiple services leveraging RabbitMQ.\\nSkillsets: Computer Vision, Object Detection, RabbitMQ, MLOps, Pytorch, Tensorflow\\n• Future Mega Smart City Automation\\no Developed solution of multiple use cases(confidential) for Next Generation – Environment Compliance Assurance\\nfor construction location in smart city using drone images\\no Developed inference pipeline services of computer vision use cases using object detection and image classification\\nmethods.\\no Implemented tiny object detection and image classification.\\nSkillsets: Computer Vision, Object Detection, RabbitMQ, Docker, Pytorch, Tensorflow, OpenCV\\n• Dielectric Fluid Leakage Detection\\no Developed a data driven solution for detection of leakage of dielectric fluid in high pressure fluid–filled pipe of\\nunderground electricity transmission line.\\no Developed a sequential neural network for leak prediction using historical data.\\no Developed a streamlit app for performing analysis on sensors data.\\nSkillsets: Time Series analysis, LSTM (Long short term memory), ANN, Random Forest, Streamlit\\n• Electric Vehicle smart battery solution\\no Contributed to development of an Electric Vehicle smart battery solution having various applications that are\\nforecasting useful life of EV battery, remaining range and energy demand for charging stations using data driven\\napproaches.\\nSkillsets: Time Series analysis, LSTM (Long short term memory), Flask, Regression\\n• Automotive Defect Analysis\\no Developed a deep learning inference pipeline for detection of defective part in automotive part. Dicelytics Pvt. Ltd. (Dice Technologies LLC) – Reservoir Engineer (Data Scientist) Jan 2021 – Sept 2021\\n• Physics assisted machine learning tools for Oil and Gas Industry\\no Developed a reservoir physics assisted artificial intelligence and machine learning reinforced model to simulate,\\nanalyze and support field implementation of reservoir recovery management technologies.\\no Developed Machine Learning Based Classification technique using Global Database for Enhanced Oil Recovery\\nScreening for selecting best possible enhanced oil recovery candidate for given reservoir and crude properties.\\no Developed tool for History Matching and Hydrocarbon Production Forecasting using sequential Deep Learning\\narchitecture.\\nSkillsets: Time Series analysis, Machine Learning, LSTM, Physics\\nIndian Institute of Technology (Indian School of Mines) Dhanbad – Teaching Assistant July 2019 – May 2021\\n• Helped the Professor in organizing lecture content, setting up quiz/exam papers, evaluating answer sheets and invigilation\\nResearch Works:\\n• Patent Filed: Data Encryption for time series data.\\n• Published Research Work: Data-driven approach for hydrocarbon production forecasting using machine learning\\ntechniques in Journal of Petroleum Science and Engineering, DOI: https://doi.org/10.1016/j.petrol.2022.110757\\n• Pre-Prints\\no Teeth cavity classification: Classifying carious lesions based on G.V. Black Caries Classification using multiple\\nhierarchical classification models\\no Generative Adversarial Network model for Sensor Data Generation based Remaining useful life classification of\\nindustrial equipment.\\nSkills\\nMachine Learning & Deep Learning: Statistics | Linear Algebra (Intuitive to Applied) | ML-Algorithms | Time Series Analysis\\n|Computer Vision | Predictive Maintenance | Predictive Analysis | MLOps\\nFrameworks: Keras | Tensorflow | PyTorch | Scikit-Learn | OpenCV | Streamlit | Docker | RabbitMQ | Numpy | Pandas |\\nMatplotlib | Plotly | Flask\\nDomain Skills: Engineering Mathematics - Univariate & Multi-Variate Calculus | Numerical Simulations | Oil and Gas Physics\\nAchievements, Open-Source Contributions:\\n1. GATE 2020(PE) – AIR 64 (02/2020) Graduate Aptitude Test for Engineers.\\n2. Delivered multiple workshops in many Universities across the globe on Applications of Python and Machine Learning in Oil\\nand Gas Industry.\\n3. Delivered multiple workshops on platforms like Analytics Vidhya, AI Planet on multiple topics of Data Science.\\n4. Developing online tutorials on Youtube for Data Science, Statistics for physics based engineers.\\n5. Predictive Maintenance and pump failure prediction using Machine Learning.\\n6. Prediction of Hydrocarbon Production based on Production Parameters for Volve field data using Machine Learning.\\n7. Reservoir Heterogeneity Model – A statistical approach: Applying Statistics to describe Reservoir Rock Heterogeneity.\\nEXTRACURRICULARS\\n• Co-Founder of Petroleum from Scratch (an E-learning venture).\\n• A Community mentor for Python and Data Science.\\n• Petroleum Data Science Contributor for Society of Petroleum Engineers International’s Wikipedia Petrowiki\\n• A Public Speaker, presented and talked on several Webinars & Workshops.\\n• Actively Maintain a Github repository for sharing projects and learnings with the community.\\n• Taught physics through an NGO.'"
            ]
          },
          "execution_count": 97,
          "metadata": {},
          "output_type": "execute_result"
        }
      ],
      "source": [
        "cv"
      ]
    },
    {
      "cell_type": "code",
      "execution_count": 98,
      "metadata": {
        "id": "h3kxYjHDxdNQ"
      },
      "outputs": [],
      "source": [
        "review = re.sub(\n",
        "        '(@[A-Za-z0-9]+)|([^0-9A-Za-z \\t])|(\\w+:\\/\\/\\S+)|^rt|http.+?\"',\n",
        "        \" \",\n",
        "        cv,\n",
        "    )"
      ]
    },
    {
      "cell_type": "code",
      "execution_count": 99,
      "metadata": {
        "colab": {
          "base_uri": "https://localhost:8080/",
          "height": 123
        },
        "id": "DOs5qpeexpcz",
        "outputId": "19e79c99-2192-481c-9f19-af62e3d70843"
      },
      "outputs": [
        {
          "data": {
            "application/vnd.google.colaboratory.intrinsic+json": {
              "type": "string"
            },
            "text/plain": [
              "'Jaiyesh Chahar Mob   919696900002 jaiyesh0002  com     Github     Youtube Channel     Professional Summary Innovative and result orientated data scientist with strong mathematics and statistics background and more than 2 years of experience in AI  Machine Learning  Statistical Modelling  Time Series Analysis  Deep Learning  Computer Vision  Python  Also  a community mentor for Python and Data Science in the Oil and Gas Industry  Have an experience of working with clients from different industries like Oil and gas  Energy  Automotive  Manufacturing and Smart City Automation  Education   Master of Technology  Petroleum Engineering minor in Machine Learning  IIT  Indian School of Mines    Dhanbad 2019   2021   Bachelor of Technology  Petroleum Engineering  University of Petroleum and Energy Studies   Dehradun 2015   2019 Experience Siemens   Data Scientist Oct 2021   Present   Automotive Parts Anomaly Detection o Developed an object detection pipeline for damage detection and hole counting  o Developed a MLOps pipeline for model version handling  o Developing end to end software pipeline  final product  for deep learning frameworks of multiple use cases in production involving multiple services leveraging RabbitMQ  Skillsets  Computer Vision  Object Detection  RabbitMQ  MLOps  Pytorch  Tensorflow   Future Mega Smart City Automation o Developed solution of multiple use cases confidential  for Next Generation   Environment Compliance Assurance for construction location in smart city using drone images o Developed inference pipeline services of computer vision use cases using object detection and image classification methods  o Implemented tiny object detection and image classification  Skillsets  Computer Vision  Object Detection  RabbitMQ  Docker  Pytorch  Tensorflow  OpenCV   Dielectric Fluid Leakage Detection o Developed a data driven solution for detection of leakage of dielectric fluid in high pressure fluid filled pipe of underground electricity transmission line  o Developed a sequential neural network for leak prediction using historical data  o Developed a streamlit app for performing analysis on sensors data  Skillsets  Time Series analysis  LSTM  Long short term memory   ANN  Random Forest  Streamlit   Electric Vehicle smart battery solution o Contributed to development of an Electric Vehicle smart battery solution having various applications that are forecasting useful life of EV battery  remaining range and energy demand for charging stations using data driven approaches  Skillsets  Time Series analysis  LSTM  Long short term memory   Flask  Regression   Automotive Defect Analysis o Developed a deep learning inference pipeline for detection of defective part in automotive part  Dicelytics Pvt  Ltd   Dice Technologies LLC    Reservoir Engineer  Data Scientist  Jan 2021   Sept 2021   Physics assisted machine learning tools for Oil and Gas Industry o Developed a reservoir physics assisted artificial intelligence and machine learning reinforced model to simulate  analyze and support field implementation of reservoir recovery management technologies  o Developed Machine Learning Based Classification technique using Global Database for Enhanced Oil Recovery Screening for selecting best possible enhanced oil recovery candidate for given reservoir and crude properties  o Developed tool for History Matching and Hydrocarbon Production Forecasting using sequential Deep Learning architecture  Skillsets  Time Series analysis  Machine Learning  LSTM  Physics Indian Institute of Technology  Indian School of Mines  Dhanbad   Teaching Assistant July 2019   May 2021   Helped the Professor in organizing lecture content  setting up quiz exam papers  evaluating answer sheets and invigilation Research Works    Patent Filed  Data Encryption for time series data    Published Research Work  Data driven approach for hydrocarbon production forecasting using machine learning techniques in Journal of Petroleum Science and Engineering  DOI      Pre Prints o Teeth cavity classification  Classifying carious lesions based on G V  Black Caries Classification using multiple hierarchical classification models o Generative Adversarial Network model for Sensor Data Generation based Remaining useful life classification of industrial equipment  Skills Machine Learning   Deep Learning  Statistics   Linear Algebra  Intuitive to Applied    ML Algorithms   Time Series Analysis  Computer Vision   Predictive Maintenance   Predictive Analysis   MLOps Frameworks  Keras   Tensorflow   PyTorch   Scikit Learn   OpenCV   Streamlit   Docker   RabbitMQ   Numpy   Pandas   Matplotlib   Plotly   Flask Domain Skills  Engineering Mathematics   Univariate   Multi Variate Calculus   Numerical Simulations   Oil and Gas Physics Achievements  Open Source Contributions  1  GATE 2020 PE    AIR 64  02 2020  Graduate Aptitude Test for Engineers  2  Delivered multiple workshops in many Universities across the globe on Applications of Python and Machine Learning in Oil and Gas Industry  3  Delivered multiple workshops on platforms like Analytics Vidhya  AI Planet on multiple topics of Data Science  4  Developing online tutorials on Youtube for Data Science  Statistics for physics based engineers  5  Predictive Maintenance and pump failure prediction using Machine Learning  6  Prediction of Hydrocarbon Production based on Production Parameters for Volve field data using Machine Learning  7  Reservoir Heterogeneity Model   A statistical approach  Applying Statistics to describe Reservoir Rock Heterogeneity  EXTRACURRICULARS   Co Founder of Petroleum from Scratch  an E learning venture     A Community mentor for Python and Data Science    Petroleum Data Science Contributor for Society of Petroleum Engineers International s Wikipedia Petrowiki   A Public Speaker  presented and talked on several Webinars   Workshops    Actively Maintain a Github repository for sharing projects and learnings with the community    Taught physics through an NGO '"
            ]
          },
          "execution_count": 99,
          "metadata": {},
          "output_type": "execute_result"
        }
      ],
      "source": [
        "review"
      ]
    },
    {
      "cell_type": "code",
      "execution_count": 100,
      "metadata": {
        "id": "2eEkWPL1xrA4"
      },
      "outputs": [],
      "source": [
        "review = review.lower()\n",
        "review = review.split()\n",
        "lm = WordNetLemmatizer()\n",
        "review = [\n",
        "    lm.lemmatize(word)\n",
        "    for word in review\n",
        "    if not word in set(stopwords.words(\"english\"))\n",
        "]\n",
        "review = \" \".join(review)\n"
      ]
    },
    {
      "cell_type": "code",
      "execution_count": 101,
      "metadata": {
        "colab": {
          "base_uri": "https://localhost:8080/",
          "height": 123
        },
        "id": "4BLtGDHvx59t",
        "outputId": "fee78b6d-2c60-4cbd-fb0a-78fa3bfb334f"
      },
      "outputs": [
        {
          "data": {
            "application/vnd.google.colaboratory.intrinsic+json": {
              "type": "string"
            },
            "text/plain": [
              "'jaiyesh chahar mob 919696900002 jaiyesh0002 com github youtube channel professional summary innovative result orientated data scientist strong mathematics statistic background 2 year experience ai machine learning statistical modelling time series analysis deep learning computer vision python also community mentor python data science oil gas industry experience working client different industry like oil gas energy automotive manufacturing smart city automation education master technology petroleum engineering minor machine learning iit indian school mine dhanbad 2019 2021 bachelor technology petroleum engineering university petroleum energy study dehradun 2015 2019 experience siemens data scientist oct 2021 present automotive part anomaly detection developed object detection pipeline damage detection hole counting developed mlops pipeline model version handling developing end end software pipeline final product deep learning framework multiple use case production involving multiple service leveraging rabbitmq skillsets computer vision object detection rabbitmq mlops pytorch tensorflow future mega smart city automation developed solution multiple use case confidential next generation environment compliance assurance construction location smart city using drone image developed inference pipeline service computer vision use case using object detection image classification method implemented tiny object detection image classification skillsets computer vision object detection rabbitmq docker pytorch tensorflow opencv dielectric fluid leakage detection developed data driven solution detection leakage dielectric fluid high pressure fluid filled pipe underground electricity transmission line developed sequential neural network leak prediction using historical data developed streamlit app performing analysis sensor data skillsets time series analysis lstm long short term memory ann random forest streamlit electric vehicle smart battery solution contributed development electric vehicle smart battery solution various application forecasting useful life ev battery remaining range energy demand charging station using data driven approach skillsets time series analysis lstm long short term memory flask regression automotive defect analysis developed deep learning inference pipeline detection defective part automotive part dicelytics pvt ltd dice technology llc reservoir engineer data scientist jan 2021 sept 2021 physic assisted machine learning tool oil gas industry developed reservoir physic assisted artificial intelligence machine learning reinforced model simulate analyze support field implementation reservoir recovery management technology developed machine learning based classification technique using global database enhanced oil recovery screening selecting best possible enhanced oil recovery candidate given reservoir crude property developed tool history matching hydrocarbon production forecasting using sequential deep learning architecture skillsets time series analysis machine learning lstm physic indian institute technology indian school mine dhanbad teaching assistant july 2019 may 2021 helped professor organizing lecture content setting quiz exam paper evaluating answer sheet invigilation research work patent filed data encryption time series data published research work data driven approach hydrocarbon production forecasting using machine learning technique journal petroleum science engineering doi pre print teeth cavity classification classifying carious lesion based g v black caries classification using multiple hierarchical classification model generative adversarial network model sensor data generation based remaining useful life classification industrial equipment skill machine learning deep learning statistic linear algebra intuitive applied ml algorithm time series analysis computer vision predictive maintenance predictive analysis mlops framework kera tensorflow pytorch scikit learn opencv streamlit docker rabbitmq numpy panda matplotlib plotly flask domain skill engineering mathematics univariate multi variate calculus numerical simulation oil gas physic achievement open source contribution 1 gate 2020 pe air 64 02 2020 graduate aptitude test engineer 2 delivered multiple workshop many university across globe application python machine learning oil gas industry 3 delivered multiple workshop platform like analytics vidhya ai planet multiple topic data science 4 developing online tutorial youtube data science statistic physic based engineer 5 predictive maintenance pump failure prediction using machine learning 6 prediction hydrocarbon production based production parameter volve field data using machine learning 7 reservoir heterogeneity model statistical approach applying statistic describe reservoir rock heterogeneity extracurriculars co founder petroleum scratch e learning venture community mentor python data science petroleum data science contributor society petroleum engineer international wikipedia petrowiki public speaker presented talked several webinars workshop actively maintain github repository sharing project learning community taught physic ngo'"
            ]
          },
          "execution_count": 101,
          "metadata": {},
          "output_type": "execute_result"
        }
      ],
      "source": [
        "review"
      ]
    },
    {
      "cell_type": "code",
      "execution_count": 103,
      "metadata": {
        "colab": {
          "base_uri": "https://localhost:8080/",
          "height": 123
        },
        "id": "DgFm-Y1Xx7O9",
        "outputId": "21c82565-609c-4304-cbe2-6d71d4733fca"
      },
      "outputs": [
        {
          "data": {
            "application/vnd.google.colaboratory.intrinsic+json": {
              "type": "string"
            },
            "text/plain": [
              "'jaiyesh chahar mob 919696900002 jaiyesh0002 com github youtube channel professional summary innovative result orientated data scientist strong mathematics statistic background 2 year experience ai machine learning statistical modelling time series analysis deep learning computer vision python also community mentor python data science oil gas industry experience working client different industry like oil gas energy automotive manufacturing smart city automation education master technology petroleum engineering minor machine learning iit indian school mine dhanbad 2019 2021 bachelor technology petroleum engineering university petroleum energy study dehradun 2015 2019 experience siemens data scientist oct 2021 present automotive part anomaly detection developed object detection pipeline damage detection hole counting developed mlops pipeline model version handling developing end end software pipeline final product deep learning framework multiple use case production involving multiple service leveraging rabbitmq skillsets computer vision object detection rabbitmq mlops pytorch tensorflow future mega smart city automation developed solution multiple use case confidential next generation environment compliance assurance construction location smart city using drone image developed inference pipeline service computer vision use case using object detection image classification method implemented tiny object detection image classification skillsets computer vision object detection rabbitmq docker pytorch tensorflow opencv dielectric fluid leakage detection developed data driven solution detection leakage dielectric fluid high pressure fluid filled pipe underground electricity transmission line developed sequential neural network leak prediction using historical data developed streamlit app performing analysis sensor data skillsets time series analysis lstm long short term memory ann random forest streamlit electric vehicle smart battery solution contributed development electric vehicle smart battery solution various application forecasting useful life ev battery remaining range energy demand charging station using data driven approach skillsets time series analysis lstm long short term memory flask regression automotive defect analysis developed deep learning inference pipeline detection defective part automotive part dicelytics pvt ltd dice technology llc reservoir engineer data scientist jan 2021 sept 2021 physic assisted machine learning tool oil gas industry developed reservoir physic assisted artificial intelligence machine learning reinforced model simulate analyze support field implementation reservoir recovery management technology developed machine learning based classification technique using global database enhanced oil recovery screening selecting best possible enhanced oil recovery candidate given reservoir crude property developed tool history matching hydrocarbon production forecasting using sequential deep learning architecture skillsets time series analysis machine learning lstm physic indian institute technology indian school mine dhanbad teaching assistant july 2019 may 2021 helped professor organizing lecture content setting quiz exam paper evaluating answer sheet invigilation research work patent filed data encryption time series data published research work data driven approach hydrocarbon production forecasting using machine learning technique journal petroleum science engineering doi pre print teeth cavity classification classifying carious lesion based g v black caries classification using multiple hierarchical classification model generative adversarial network model sensor data generation based remaining useful life classification industrial equipment skill machine learning deep learning statistic linear algebra intuitive applied ml algorithm time series analysis computer vision predictive maintenance predictive analysis mlops framework kera tensorflow pytorch scikit learn opencv streamlit docker rabbitmq numpy panda matplotlib plotly flask domain skill engineering mathematics univariate multi variate calculus numerical simulation oil gas physic achievement open source contribution 1 gate 2020 pe air 64 02 2020 graduate aptitude test engineer 2 delivered multiple workshop many university across globe application python machine learning oil gas industry 3 delivered multiple workshop platform like analytics vidhya ai planet multiple topic data science 4 developing online tutorial youtube data science statistic physic based engineer 5 predictive maintenance pump failure prediction using machine learning 6 prediction hydrocarbon production based production parameter volve field data using machine learning 7 reservoir heterogeneity model statistical approach applying statistic describe reservoir rock heterogeneity extracurriculars co founder petroleum scratch e learning venture community mentor python data science petroleum data science contributor society petroleum engineer international wikipedia petrowiki public speaker presented talked several webinars workshop actively maintain github repository sharing project learning community taught physic ngo'"
            ]
          },
          "execution_count": 103,
          "metadata": {},
          "output_type": "execute_result"
        }
      ],
      "source": [
        "review.lower()"
      ]
    },
    {
      "cell_type": "code",
      "execution_count": 105,
      "metadata": {
        "id": "yLntghRWyBfv"
      },
      "outputs": [],
      "source": [
        "skills = get_skills(review.lower())"
      ]
    },
    {
      "cell_type": "code",
      "execution_count": 106,
      "metadata": {
        "colab": {
          "base_uri": "https://localhost:8080/"
        },
        "id": "UUhncxfsyJ5_",
        "outputId": "cb559c7d-8298-4a39-cb99-e39b143b7985"
      },
      "outputs": [
        {
          "data": {
            "text/plain": [
              "['github',\n",
              " 'ai',\n",
              " 'machine learning',\n",
              " 'time series',\n",
              " 'deep learning',\n",
              " 'computer vision',\n",
              " 'python',\n",
              " 'python',\n",
              " 'data science',\n",
              " 'petroleum engineering',\n",
              " 'machine learning',\n",
              " 'petroleum engineering',\n",
              " 'anomaly detection',\n",
              " 'object detection',\n",
              " 'software',\n",
              " 'deep learning',\n",
              " 'framework',\n",
              " 'rabbitmq',\n",
              " 'computer vision',\n",
              " 'object detection',\n",
              " 'rabbitmq',\n",
              " 'pytorch',\n",
              " 'tensorflow',\n",
              " 'inference',\n",
              " 'computer vision',\n",
              " 'object detection',\n",
              " 'object detection',\n",
              " 'computer vision',\n",
              " 'object detection',\n",
              " 'pytorch',\n",
              " 'tensorflow',\n",
              " 'opencv',\n",
              " 'time series',\n",
              " 'random forest',\n",
              " 'time series',\n",
              " 'flask',\n",
              " 'deep learning',\n",
              " 'inference',\n",
              " 'machine learning',\n",
              " 'artificial intelligence',\n",
              " 'machine learning',\n",
              " 'support',\n",
              " 'machine learning',\n",
              " 'database',\n",
              " 'deep learning',\n",
              " 'time series',\n",
              " 'machine learning',\n",
              " 'encryption',\n",
              " 'time series',\n",
              " 'machine learning',\n",
              " 'engineering',\n",
              " 'network model',\n",
              " 'machine learning',\n",
              " 'deep learning',\n",
              " 'algorithm',\n",
              " 'time series',\n",
              " 'computer vision',\n",
              " 'framework',\n",
              " 'opencv',\n",
              " 'rabbitmq',\n",
              " 'numpy',\n",
              " 'plotly',\n",
              " 'flask',\n",
              " 'engineering',\n",
              " 'simulation',\n",
              " 'python',\n",
              " 'machine learning',\n",
              " 'analytics',\n",
              " 'ai',\n",
              " 'data science',\n",
              " 'data science',\n",
              " 'machine learning',\n",
              " 'machine learning',\n",
              " 'python',\n",
              " 'data science',\n",
              " 'data science',\n",
              " 'github']"
            ]
          },
          "execution_count": 106,
          "metadata": {},
          "output_type": "execute_result"
        }
      ],
      "source": [
        "skills"
      ]
    },
    {
      "cell_type": "code",
      "execution_count": null,
      "metadata": {
        "id": "_OqAVjJjyWSR"
      },
      "outputs": [],
      "source": [
        "def skill_extractor(pdf_path):\n",
        "  "
      ]
    },
    {
      "attachments": {},
      "cell_type": "markdown",
      "metadata": {},
      "source": [
        "# final"
      ]
    },
    {
      "cell_type": "code",
      "execution_count": 2,
      "metadata": {},
      "outputs": [],
      "source": [
        "import re\n",
        "import nltk\n",
        "import pdfplumber"
      ]
    },
    {
      "cell_type": "code",
      "execution_count": 3,
      "metadata": {},
      "outputs": [],
      "source": [
        "import spacy"
      ]
    },
    {
      "cell_type": "code",
      "execution_count": 4,
      "metadata": {},
      "outputs": [
        {
          "data": {
            "text/plain": [
              "'3.5.2'"
            ]
          },
          "execution_count": 4,
          "metadata": {},
          "output_type": "execute_result"
        }
      ],
      "source": [
        "spacy.__version__"
      ]
    },
    {
      "cell_type": "code",
      "execution_count": 5,
      "metadata": {},
      "outputs": [
        {
          "name": "stdout",
          "output_type": "stream",
          "text": [
            "Name: typing_extensions\n",
            "Version: 4.5.0\n",
            "Summary: Backported and Experimental Type Hints for Python 3.7+\n",
            "Home-page: \n",
            "Author: \n",
            "Author-email: \"Guido van Rossum, Jukka Lehtosalo, Łukasz Langa, Michael Lee\" <levkivskyi@gmail.com>\n",
            "License: \n",
            "Location: c:\\users\\z004et6z\\anaconda3\\envs\\skill_extractor\\lib\\site-packages\n",
            "Requires: \n",
            "Required-by: azure-core, ipython, pydantic\n"
          ]
        },
        {
          "name": "stderr",
          "output_type": "stream",
          "text": [
            "WARNING: Ignoring invalid distribution -illow (c:\\users\\z004et6z\\appdata\\roaming\\python\\python38\\site-packages)\n"
          ]
        }
      ],
      "source": [
        "! pip show typing-extensions"
      ]
    },
    {
      "cell_type": "code",
      "execution_count": 6,
      "metadata": {},
      "outputs": [
        {
          "name": "stderr",
          "output_type": "stream",
          "text": [
            "[nltk_data] Downloading package stopwords to\n",
            "[nltk_data]     C:\\Users\\Z004ET6Z\\AppData\\Roaming\\nltk_data...\n",
            "[nltk_data]   Package stopwords is already up-to-date!\n",
            "[nltk_data] Downloading package wordnet to\n",
            "[nltk_data]     C:\\Users\\Z004ET6Z\\AppData\\Roaming\\nltk_data...\n",
            "[nltk_data]   Package wordnet is already up-to-date!\n"
          ]
        },
        {
          "data": {
            "text/plain": [
              "True"
            ]
          },
          "execution_count": 6,
          "metadata": {},
          "output_type": "execute_result"
        }
      ],
      "source": [
        "from nltk.corpus import stopwords\n",
        "from nltk.stem import WordNetLemmatizer\n",
        "nltk.download(['stopwords','wordnet'])"
      ]
    },
    {
      "cell_type": "code",
      "execution_count": 7,
      "metadata": {},
      "outputs": [],
      "source": [
        "nlp = spacy.load(\"en_core_web_lg\")\n",
        "skill_pattern_path = \"./skills_annotations/jz_skill_patterns.jsonl\""
      ]
    },
    {
      "cell_type": "code",
      "execution_count": 8,
      "metadata": {},
      "outputs": [],
      "source": [
        "ruler = nlp.add_pipe(\"entity_ruler\")"
      ]
    },
    {
      "cell_type": "code",
      "execution_count": 9,
      "metadata": {},
      "outputs": [
        {
          "data": {
            "text/plain": [
              "['tok2vec',\n",
              " 'tagger',\n",
              " 'parser',\n",
              " 'attribute_ruler',\n",
              " 'lemmatizer',\n",
              " 'ner',\n",
              " 'entity_ruler']"
            ]
          },
          "execution_count": 9,
          "metadata": {},
          "output_type": "execute_result"
        }
      ],
      "source": [
        "nlp.pipe_names"
      ]
    },
    {
      "cell_type": "code",
      "execution_count": null,
      "metadata": {},
      "outputs": [],
      "source": []
    },
    {
      "cell_type": "code",
      "execution_count": 10,
      "metadata": {},
      "outputs": [
        {
          "data": {
            "text/plain": [
              "<spacy.pipeline.entityruler.EntityRuler at 0x18bdb40e1c0>"
            ]
          },
          "execution_count": 10,
          "metadata": {},
          "output_type": "execute_result"
        }
      ],
      "source": [
        "ruler.from_disk(skill_pattern_path)"
      ]
    },
    {
      "cell_type": "code",
      "execution_count": 11,
      "metadata": {},
      "outputs": [],
      "source": [
        "def get_skills(text):\n",
        "    doc = nlp(text)\n",
        "    myset = []\n",
        "    subset = []\n",
        "    for ent in doc.ents:\n",
        "        if ent.label_ == \"SKILL\":\n",
        "            subset.append(ent.text)\n",
        "    myset.append(subset)\n",
        "    print(myset)\n",
        "    return subset\n",
        "\n",
        "\n",
        "def unique_skills(x):\n",
        "    return list(set(x))"
      ]
    },
    {
      "cell_type": "code",
      "execution_count": 12,
      "metadata": {},
      "outputs": [],
      "source": [
        "def pdf_to_text(pdf_path):\n",
        "  # Open the PDF file\n",
        "  with pdfplumber.open(pdf_path) as pdf:\n",
        "      # List to store the extracted text\n",
        "      extracted_text = []\n",
        "      \n",
        "      # Iterate over each page\n",
        "      for page in pdf.pages:\n",
        "          # Extract the text from the page\n",
        "          text = page.extract_text()\n",
        "          \n",
        "          # Append the extracted text to the list\n",
        "          extracted_text.append(text)\n",
        "      extracted_text = \" \".join(extracted_text)\n",
        "      return extracted_text\n"
      ]
    },
    {
      "cell_type": "code",
      "execution_count": 13,
      "metadata": {},
      "outputs": [],
      "source": [
        "def cleaning_text(text):\n",
        "  review = re.sub(\n",
        "        '(@[A-Za-z0-9]+)|([^0-9A-Za-z \\t])|(\\w+:\\/\\/\\S+)|^rt|http.+?\"',\n",
        "        \" \",\n",
        "        text,)\n",
        "  review = review.lower()\n",
        "  review = review.split()\n",
        "  lm = WordNetLemmatizer()\n",
        "  review = [\n",
        "      lm.lemmatize(word)\n",
        "      for word in review\n",
        "      if not word in set(stopwords.words(\"english\"))\n",
        "  ]\n",
        "  review = \" \".join(review)\n",
        "  review = review.lower()\n",
        "  cleaned_text = review \n",
        "  return cleaned_text"
      ]
    },
    {
      "cell_type": "code",
      "execution_count": 14,
      "metadata": {},
      "outputs": [],
      "source": [
        "def skill_extractor(pdf_path):\n",
        "  extracted_text = pdf_to_text(pdf_path)\n",
        "  cleaned_text = cleaning_text(extracted_text)\n",
        "  print(cleaned_text)\n",
        "  skills = get_skills(cleaned_text)\n",
        "  print(skills)\n",
        "  uniq_skills = unique_skills(skills)\n",
        "  return uniq_skills"
      ]
    },
    {
      "cell_type": "code",
      "execution_count": 15,
      "metadata": {},
      "outputs": [
        {
          "name": "stdout",
          "output_type": "stream",
          "text": [
            "jaiyesh chahar mob 919696900002 jaiyesh0002 com github youtube channel professional summary innovative result orientated data scientist strong mathematics statistic background 2 year experience ai machine learning statistical modelling time series analysis deep learning computer vision python also community mentor python data science oil gas industry experience working client different industry like oil gas energy automotive manufacturing smart city automation education master technology petroleum engineering minor machine learning iit indian school mine dhanbad 2019 2021 bachelor technology petroleum engineering university petroleum energy study dehradun 2015 2019 experience siemens data scientist oct 2021 present automotive part anomaly detection developed object detection pipeline damage detection hole counting developed mlops pipeline model version handling developing end end software pipeline final product deep learning framework multiple use case production involving multiple service leveraging rabbitmq skillsets computer vision object detection rabbitmq mlops pytorch tensorflow future mega smart city automation developed solution multiple use case confidential next generation environment compliance assurance construction location smart city using drone image developed inference pipeline service computer vision use case using object detection image classification method implemented tiny object detection image classification skillsets computer vision object detection rabbitmq docker pytorch tensorflow opencv dielectric fluid leakage detection developed data driven solution detection leakage dielectric fluid high pressure fluid filled pipe underground electricity transmission line developed sequential neural network leak prediction using historical data developed streamlit app performing analysis sensor data skillsets time series analysis lstm long short term memory ann random forest streamlit electric vehicle smart battery solution contributed development electric vehicle smart battery solution various application forecasting useful life ev battery remaining range energy demand charging station using data driven approach skillsets time series analysis lstm long short term memory flask regression automotive defect analysis developed deep learning inference pipeline detection defective part automotive part dicelytics pvt ltd dice technology llc reservoir engineer data scientist jan 2021 sept 2021 physic assisted machine learning tool oil gas industry developed reservoir physic assisted artificial intelligence machine learning reinforced model simulate analyze support field implementation reservoir recovery management technology developed machine learning based classification technique using global database enhanced oil recovery screening selecting best possible enhanced oil recovery candidate given reservoir crude property developed tool history matching hydrocarbon production forecasting using sequential deep learning architecture skillsets time series analysis machine learning lstm physic indian institute technology indian school mine dhanbad teaching assistant july 2019 may 2021 helped professor organizing lecture content setting quiz exam paper evaluating answer sheet invigilation research work patent filed data encryption time series data published research work data driven approach hydrocarbon production forecasting using machine learning technique journal petroleum science engineering doi pre print teeth cavity classification classifying carious lesion based g v black caries classification using multiple hierarchical classification model generative adversarial network model sensor data generation based remaining useful life classification industrial equipment skill machine learning deep learning statistic linear algebra intuitive applied ml algorithm time series analysis computer vision predictive maintenance predictive analysis mlops framework kera tensorflow pytorch scikit learn opencv streamlit docker rabbitmq numpy panda matplotlib plotly flask domain skill engineering mathematics univariate multi variate calculus numerical simulation oil gas physic achievement open source contribution 1 gate 2020 pe air 64 02 2020 graduate aptitude test engineer 2 delivered multiple workshop many university across globe application python machine learning oil gas industry 3 delivered multiple workshop platform like analytics vidhya ai planet multiple topic data science 4 developing online tutorial youtube data science statistic physic based engineer 5 predictive maintenance pump failure prediction using machine learning 6 prediction hydrocarbon production based production parameter volve field data using machine learning 7 reservoir heterogeneity model statistical approach applying statistic describe reservoir rock heterogeneity extracurriculars co founder petroleum scratch e learning venture community mentor python data science petroleum data science contributor society petroleum engineer international wikipedia petrowiki public speaker presented talked several webinars workshop actively maintain github repository sharing project learning community taught physic ngo\n",
            "[['github', 'ai', 'machine learning', 'time series', 'deep learning', 'computer vision', 'python', 'python', 'data science', 'petroleum engineering', 'machine learning', 'petroleum engineering', 'anomaly detection', 'object detection', 'software', 'deep learning', 'framework', 'rabbitmq', 'computer vision', 'object detection', 'rabbitmq', 'pytorch', 'tensorflow', 'inference', 'computer vision', 'object detection', 'object detection', 'computer vision', 'object detection', 'pytorch', 'tensorflow', 'opencv', 'time series', 'random forest', 'time series', 'flask', 'deep learning', 'inference', 'machine learning', 'artificial intelligence', 'machine learning', 'support', 'machine learning', 'database', 'deep learning', 'time series', 'machine learning', 'encryption', 'time series', 'machine learning', 'engineering', 'network model', 'machine learning', 'deep learning', 'algorithm', 'time series', 'computer vision', 'framework', 'opencv', 'rabbitmq', 'numpy', 'plotly', 'flask', 'engineering', 'simulation', 'python', 'machine learning', 'analytics', 'ai', 'data science', 'data science', 'machine learning', 'machine learning', 'python', 'data science', 'data science', 'github']]\n",
            "['github', 'ai', 'machine learning', 'time series', 'deep learning', 'computer vision', 'python', 'python', 'data science', 'petroleum engineering', 'machine learning', 'petroleum engineering', 'anomaly detection', 'object detection', 'software', 'deep learning', 'framework', 'rabbitmq', 'computer vision', 'object detection', 'rabbitmq', 'pytorch', 'tensorflow', 'inference', 'computer vision', 'object detection', 'object detection', 'computer vision', 'object detection', 'pytorch', 'tensorflow', 'opencv', 'time series', 'random forest', 'time series', 'flask', 'deep learning', 'inference', 'machine learning', 'artificial intelligence', 'machine learning', 'support', 'machine learning', 'database', 'deep learning', 'time series', 'machine learning', 'encryption', 'time series', 'machine learning', 'engineering', 'network model', 'machine learning', 'deep learning', 'algorithm', 'time series', 'computer vision', 'framework', 'opencv', 'rabbitmq', 'numpy', 'plotly', 'flask', 'engineering', 'simulation', 'python', 'machine learning', 'analytics', 'ai', 'data science', 'data science', 'machine learning', 'machine learning', 'python', 'data science', 'data science', 'github']\n"
          ]
        },
        {
          "data": {
            "text/plain": [
              "['flask',\n",
              " 'opencv',\n",
              " 'deep learning',\n",
              " 'artificial intelligence',\n",
              " 'github',\n",
              " 'data science',\n",
              " 'object detection',\n",
              " 'pytorch',\n",
              " 'software',\n",
              " 'framework',\n",
              " 'random forest',\n",
              " 'tensorflow',\n",
              " 'network model',\n",
              " 'time series',\n",
              " 'rabbitmq',\n",
              " 'numpy',\n",
              " 'algorithm',\n",
              " 'inference',\n",
              " 'machine learning',\n",
              " 'anomaly detection',\n",
              " 'database',\n",
              " 'plotly',\n",
              " 'petroleum engineering',\n",
              " 'ai',\n",
              " 'simulation',\n",
              " 'engineering',\n",
              " 'support',\n",
              " 'python',\n",
              " 'computer vision',\n",
              " 'encryption',\n",
              " 'analytics']"
            ]
          },
          "execution_count": 15,
          "metadata": {},
          "output_type": "execute_result"
        }
      ],
      "source": [
        "skill_extractor('./artifacts/jc.pdf')"
      ]
    },
    {
      "cell_type": "code",
      "execution_count": 16,
      "metadata": {},
      "outputs": [],
      "source": [
        "a = ['1','2','a']"
      ]
    },
    {
      "cell_type": "code",
      "execution_count": 17,
      "metadata": {},
      "outputs": [
        {
          "data": {
            "text/plain": [
              "['1', '2', 'a']"
            ]
          },
          "execution_count": 17,
          "metadata": {},
          "output_type": "execute_result"
        }
      ],
      "source": [
        "a"
      ]
    },
    {
      "cell_type": "code",
      "execution_count": null,
      "metadata": {},
      "outputs": [],
      "source": []
    },
    {
      "attachments": {},
      "cell_type": "markdown",
      "metadata": {},
      "source": [
        "# Mongodb"
      ]
    },
    {
      "cell_type": "code",
      "execution_count": 1,
      "metadata": {},
      "outputs": [],
      "source": [
        "import pymongo"
      ]
    },
    {
      "cell_type": "code",
      "execution_count": 2,
      "metadata": {},
      "outputs": [],
      "source": [
        "from pymongo import MongoClient"
      ]
    },
    {
      "cell_type": "code",
      "execution_count": 3,
      "metadata": {},
      "outputs": [
        {
          "data": {
            "text/plain": [
              "MongoClient(host=['localhost:27017'], document_class=dict, tz_aware=False, connect=True)"
            ]
          },
          "execution_count": 3,
          "metadata": {},
          "output_type": "execute_result"
        }
      ],
      "source": [
        "client = pymongo.MongoClient(\"mongodb://localhost:27017\")\n",
        "client"
      ]
    },
    {
      "cell_type": "code",
      "execution_count": null,
      "metadata": {},
      "outputs": [],
      "source": []
    },
    {
      "cell_type": "code",
      "execution_count": 4,
      "metadata": {},
      "outputs": [
        {
          "data": {
            "text/plain": [
              "['admin', 'config', 'interai', 'local', 'test']"
            ]
          },
          "execution_count": 4,
          "metadata": {},
          "output_type": "execute_result"
        }
      ],
      "source": [
        "client.list_database_names()"
      ]
    },
    {
      "cell_type": "code",
      "execution_count": 5,
      "metadata": {},
      "outputs": [],
      "source": [
        "dataBase = client[\"test\"]"
      ]
    },
    {
      "cell_type": "code",
      "execution_count": 6,
      "metadata": {},
      "outputs": [
        {
          "data": {
            "text/plain": [
              "['admin', 'config', 'interai', 'local', 'test']"
            ]
          },
          "execution_count": 6,
          "metadata": {},
          "output_type": "execute_result"
        }
      ],
      "source": [
        "client.list_database_names()"
      ]
    },
    {
      "cell_type": "code",
      "execution_count": 7,
      "metadata": {},
      "outputs": [
        {
          "data": {
            "text/plain": [
              "Database(MongoClient(host=['localhost:27017'], document_class=dict, tz_aware=False, connect=True), 'test')"
            ]
          },
          "execution_count": 7,
          "metadata": {},
          "output_type": "execute_result"
        }
      ],
      "source": [
        "dataBase"
      ]
    },
    {
      "cell_type": "code",
      "execution_count": 8,
      "metadata": {},
      "outputs": [],
      "source": [
        "collection = dataBase['table1']"
      ]
    },
    {
      "cell_type": "code",
      "execution_count": 10,
      "metadata": {},
      "outputs": [
        {
          "name": "stdout",
          "output_type": "stream",
          "text": [
            "Collection:'table1' in Database:'test' exists\n"
          ]
        }
      ],
      "source": [
        "# let's verify whether we have our database in the list or not \n",
        "# we'll use the following function:-\n",
        "\n",
        "def checkExistence_COL(COLLECTION_NAME, DB_NAME, db):\n",
        "    \"\"\"It verifies the existence of collection name in a database\"\"\"\n",
        "    collection_list = db.list_collection_names()\n",
        "    \n",
        "    if COLLECTION_NAME in collection_list:\n",
        "        print(f\"Collection:'{COLLECTION_NAME}' in Database:'{DB_NAME}' exists\")\n",
        "        return True\n",
        "    \n",
        "    print(f\"Collection:'{COLLECTION_NAME}' in Database:'{DB_NAME}' does not exists OR \\n\\\n",
        "    no documents are present in the collection\")\n",
        "    return False\n",
        "\n",
        "\n",
        "_ = checkExistence_COL(COLLECTION_NAME=\"table1\", DB_NAME=\"test\", db=dataBase)"
      ]
    },
    {
      "cell_type": "code",
      "execution_count": 9,
      "metadata": {},
      "outputs": [
        {
          "data": {
            "text/plain": [
              "<pymongo.results.InsertOneResult at 0x21e7afb3850>"
            ]
          },
          "execution_count": 9,
          "metadata": {},
          "output_type": "execute_result"
        }
      ],
      "source": [
        "record = {'name': 'Jaiyesh',\n",
        "         'Resume': 'Affordable AI',\n",
        "         'courseOffered': 'Deep Learning for Computer Vision',\n",
        "         'name' : [\"jaiyesh\",\"chahar\"],\n",
        "         \"record_dict\" :{\"name\" :\"jaiyesh\" , \"mail_id\" : \"hello@fadfsaf.ai\",\"ph_number\" :543535}}\n",
        "\n",
        "collection.insert_one(record)"
      ]
    },
    {
      "cell_type": "code",
      "execution_count": 10,
      "metadata": {},
      "outputs": [],
      "source": [
        "list_of_records = [\n",
        "    {'companyName': 'iNeuron',\n",
        "     'product': 'Affordable AI',\n",
        "     'courseOffered': 'Machine Learning with Deployment'},\n",
        "    \n",
        "    {'companyName': 'iNeuron',\n",
        "     'product': 'Affordable AI',\n",
        "     'courseOffered': 'Deep Learning for NLP and Computer vision'},\n",
        "    \n",
        "    {'companyName': 'iNeuron',\n",
        "     'product': 'Master Program',\n",
        "     'courseOffered': 'Data Science Masters Program',\n",
        "    \"test\" : \"ffsdfsffsf\",\n",
        "     \"complex\" : [{\"name\" : \"jaiyesh\",\"list\" : [554,545,454,54,5,4]},{\"email_id\" :\"jaiyesh@dffsf\"},{\"phone_no\":345345345353},[4,54,534,5,45,5,45,4]]\n",
        "\n",
        "    }]\n",
        "    \n",
        "rec = collection.insert_many(list_of_records)"
      ]
    },
    {
      "cell_type": "code",
      "execution_count": 14,
      "metadata": {},
      "outputs": [
        {
          "data": {
            "text/plain": [
              "{'_id': ObjectId('6474a0a43ae87c78e14fe37f'),\n",
              " 'name': ['jaiyesh', 5466],\n",
              " 'Resume': 'Affordable AI',\n",
              " 'courseOffered': 'Deep Learning for Computer Vision',\n",
              " 'record_dict': {'name': 'jaiyesh',\n",
              "  'mail_id': 'hello@fadfsaf.ai',\n",
              "  'ph_number': 543535}}"
            ]
          },
          "execution_count": 14,
          "metadata": {},
          "output_type": "execute_result"
        }
      ],
      "source": [
        "collection.find_one()"
      ]
    },
    {
      "cell_type": "code",
      "execution_count": 20,
      "metadata": {},
      "outputs": [],
      "source": [
        "list_of_records = [\n",
        "    {'_id':4,\n",
        "     'companyName': 'inter',\n",
        "     'courseOffered': 'Machine Learning with Deployment'},\n",
        "    \n",
        "    {'_id':6,\n",
        "     'companyName': 'inteer',\n",
        "     'product': 'Affordable AI',\n",
        "     'courseOffered': 'Deep Learning for NLP and Computer vision'}]\n",
        "    \n",
        "rec = collection.insert_many(list_of_records)"
      ]
    },
    {
      "cell_type": "code",
      "execution_count": 11,
      "metadata": {},
      "outputs": [],
      "source": [
        "record = {'name': 'Jaiyesh',\n",
        "         'Resume': 'Affordable AI',\n",
        "         'courseOffered': 'Deep Learning for Computer Vision',\n",
        "         'name' : [\"jaiyesh\",\"chahar\"],\n",
        "         \"record_dict\" :{\"name\" :\"jaiyesh\" , \"mail_id\" : \"hello@fadfsaf.ai\",\"ph_number\" :543535}}\n",
        "\n",
        "i = collection.insert_one(record)"
      ]
    },
    {
      "cell_type": "code",
      "execution_count": 12,
      "metadata": {},
      "outputs": [
        {
          "data": {
            "text/plain": [
              "'6474c5dafdd91b5204575305'"
            ]
          },
          "execution_count": 12,
          "metadata": {},
          "output_type": "execute_result"
        }
      ],
      "source": [
        "str(i.inserted_id)"
      ]
    },
    {
      "cell_type": "code",
      "execution_count": 13,
      "metadata": {},
      "outputs": [
        {
          "data": {
            "text/plain": [
              "bson.objectid.ObjectId"
            ]
          },
          "execution_count": 13,
          "metadata": {},
          "output_type": "execute_result"
        }
      ],
      "source": [
        "type(i.inserted_id)"
      ]
    },
    {
      "cell_type": "code",
      "execution_count": 17,
      "metadata": {},
      "outputs": [
        {
          "data": {
            "text/plain": [
              "ObjectId('6474c5dafdd91b5204575305')"
            ]
          },
          "execution_count": 17,
          "metadata": {},
          "output_type": "execute_result"
        }
      ],
      "source": [
        "i.inserted_id"
      ]
    },
    {
      "cell_type": "code",
      "execution_count": 27,
      "metadata": {},
      "outputs": [],
      "source": [
        "from uuid import UUID\n"
      ]
    },
    {
      "cell_type": "code",
      "execution_count": 14,
      "metadata": {},
      "outputs": [],
      "source": [
        "import bson "
      ]
    },
    {
      "cell_type": "code",
      "execution_count": 16,
      "metadata": {},
      "outputs": [
        {
          "data": {
            "text/plain": [
              "ObjectId('6474c5dafdd91b5204575305')"
            ]
          },
          "execution_count": 16,
          "metadata": {},
          "output_type": "execute_result"
        }
      ],
      "source": [
        "bson.ObjectId(str(i.inserted_id))"
      ]
    },
    {
      "cell_type": "code",
      "execution_count": 32,
      "metadata": {},
      "outputs": [
        {
          "data": {
            "text/plain": [
              "ObjectId('6474a4dbbdb10bd22b1351a0')"
            ]
          },
          "execution_count": 32,
          "metadata": {},
          "output_type": "execute_result"
        }
      ],
      "source": [
        "i.inserted_id"
      ]
    },
    {
      "cell_type": "code",
      "execution_count": 36,
      "metadata": {},
      "outputs": [
        {
          "data": {
            "text/plain": [
              "'6474a4dbbdb10bd22b1351a0'"
            ]
          },
          "execution_count": 36,
          "metadata": {},
          "output_type": "execute_result"
        }
      ],
      "source": [
        "str(i.inserted_id)"
      ]
    },
    {
      "cell_type": "code",
      "execution_count": 35,
      "metadata": {},
      "outputs": [
        {
          "ename": "ValueError",
          "evalue": "badly formed hexadecimal UUID string",
          "output_type": "error",
          "traceback": [
            "\u001b[1;31m---------------------------------------------------------------------------\u001b[0m",
            "\u001b[1;31mValueError\u001b[0m                                Traceback (most recent call last)",
            "Cell \u001b[1;32mIn[35], line 1\u001b[0m\n\u001b[1;32m----> 1\u001b[0m uuid_str \u001b[39m=\u001b[39m UUID(\u001b[39mstr\u001b[39;49m(i\u001b[39m.\u001b[39;49minserted_id))\n",
            "File \u001b[1;32mc:\\Users\\Z004ET6Z\\Anaconda3\\envs\\skill_extractor\\lib\\uuid.py:171\u001b[0m, in \u001b[0;36mUUID.__init__\u001b[1;34m(self, hex, bytes, bytes_le, fields, int, version, is_safe)\u001b[0m\n\u001b[0;32m    169\u001b[0m     \u001b[39mhex\u001b[39m \u001b[39m=\u001b[39m \u001b[39mhex\u001b[39m\u001b[39m.\u001b[39mstrip(\u001b[39m'\u001b[39m\u001b[39m{}\u001b[39;00m\u001b[39m'\u001b[39m)\u001b[39m.\u001b[39mreplace(\u001b[39m'\u001b[39m\u001b[39m-\u001b[39m\u001b[39m'\u001b[39m, \u001b[39m'\u001b[39m\u001b[39m'\u001b[39m)\n\u001b[0;32m    170\u001b[0m     \u001b[39mif\u001b[39;00m \u001b[39mlen\u001b[39m(\u001b[39mhex\u001b[39m) \u001b[39m!=\u001b[39m \u001b[39m32\u001b[39m:\n\u001b[1;32m--> 171\u001b[0m         \u001b[39mraise\u001b[39;00m \u001b[39mValueError\u001b[39;00m(\u001b[39m'\u001b[39m\u001b[39mbadly formed hexadecimal UUID string\u001b[39m\u001b[39m'\u001b[39m)\n\u001b[0;32m    172\u001b[0m     \u001b[39mint\u001b[39m \u001b[39m=\u001b[39m int_(\u001b[39mhex\u001b[39m, \u001b[39m16\u001b[39m)\n\u001b[0;32m    173\u001b[0m \u001b[39mif\u001b[39;00m bytes_le \u001b[39mis\u001b[39;00m \u001b[39mnot\u001b[39;00m \u001b[39mNone\u001b[39;00m:\n",
            "\u001b[1;31mValueError\u001b[0m: badly formed hexadecimal UUID string"
          ]
        }
      ],
      "source": [
        "uuid_str = UUID(str(i.inserted_id))"
      ]
    },
    {
      "cell_type": "code",
      "execution_count": 28,
      "metadata": {},
      "outputs": [
        {
          "ename": "AttributeError",
          "evalue": "'ObjectId' object has no attribute 'replace'",
          "output_type": "error",
          "traceback": [
            "\u001b[1;31m---------------------------------------------------------------------------\u001b[0m",
            "\u001b[1;31mAttributeError\u001b[0m                            Traceback (most recent call last)",
            "Cell \u001b[1;32mIn[28], line 1\u001b[0m\n\u001b[1;32m----> 1\u001b[0m UUID(i\u001b[39m.\u001b[39;49minserted_id)\n",
            "File \u001b[1;32mc:\\Users\\Z004ET6Z\\Anaconda3\\envs\\skill_extractor\\lib\\uuid.py:168\u001b[0m, in \u001b[0;36mUUID.__init__\u001b[1;34m(self, hex, bytes, bytes_le, fields, int, version, is_safe)\u001b[0m\n\u001b[0;32m    165\u001b[0m     \u001b[39mraise\u001b[39;00m \u001b[39mTypeError\u001b[39;00m(\u001b[39m'\u001b[39m\u001b[39mone of the hex, bytes, bytes_le, fields, \u001b[39m\u001b[39m'\u001b[39m\n\u001b[0;32m    166\u001b[0m                     \u001b[39m'\u001b[39m\u001b[39mor int arguments must be given\u001b[39m\u001b[39m'\u001b[39m)\n\u001b[0;32m    167\u001b[0m \u001b[39mif\u001b[39;00m \u001b[39mhex\u001b[39m \u001b[39mis\u001b[39;00m \u001b[39mnot\u001b[39;00m \u001b[39mNone\u001b[39;00m:\n\u001b[1;32m--> 168\u001b[0m     \u001b[39mhex\u001b[39m \u001b[39m=\u001b[39m \u001b[39mhex\u001b[39;49m\u001b[39m.\u001b[39;49mreplace(\u001b[39m'\u001b[39m\u001b[39murn:\u001b[39m\u001b[39m'\u001b[39m, \u001b[39m'\u001b[39m\u001b[39m'\u001b[39m)\u001b[39m.\u001b[39mreplace(\u001b[39m'\u001b[39m\u001b[39muuid:\u001b[39m\u001b[39m'\u001b[39m, \u001b[39m'\u001b[39m\u001b[39m'\u001b[39m)\n\u001b[0;32m    169\u001b[0m     \u001b[39mhex\u001b[39m \u001b[39m=\u001b[39m \u001b[39mhex\u001b[39m\u001b[39m.\u001b[39mstrip(\u001b[39m'\u001b[39m\u001b[39m{}\u001b[39;00m\u001b[39m'\u001b[39m)\u001b[39m.\u001b[39mreplace(\u001b[39m'\u001b[39m\u001b[39m-\u001b[39m\u001b[39m'\u001b[39m, \u001b[39m'\u001b[39m\u001b[39m'\u001b[39m)\n\u001b[0;32m    170\u001b[0m     \u001b[39mif\u001b[39;00m \u001b[39mlen\u001b[39m(\u001b[39mhex\u001b[39m) \u001b[39m!=\u001b[39m \u001b[39m32\u001b[39m:\n",
            "\u001b[1;31mAttributeError\u001b[0m: 'ObjectId' object has no attribute 'replace'"
          ]
        }
      ],
      "source": []
    },
    {
      "cell_type": "code",
      "execution_count": 1,
      "metadata": {},
      "outputs": [
        {
          "ename": "NameError",
          "evalue": "name 'collection' is not defined",
          "output_type": "error",
          "traceback": [
            "\u001b[1;31m---------------------------------------------------------------------------\u001b[0m",
            "\u001b[1;31mNameError\u001b[0m                                 Traceback (most recent call last)",
            "Cell \u001b[1;32mIn[1], line 1\u001b[0m\n\u001b[1;32m----> 1\u001b[0m collection\n",
            "\u001b[1;31mNameError\u001b[0m: name 'collection' is not defined"
          ]
        }
      ],
      "source": [
        "collection"
      ]
    },
    {
      "attachments": {},
      "cell_type": "markdown",
      "metadata": {},
      "source": [
        "## Similarity"
      ]
    },
    {
      "cell_type": "code",
      "execution_count": 18,
      "metadata": {},
      "outputs": [],
      "source": [
        "from src.utilities import pdf_to_text,get_skills,unique_skills,make_directories\n"
      ]
    },
    {
      "cell_type": "code",
      "execution_count": 19,
      "metadata": {},
      "outputs": [
        {
          "name": "stderr",
          "output_type": "stream",
          "text": [
            "[nltk_data] Downloading package stopwords to\n",
            "[nltk_data]     C:\\Users\\Z004ET6Z\\AppData\\Roaming\\nltk_data...\n",
            "[nltk_data]   Package stopwords is already up-to-date!\n",
            "[nltk_data] Downloading package wordnet to\n",
            "[nltk_data]     C:\\Users\\Z004ET6Z\\AppData\\Roaming\\nltk_data...\n",
            "[nltk_data]   Package wordnet is already up-to-date!\n"
          ]
        }
      ],
      "source": [
        "from src.preprocess import cleaning_text"
      ]
    },
    {
      "cell_type": "code",
      "execution_count": 20,
      "metadata": {},
      "outputs": [],
      "source": [
        "import spacy\n",
        "import os \n",
        "from src.constants import Constants"
      ]
    },
    {
      "cell_type": "code",
      "execution_count": 21,
      "metadata": {},
      "outputs": [],
      "source": [
        "nlp = spacy.load(Constants.CORPUS.value)"
      ]
    },
    {
      "cell_type": "code",
      "execution_count": 22,
      "metadata": {},
      "outputs": [],
      "source": [
        "skill_pattern_path = Constants.ANNOTATIONS.value"
      ]
    },
    {
      "cell_type": "code",
      "execution_count": 23,
      "metadata": {},
      "outputs": [],
      "source": [
        "ruler = nlp.add_pipe(Constants.ENTITY_RULER.value)"
      ]
    },
    {
      "cell_type": "code",
      "execution_count": 24,
      "metadata": {},
      "outputs": [
        {
          "data": {
            "text/plain": [
              "<spacy.pipeline.entityruler.EntityRuler at 0x21e15ef1500>"
            ]
          },
          "execution_count": 24,
          "metadata": {},
          "output_type": "execute_result"
        }
      ],
      "source": [
        "ruler.from_disk(skill_pattern_path)"
      ]
    },
    {
      "cell_type": "code",
      "execution_count": 26,
      "metadata": {},
      "outputs": [],
      "source": [
        "def skill_extractor(pdf_path):\n",
        "  extracted_text = pdf_to_text(pdf_path)\n",
        "  cleaned_text = cleaning_text(extracted_text)\n",
        "  skills = get_skills(cleaned_text,nlp)\n",
        "  uniq_skills = unique_skills(skills)\n",
        "  extracted_skills = {\"SKILLS\":uniq_skills}\n",
        "  return extracted_skills"
      ]
    },
    {
      "cell_type": "code",
      "execution_count": 38,
      "metadata": {},
      "outputs": [],
      "source": [
        "skills=  skill_extractor(\"artifacts/jc.pdf\")"
      ]
    },
    {
      "cell_type": "code",
      "execution_count": 39,
      "metadata": {},
      "outputs": [
        {
          "data": {
            "text/plain": [
              "{'SKILLS': ['algorithm',\n",
              "  'simulation',\n",
              "  'encryption',\n",
              "  'database',\n",
              "  'rabbitmq',\n",
              "  'framework',\n",
              "  'ai',\n",
              "  'tensorflow',\n",
              "  'anomaly detection',\n",
              "  'random forest',\n",
              "  'artificial intelligence',\n",
              "  'github',\n",
              "  'pytorch',\n",
              "  'data science',\n",
              "  'support',\n",
              "  'network model',\n",
              "  'inference',\n",
              "  'opencv',\n",
              "  'deep learning',\n",
              "  'numpy',\n",
              "  'plotly',\n",
              "  'machine learning',\n",
              "  'python',\n",
              "  'analytics',\n",
              "  'engineering',\n",
              "  'software',\n",
              "  'computer vision',\n",
              "  'object detection',\n",
              "  'petroleum engineering',\n",
              "  'flask',\n",
              "  'time series']}"
            ]
          },
          "execution_count": 39,
          "metadata": {},
          "output_type": "execute_result"
        }
      ],
      "source": [
        "skills"
      ]
    },
    {
      "cell_type": "code",
      "execution_count": 29,
      "metadata": {},
      "outputs": [
        {
          "data": {
            "text/plain": [
              "dict"
            ]
          },
          "execution_count": 29,
          "metadata": {},
          "output_type": "execute_result"
        }
      ],
      "source": [
        "type(skills)"
      ]
    },
    {
      "cell_type": "code",
      "execution_count": 30,
      "metadata": {},
      "outputs": [
        {
          "data": {
            "text/plain": [
              "['algorithm',\n",
              " 'simulation',\n",
              " 'encryption',\n",
              " 'database',\n",
              " 'rabbitmq',\n",
              " 'framework',\n",
              " 'ai',\n",
              " 'tensorflow',\n",
              " 'anomaly detection',\n",
              " 'random forest',\n",
              " 'artificial intelligence',\n",
              " 'github',\n",
              " 'pytorch',\n",
              " 'data science',\n",
              " 'support',\n",
              " 'network model',\n",
              " 'inference',\n",
              " 'opencv',\n",
              " 'deep learning',\n",
              " 'numpy',\n",
              " 'plotly',\n",
              " 'machine learning',\n",
              " 'python',\n",
              " 'analytics',\n",
              " 'engineering',\n",
              " 'software',\n",
              " 'computer vision',\n",
              " 'object detection',\n",
              " 'petroleum engineering',\n",
              " 'flask',\n",
              " 'time series']"
            ]
          },
          "execution_count": 30,
          "metadata": {},
          "output_type": "execute_result"
        }
      ],
      "source": [
        "skills['SKILLS']"
      ]
    },
    {
      "cell_type": "code",
      "execution_count": 31,
      "metadata": {},
      "outputs": [
        {
          "data": {
            "text/plain": [
              "list"
            ]
          },
          "execution_count": 31,
          "metadata": {},
          "output_type": "execute_result"
        }
      ],
      "source": [
        "type(skills[\"SKILLS\"])"
      ]
    },
    {
      "cell_type": "code",
      "execution_count": 36,
      "metadata": {},
      "outputs": [],
      "source": [
        "skills_2=  skill_extractor(\"artifacts/jd_sr.pdf\")"
      ]
    },
    {
      "cell_type": "code",
      "execution_count": 37,
      "metadata": {},
      "outputs": [
        {
          "data": {
            "text/plain": [
              "{'SKILLS': ['algorithm',\n",
              "  'elasticsearch',\n",
              "  'presto',\n",
              "  'oracle',\n",
              "  'throughput',\n",
              "  'scala',\n",
              "  'database',\n",
              "  'ai',\n",
              "  'seasonality',\n",
              "  'java',\n",
              "  'artificial intelligence',\n",
              "  'design',\n",
              "  'data science',\n",
              "  'business intelligence',\n",
              "  'business',\n",
              "  'serverless',\n",
              "  'natural language',\n",
              "  'security',\n",
              "  'machine learning',\n",
              "  'python',\n",
              "  'software engineering',\n",
              "  'analytics',\n",
              "  'debugging',\n",
              "  'engineering',\n",
              "  'software',\n",
              "  'data system',\n",
              "  'data structure',\n",
              "  'box',\n",
              "  'data processing',\n",
              "  'time series',\n",
              "  'google',\n",
              "  'ml']}"
            ]
          },
          "execution_count": 37,
          "metadata": {},
          "output_type": "execute_result"
        }
      ],
      "source": [
        "skills_2"
      ]
    },
    {
      "cell_type": "code",
      "execution_count": 40,
      "metadata": {},
      "outputs": [
        {
          "ename": "ModuleNotFoundError",
          "evalue": "No module named 'gensim'",
          "output_type": "error",
          "traceback": [
            "\u001b[1;31m---------------------------------------------------------------------------\u001b[0m",
            "\u001b[1;31mModuleNotFoundError\u001b[0m                       Traceback (most recent call last)",
            "Cell \u001b[1;32mIn[40], line 1\u001b[0m\n\u001b[1;32m----> 1\u001b[0m \u001b[39mimport\u001b[39;00m \u001b[39mgensim\u001b[39;00m\n",
            "\u001b[1;31mModuleNotFoundError\u001b[0m: No module named 'gensim'"
          ]
        }
      ],
      "source": [
        "import gensim"
      ]
    },
    {
      "cell_type": "code",
      "execution_count": null,
      "metadata": {},
      "outputs": [],
      "source": []
    }
  ],
  "metadata": {
    "colab": {
      "provenance": []
    },
    "kernelspec": {
      "display_name": "Python 3",
      "name": "python3"
    },
    "language_info": {
      "codemirror_mode": {
        "name": "ipython",
        "version": 3
      },
      "file_extension": ".py",
      "mimetype": "text/x-python",
      "name": "python",
      "nbconvert_exporter": "python",
      "pygments_lexer": "ipython3",
      "version": "3.8.16"
    }
  },
  "nbformat": 4,
  "nbformat_minor": 0
}
